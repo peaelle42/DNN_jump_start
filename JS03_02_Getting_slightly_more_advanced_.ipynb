{
  "nbformat": 4,
  "nbformat_minor": 0,
  "metadata": {
    "colab": {
      "name": "JS03-02. Getting slightly more advanced-.ipynb",
      "version": "0.3.2",
      "provenance": [],
      "include_colab_link": true
    },
    "kernelspec": {
      "display_name": "Python 3",
      "language": "python",
      "name": "python3"
    },
    "accelerator": "GPU"
  },
  "cells": [
    {
      "cell_type": "markdown",
      "metadata": {
        "id": "view-in-github",
        "colab_type": "text"
      },
      "source": [
        "[View in Colaboratory](https://colab.research.google.com/github/peaelle42/DNN_jump_start/blob/master/JS03_02_Getting_slightly_more_advanced_.ipynb)"
      ]
    },
    {
      "metadata": {
        "id": "DNOIe4e0m9iV",
        "colab_type": "text"
      },
      "cell_type": "markdown",
      "source": [
        "## Testing for GPU\n",
        "\n",
        "To Test if you have GPU set up\n",
        "\n",
        "Run the Cell below\n",
        "\n",
        "if no GPU is found press Runtime (in the menu at the top) and choose \"Change Runtime Type\" to GPU\n",
        " "
      ]
    },
    {
      "metadata": {
        "id": "daX1PO2TnBlJ",
        "colab_type": "code",
        "colab": {
          "base_uri": "https://localhost:8080/",
          "height": 35
        },
        "outputId": "d5f0a33e-abea-4e7c-96de-49d3a741a10a"
      },
      "cell_type": "code",
      "source": [
        "import tensorflow as tf\n",
        "device_name = tf.test.gpu_device_name()\n",
        "if device_name != '/device:GPU:0':\n",
        "  raise SystemError('GPU device not found')\n",
        "print('Found GPU at: {}'.format(device_name))"
      ],
      "execution_count": 1,
      "outputs": [
        {
          "output_type": "stream",
          "text": [
            "Found GPU at: /device:GPU:0\n"
          ],
          "name": "stdout"
        }
      ]
    },
    {
      "metadata": {
        "id": "oe8V2uQh9zbO",
        "colab_type": "text"
      },
      "cell_type": "markdown",
      "source": [
        "## 2. Getting slightly more advanced\n"
      ]
    },
    {
      "metadata": {
        "id": "PKM3s4xx9zbQ",
        "colab_type": "code",
        "colab": {}
      },
      "cell_type": "code",
      "source": [
        "%matplotlib inline\n",
        "import matplotlib.pyplot as plt\n",
        "\n",
        "import tensorflow.python.keras\n",
        "from tensorflow.python.keras.models import Model, Sequential\n",
        "from tensorflow.python.keras.layers import *\n",
        "from tensorflow.python.keras.optimizers import Adam\n",
        "from tensorflow.python.keras import backend as K\n",
        "\n",
        "import tensorflow as tf\n",
        "import numpy as np"
      ],
      "execution_count": 0,
      "outputs": []
    },
    {
      "metadata": {
        "id": "5IlfDKhB9zbV",
        "colab_type": "code",
        "colab": {
          "base_uri": "https://localhost:8080/",
          "height": 52
        },
        "outputId": "60e4bc75-58d6-4c29-8b94-97d96063685a"
      },
      "cell_type": "code",
      "source": [
        "print(tf.keras.__version__)\n",
        "print(tf.__version__)"
      ],
      "execution_count": 3,
      "outputs": [
        {
          "output_type": "stream",
          "text": [
            "2.1.6-tf\n",
            "1.9.0-rc2\n"
          ],
          "name": "stdout"
        }
      ]
    },
    {
      "metadata": {
        "id": "hq1bR2rf9zbb",
        "colab_type": "text"
      },
      "cell_type": "markdown",
      "source": [
        "### Lets import our dataset"
      ]
    },
    {
      "metadata": {
        "id": "M6lc60yE9zbb",
        "colab_type": "code",
        "colab": {}
      },
      "cell_type": "code",
      "source": [
        "from tensorflow.python.keras.datasets import mnist\n",
        "\n",
        "(x_train, y_train), (x_test, y_test) = mnist.load_data()"
      ],
      "execution_count": 0,
      "outputs": []
    },
    {
      "metadata": {
        "id": "QE3sIsEC9zbe",
        "colab_type": "code",
        "colab": {
          "base_uri": "https://localhost:8080/",
          "height": 69
        },
        "outputId": "6eccdf77-ab3d-43cf-8c38-199cb5858b00"
      },
      "cell_type": "code",
      "source": [
        "x_train = x_train.reshape(60000, 784)\n",
        "x_test = x_test.reshape(10000, 784)\n",
        "x_train = x_train.astype('float32')\n",
        "x_test = x_test.astype('float32')\n",
        "x_train /= 255\n",
        "x_test /= 255\n",
        "print(x_train.shape, 'train samples')\n",
        "print(x_test.shape, 'test samples')\n",
        "\n",
        "n_classes = 10\n",
        "# convert class vectors to binary One Hot Encoded\n",
        "y_train = tf.keras.utils.to_categorical(y_train, n_classes)\n",
        "y_test = tf.keras.utils.to_categorical(y_test, n_classes)\n",
        "y_train[0]"
      ],
      "execution_count": 5,
      "outputs": [
        {
          "output_type": "stream",
          "text": [
            "(60000, 784) train samples\n",
            "(10000, 784) test samples\n"
          ],
          "name": "stdout"
        },
        {
          "output_type": "execute_result",
          "data": {
            "text/plain": [
              "array([0., 0., 0., 0., 0., 1., 0., 0., 0., 0.], dtype=float32)"
            ]
          },
          "metadata": {
            "tags": []
          },
          "execution_count": 5
        }
      ]
    },
    {
      "metadata": {
        "id": "xnsQtySr9zbk",
        "colab_type": "text"
      },
      "cell_type": "markdown",
      "source": [
        "### Setting up our Network Hyper Parameters"
      ]
    },
    {
      "metadata": {
        "id": "oS4-MoBu9zbl",
        "colab_type": "code",
        "colab": {}
      },
      "cell_type": "code",
      "source": [
        "# Training Parameters for basic MNIST\n",
        "learning_rate = 0.1 \n",
        "training_epochs = 10\n",
        "batch_size = 100\n",
        "\n",
        "# Network Parameters\n",
        "n_input = 784 # MNIST data input (img shape: 28*28 flattened to be 784)\n",
        "n_hidden_1 = 384 # 1st layer number of neurons\n",
        "n_hidden_2 = 100 # 2nd layer number of neurons\n",
        "n_hidden_3 = 100 # 2nd layer number of neurons\n",
        "n_classes = 10 # MNIST classes for prediction(digits 0-9 )"
      ],
      "execution_count": 0,
      "outputs": []
    },
    {
      "metadata": {
        "id": "1mQhP6SL9zbo",
        "colab_type": "text"
      },
      "cell_type": "markdown",
      "source": [
        "### This time we are going to make a functional model instead of a sequential model"
      ]
    },
    {
      "metadata": {
        "id": "hvT6TTk-9zbp",
        "colab_type": "code",
        "colab": {}
      },
      "cell_type": "code",
      "source": [
        "Inp = Input(shape=(784,))\n",
        "x = Dense(n_hidden_1, activation='relu', name = \"Dense_1\")(Inp)\n",
        "x = Dense(n_hidden_2, activation='relu', name = \"Dense_2\")(x)\n",
        "x = Dense(n_hidden_3, activation='relu', name = \"Dense_3\")(x)\n",
        "x = Dense(n_hidden_3, activation='relu', name = \"Dense_4\")(x)\n",
        "output = Dense(n_classes, activation='softmax', name = \"Outputlayer\")(x)\n"
      ],
      "execution_count": 0,
      "outputs": []
    },
    {
      "metadata": {
        "id": "ldmwDo0c9zbs",
        "colab_type": "code",
        "colab": {}
      },
      "cell_type": "code",
      "source": [
        "# This creates a model that includes our input, 3 dense hidden layers, output layer\n",
        "model = Model(Inp, output)"
      ],
      "execution_count": 0,
      "outputs": []
    },
    {
      "metadata": {
        "id": "V2TGpyFz9zbw",
        "colab_type": "code",
        "colab": {
          "base_uri": "https://localhost:8080/",
          "height": 345
        },
        "outputId": "39f245cd-3bfe-473d-ce53-c794929ebaa9"
      },
      "cell_type": "code",
      "source": [
        "model.summary()"
      ],
      "execution_count": 9,
      "outputs": [
        {
          "output_type": "stream",
          "text": [
            "_________________________________________________________________\n",
            "Layer (type)                 Output Shape              Param #   \n",
            "=================================================================\n",
            "input_1 (InputLayer)         (None, 784)               0         \n",
            "_________________________________________________________________\n",
            "Dense_1 (Dense)              (None, 384)               301440    \n",
            "_________________________________________________________________\n",
            "Dense_2 (Dense)              (None, 100)               38500     \n",
            "_________________________________________________________________\n",
            "Dense_3 (Dense)              (None, 100)               10100     \n",
            "_________________________________________________________________\n",
            "Dense_4 (Dense)              (None, 100)               10100     \n",
            "_________________________________________________________________\n",
            "Outputlayer (Dense)          (None, 10)                1010      \n",
            "=================================================================\n",
            "Total params: 361,150\n",
            "Trainable params: 361,150\n",
            "Non-trainable params: 0\n",
            "_________________________________________________________________\n"
          ],
          "name": "stdout"
        }
      ]
    },
    {
      "metadata": {
        "id": "tjrHsPw49zbz",
        "colab_type": "code",
        "colab": {}
      },
      "cell_type": "code",
      "source": [
        "model.compile(loss='categorical_crossentropy',\n",
        "              optimizer='SGD',\n",
        "              metrics=['accuracy'])"
      ],
      "execution_count": 0,
      "outputs": []
    },
    {
      "metadata": {
        "id": "C8k3E3KA9zb2",
        "colab_type": "code",
        "colab": {}
      },
      "cell_type": "code",
      "source": [
        "#Settting the learning rate\n",
        "K.set_value(model.optimizer.lr, learning_rate)"
      ],
      "execution_count": 0,
      "outputs": []
    },
    {
      "metadata": {
        "id": "gTocWISY9zb5",
        "colab_type": "code",
        "colab": {
          "base_uri": "https://localhost:8080/",
          "height": 400
        },
        "outputId": "832d056e-b61e-4436-c9a4-9303915d6de0"
      },
      "cell_type": "code",
      "source": [
        "history = model.fit(x_train, y_train,\n",
        "                    batch_size=batch_size,\n",
        "                    epochs=training_epochs,\n",
        "                    verbose=1, # This is for what we want it to display out as it trains \n",
        "                    validation_data=(x_test, y_test))"
      ],
      "execution_count": 12,
      "outputs": [
        {
          "output_type": "stream",
          "text": [
            "Train on 60000 samples, validate on 10000 samples\n",
            "Epoch 1/10\n",
            "60000/60000 [==============================] - 4s 74us/step - loss: 0.4144 - acc: 0.8749 - val_loss: 0.1822 - val_acc: 0.9434\n",
            "Epoch 2/10\n",
            "60000/60000 [==============================] - 4s 70us/step - loss: 0.1401 - acc: 0.9581 - val_loss: 0.1147 - val_acc: 0.9646\n",
            "Epoch 3/10\n",
            "60000/60000 [==============================] - 4s 70us/step - loss: 0.0950 - acc: 0.9716 - val_loss: 0.1068 - val_acc: 0.9659\n",
            "Epoch 4/10\n",
            "51300/60000 [========================>.....] - ETA: 0s - loss: 0.0705 - acc: 0.9796"
          ],
          "name": "stdout"
        },
        {
          "output_type": "stream",
          "text": [
            "60000/60000 [==============================] - 4s 67us/step - loss: 0.0713 - acc: 0.9791 - val_loss: 0.0938 - val_acc: 0.9707\n",
            "Epoch 5/10\n",
            "60000/60000 [==============================] - 4s 66us/step - loss: 0.0530 - acc: 0.9840 - val_loss: 0.1006 - val_acc: 0.9694\n",
            "Epoch 6/10\n",
            "60000/60000 [==============================] - 4s 64us/step - loss: 0.0420 - acc: 0.9872 - val_loss: 0.0769 - val_acc: 0.9776\n",
            "Epoch 7/10\n",
            "60000/60000 [==============================] - 4s 62us/step - loss: 0.0323 - acc: 0.9904 - val_loss: 0.0755 - val_acc: 0.9795\n",
            "Epoch 8/10\n",
            "30100/60000 [==============>...............] - ETA: 1s - loss: 0.0221 - acc: 0.9940"
          ],
          "name": "stdout"
        },
        {
          "output_type": "stream",
          "text": [
            "60000/60000 [==============================] - 4s 65us/step - loss: 0.0249 - acc: 0.9928 - val_loss: 0.0873 - val_acc: 0.9731\n",
            "Epoch 9/10\n",
            "60000/60000 [==============================] - 4s 65us/step - loss: 0.0207 - acc: 0.9936 - val_loss: 0.0719 - val_acc: 0.9799\n",
            "Epoch 10/10\n",
            "60000/60000 [==============================] - 4s 66us/step - loss: 0.0166 - acc: 0.9951 - val_loss: 0.0695 - val_acc: 0.9806\n"
          ],
          "name": "stdout"
        }
      ]
    },
    {
      "metadata": {
        "id": "_V7jiezv9zb9",
        "colab_type": "code",
        "colab": {}
      },
      "cell_type": "code",
      "source": [
        "def plot_train(hist):\n",
        "    h = hist.history\n",
        "    if 'acc' in h:\n",
        "        meas='acc'\n",
        "        loc='lower right'\n",
        "    else:\n",
        "        meas='loss'\n",
        "        loc='upper right'\n",
        "    plt.plot(hist.history[meas])\n",
        "    plt.plot(hist.history['val_'+meas])\n",
        "    plt.title('model '+meas)\n",
        "    plt.ylabel(meas)\n",
        "    plt.xlabel('epoch')\n",
        "    plt.legend(['train', 'validation'], loc=loc)\n",
        "    "
      ],
      "execution_count": 0,
      "outputs": []
    },
    {
      "metadata": {
        "id": "C1sSBYAj9zcC",
        "colab_type": "code",
        "colab": {
          "base_uri": "https://localhost:8080/",
          "height": 295
        },
        "outputId": "5bb3a807-f7a0-4afb-dc3d-67cbc54ae2c4"
      },
      "cell_type": "code",
      "source": [
        "plot_train(history)"
      ],
      "execution_count": 14,
      "outputs": [
        {
          "output_type": "display_data",
          "data": {
            "image/png": "[encoded data removed]",
            "text/plain": [
              "<matplotlib.figure.Figure at 0x7fc2d0ac18d0>"
            ]
          },
          "metadata": {
            "tags": []
          }
        }
      ]
    },
    {
      "metadata": {
        "id": "NvrUyl4H9zcE",
        "colab_type": "code",
        "colab": {}
      },
      "cell_type": "code",
      "source": [
        ""
      ],
      "execution_count": 0,
      "outputs": []
    },
    {
      "metadata": {
        "id": "nnj1AEX49zcG",
        "colab_type": "text"
      },
      "cell_type": "markdown",
      "source": [
        "Now lets add dropput\n",
        "\n",
        "Dropout(0.3) = randomly dropout 30% of the units each pass through"
      ]
    },
    {
      "metadata": {
        "id": "U9vSmyGP9zcH",
        "colab_type": "code",
        "colab": {}
      },
      "cell_type": "code",
      "source": [
        "Inp = Input(shape=(784,))\n",
        "x = Dense(n_hidden_1, activation='relu', name = \"Dense_1\")(Inp)\n",
        "x = Dropout(0.3)(x)\n",
        "x = Dense(n_hidden_2, activation='relu', name = \"Dense_2\")(x)\n",
        "x = Dropout(0.3)(x)\n",
        "x = Dense(n_hidden_3, activation='relu', name = \"Dense_3\")(x)\n",
        "output = Dense(n_classes, activation='softmax', name = \"Outputlayer\")(x)\n"
      ],
      "execution_count": 0,
      "outputs": []
    },
    {
      "metadata": {
        "id": "wmPu-qCd9zcJ",
        "colab_type": "code",
        "colab": {}
      },
      "cell_type": "code",
      "source": [
        "model = Model(Inp, output)"
      ],
      "execution_count": 0,
      "outputs": []
    },
    {
      "metadata": {
        "id": "jPdLuK2W9zcK",
        "colab_type": "code",
        "colab": {
          "base_uri": "https://localhost:8080/",
          "height": 380
        },
        "outputId": "1395303b-196d-415f-a61b-b5145277a5bc"
      },
      "cell_type": "code",
      "source": [
        "model.summary()"
      ],
      "execution_count": 17,
      "outputs": [
        {
          "output_type": "stream",
          "text": [
            "_________________________________________________________________\n",
            "Layer (type)                 Output Shape              Param #   \n",
            "=================================================================\n",
            "input_2 (InputLayer)         (None, 784)               0         \n",
            "_________________________________________________________________\n",
            "Dense_1 (Dense)              (None, 384)               301440    \n",
            "_________________________________________________________________\n",
            "dropout (Dropout)            (None, 384)               0         \n",
            "_________________________________________________________________\n",
            "Dense_2 (Dense)              (None, 100)               38500     \n",
            "_________________________________________________________________\n",
            "dropout_1 (Dropout)          (None, 100)               0         \n",
            "_________________________________________________________________\n",
            "Dense_3 (Dense)              (None, 100)               10100     \n",
            "_________________________________________________________________\n",
            "Outputlayer (Dense)          (None, 10)                1010      \n",
            "=================================================================\n",
            "Total params: 351,050\n",
            "Trainable params: 351,050\n",
            "Non-trainable params: 0\n",
            "_________________________________________________________________\n"
          ],
          "name": "stdout"
        }
      ]
    },
    {
      "metadata": {
        "id": "AVvbyeVZ9zcM",
        "colab_type": "code",
        "colab": {}
      },
      "cell_type": "code",
      "source": [
        "model.compile(loss='categorical_crossentropy',\n",
        "              optimizer='SGD',\n",
        "              metrics=['accuracy'])"
      ],
      "execution_count": 0,
      "outputs": []
    },
    {
      "metadata": {
        "id": "xhdDUkXj9zcN",
        "colab_type": "code",
        "colab": {
          "base_uri": "https://localhost:8080/",
          "height": 400
        },
        "outputId": "ac2f9d71-e4d2-4258-b071-7c37823e36d5"
      },
      "cell_type": "code",
      "source": [
        "history = model.fit(x_train, y_train,\n",
        "                    batch_size=batch_size,\n",
        "                    epochs=training_epochs,\n",
        "                    verbose=1, # This is for what we want it to display out as it trains \n",
        "                    validation_data=(x_test, y_test))"
      ],
      "execution_count": 19,
      "outputs": [
        {
          "output_type": "stream",
          "text": [
            "Train on 60000 samples, validate on 10000 samples\n",
            "Epoch 1/10\n",
            "60000/60000 [==============================] - 4s 67us/step - loss: 1.4246 - acc: 0.5541 - val_loss: 0.5463 - val_acc: 0.8550\n",
            "Epoch 2/10\n",
            "60000/60000 [==============================] - 4s 71us/step - loss: 0.6285 - acc: 0.8086 - val_loss: 0.3657 - val_acc: 0.8983\n",
            "Epoch 3/10\n",
            "60000/60000 [==============================] - 4s 71us/step - loss: 0.4879 - acc: 0.8539 - val_loss: 0.3095 - val_acc: 0.9120\n",
            "Epoch 4/10\n",
            "47700/60000 [======================>.......] - ETA: 0s - loss: 0.4214 - acc: 0.8762"
          ],
          "name": "stdout"
        },
        {
          "output_type": "stream",
          "text": [
            "60000/60000 [==============================] - 4s 73us/step - loss: 0.4177 - acc: 0.8770 - val_loss: 0.2726 - val_acc: 0.9207\n",
            "Epoch 5/10\n",
            "60000/60000 [==============================] - 5s 79us/step - loss: 0.3723 - acc: 0.8911 - val_loss: 0.2440 - val_acc: 0.9296\n",
            "Epoch 6/10\n",
            "60000/60000 [==============================] - 5s 79us/step - loss: 0.3398 - acc: 0.9009 - val_loss: 0.2256 - val_acc: 0.9342\n",
            "Epoch 7/10\n",
            "60000/60000 [==============================] - 5s 80us/step - loss: 0.3110 - acc: 0.9085 - val_loss: 0.2065 - val_acc: 0.9404\n",
            "Epoch 8/10\n",
            " 6100/60000 [==>...........................] - ETA: 3s - loss: 0.2981 - acc: 0.9087"
          ],
          "name": "stdout"
        },
        {
          "output_type": "stream",
          "text": [
            "60000/60000 [==============================] - 5s 80us/step - loss: 0.2868 - acc: 0.9157 - val_loss: 0.1933 - val_acc: 0.9428\n",
            "Epoch 9/10\n",
            "60000/60000 [==============================] - 5s 80us/step - loss: 0.2670 - acc: 0.9218 - val_loss: 0.1818 - val_acc: 0.9464\n",
            "Epoch 10/10\n",
            "60000/60000 [==============================] - 4s 74us/step - loss: 0.2530 - acc: 0.9258 - val_loss: 0.1707 - val_acc: 0.9496\n"
          ],
          "name": "stdout"
        }
      ]
    },
    {
      "metadata": {
        "id": "CLxFsSA59zcQ",
        "colab_type": "code",
        "colab": {
          "base_uri": "https://localhost:8080/",
          "height": 295
        },
        "outputId": "91e07ea8-77c9-4042-f856-64afc1964a32"
      },
      "cell_type": "code",
      "source": [
        "plot_train(history)"
      ],
      "execution_count": 20,
      "outputs": [
        {
          "output_type": "display_data",
          "data": {
            "image/png": "[encoded data removed]",
            "text/plain": [
              "<matplotlib.figure.Figure at 0x7fc2ca0ea8d0>"
            ]
          },
          "metadata": {
            "tags": []
          }
        }
      ]
    },
    {
      "metadata": {
        "id": "00i9SrKp9zcR",
        "colab_type": "code",
        "colab": {
          "base_uri": "https://localhost:8080/",
          "height": 225
        },
        "outputId": "11998177-be7f-4133-f6c8-98c490a7fe4d"
      },
      "cell_type": "code",
      "source": [
        "model.predict(x_test[0:4])"
      ],
      "execution_count": 21,
      "outputs": [
        {
          "output_type": "execute_result",
          "data": {
            "text/plain": [
              "array([[4.4451775e-05, 1.1214480e-05, 2.9458929e-04, 6.2117627e-04,\n",
              "        1.0339596e-06, 3.9710671e-06, 1.4541791e-07, 9.9829072e-01,\n",
              "        8.0294076e-06, 7.2473136e-04],\n",
              "       [8.2638330e-04, 6.3439336e-05, 9.9041116e-01, 4.0328098e-03,\n",
              "        1.6102048e-07, 3.9424261e-04, 2.5784010e-03, 1.7029720e-06,\n",
              "        1.6909003e-03, 7.1049226e-07],\n",
              "       [4.4573562e-06, 9.9471408e-01, 1.6029248e-03, 6.6672766e-04,\n",
              "        2.8322742e-04, 6.2886298e-05, 1.9519828e-04, 1.8116548e-03,\n",
              "        5.2907440e-04, 1.2980732e-04],\n",
              "       [9.9891555e-01, 1.0959906e-06, 2.7784193e-04, 4.1444797e-05,\n",
              "        1.2944548e-07, 2.5478832e-04, 2.3587402e-04, 2.3271907e-04,\n",
              "        9.1557849e-06, 3.1399974e-05]], dtype=float32)"
            ]
          },
          "metadata": {
            "tags": []
          },
          "execution_count": 21
        }
      ]
    },
    {
      "metadata": {
        "id": "SRmtQqpt9zcT",
        "colab_type": "code",
        "colab": {
          "base_uri": "https://localhost:8080/",
          "height": 52
        },
        "outputId": "48811930-8a94-4a6e-83a5-293e5db092aa"
      },
      "cell_type": "code",
      "source": [
        "score = model.evaluate(x_test, y_test, verbose=0)\n",
        "print('Test loss:', score[0])\n",
        "print('Test accuracy:', score[1])"
      ],
      "execution_count": 22,
      "outputs": [
        {
          "output_type": "stream",
          "text": [
            "Test loss: 0.17069652752503753\n",
            "Test accuracy: 0.9496\n"
          ],
          "name": "stdout"
        }
      ]
    },
    {
      "metadata": {
        "id": "0O9f2EEE9zcW",
        "colab_type": "text"
      },
      "cell_type": "markdown",
      "source": [
        "### Build a netowork with at least 7 layers and uses dropout"
      ]
    },
    {
      "metadata": {
        "id": "VBGrWqbH9zcW",
        "colab_type": "code",
        "colab": {}
      },
      "cell_type": "code",
      "source": [
        ""
      ],
      "execution_count": 0,
      "outputs": []
    },
    {
      "metadata": {
        "id": "m689yv-h9zcX",
        "colab_type": "code",
        "colab": {}
      },
      "cell_type": "code",
      "source": [
        ""
      ],
      "execution_count": 0,
      "outputs": []
    },
    {
      "metadata": {
        "id": "YR2unLb79zca",
        "colab_type": "code",
        "colab": {}
      },
      "cell_type": "code",
      "source": [
        ""
      ],
      "execution_count": 0,
      "outputs": []
    },
    {
      "metadata": {
        "id": "tZnWhhRi9zcb",
        "colab_type": "code",
        "colab": {}
      },
      "cell_type": "code",
      "source": [
        ""
      ],
      "execution_count": 0,
      "outputs": []
    },
    {
      "metadata": {
        "id": "8phZ3RrN9zce",
        "colab_type": "code",
        "colab": {}
      },
      "cell_type": "code",
      "source": [
        ""
      ],
      "execution_count": 0,
      "outputs": []
    },
    {
      "metadata": {
        "id": "W53ZxlCy9zcg",
        "colab_type": "code",
        "colab": {}
      },
      "cell_type": "code",
      "source": [
        ""
      ],
      "execution_count": 0,
      "outputs": []
    }
  ]
}