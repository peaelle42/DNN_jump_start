{
  "nbformat": 4,
  "nbformat_minor": 0,
  "metadata": {
    "colab": {
      "name": "JS03-Tensorboard on Google Colab.ipynb",
      "version": "0.3.2",
      "provenance": [],
      "include_colab_link": true
    },
    "kernelspec": {
      "name": "python3",
      "display_name": "Python 3"
    },
    "accelerator": "GPU"
  },
  "cells": [
    {
      "cell_type": "markdown",
      "metadata": {
        "id": "view-in-github",
        "colab_type": "text"
      },
      "source": [
        "[View in Colaboratory](https://colab.research.google.com/github/peaelle42/DNN_jump_start/blob/master/JS03_Tensorboard_on_Google_Colab.ipynb)"
      ]
    },
    {
      "metadata": {
        "id": "rxF9fVdHSVVL",
        "colab_type": "code",
        "colab": {
          "base_uri": "https://localhost:8080/",
          "height": 34
        },
        "outputId": "00b609ba-13b3-4690-b473-a54355a43b24"
      },
      "cell_type": "code",
      "source": [
        "import tensorflow as tf\n",
        "device_name = tf.test.gpu_device_name()\n",
        "if device_name != '/device:GPU:0':\n",
        "  raise SystemError('GPU device not found')\n",
        "print('Found GPU at: {}'.format(device_name))"
      ],
      "execution_count": 1,
      "outputs": [
        {
          "output_type": "stream",
          "text": [
            "Found GPU at: /device:GPU:0\n"
          ],
          "name": "stdout"
        }
      ]
    },
    {
      "metadata": {
        "id": "VEODwg68SkOe",
        "colab_type": "code",
        "colab": {
          "base_uri": "https://localhost:8080/",
          "height": 34
        },
        "outputId": "5cd92169-180d-4ce1-f888-79a3da923237"
      },
      "cell_type": "code",
      "source": [
        "%matplotlib inline\n",
        "import matplotlib.pyplot as plt\n",
        "import keras\n",
        "from keras.datasets import mnist\n",
        "from keras.models import Sequential\n",
        "from keras.layers import Dense, Dropout, Flatten\n",
        "from keras.layers import Conv2D, MaxPooling2D\n",
        "from keras.optimizers import RMSprop\n",
        "from keras.callbacks import ModelCheckpoint, Callback, ReduceLROnPlateau, LearningRateScheduler, EarlyStopping, TensorBoard\n",
        "from keras.callbacks import LambdaCallback\n",
        "from keras import backend as K\n",
        "\n",
        "import tensorflow as tf"
      ],
      "execution_count": 2,
      "outputs": [
        {
          "output_type": "stream",
          "text": [
            "Using TensorFlow backend.\n"
          ],
          "name": "stderr"
        }
      ]
    },
    {
      "metadata": {
        "id": "0WxNO5sWSrtD",
        "colab_type": "code",
        "colab": {
          "base_uri": "https://localhost:8080/",
          "height": 50
        },
        "outputId": "41ea55cb-c511-4149-a146-0422e52ba827"
      },
      "cell_type": "code",
      "source": [
        "print(keras.__version__)\n",
        "print(tf.__version__)"
      ],
      "execution_count": 3,
      "outputs": [
        {
          "output_type": "stream",
          "text": [
            "2.1.6\n",
            "1.9.0-rc2\n"
          ],
          "name": "stdout"
        }
      ]
    },
    {
      "metadata": {
        "id": "lFuT0eQLSvM4",
        "colab_type": "code",
        "colab": {
          "base_uri": "https://localhost:8080/",
          "height": 84
        },
        "outputId": "57d5a92d-0fed-4484-f4f2-96d292c2fd35"
      },
      "cell_type": "code",
      "source": [
        "batch_size = 128\n",
        "num_classes = 10\n",
        "epochs = 10\n",
        "\n",
        "# the data, shuffled and split between train and test sets\n",
        "(x_train, y_train), (x_test, y_test) = mnist.load_data()\n",
        "\n",
        "x_train = x_train.reshape(60000, 784)\n",
        "x_test = x_test.reshape(10000, 784)\n",
        "x_train = x_train.astype('float32')\n",
        "x_test = x_test.astype('float32')\n",
        "x_train /= 255\n",
        "x_test /= 255\n",
        "print(x_train.shape[0], 'train samples')\n",
        "print(x_test.shape[0], 'test samples')"
      ],
      "execution_count": 4,
      "outputs": [
        {
          "output_type": "stream",
          "text": [
            "Downloading data from https://s3.amazonaws.com/img-datasets/mnist.npz\n",
            "11493376/11490434 [==============================] - 0s 0us/step\n",
            "60000 train samples\n",
            "10000 test samples\n"
          ],
          "name": "stdout"
        }
      ]
    },
    {
      "metadata": {
        "id": "bT5zAf6FSzDS",
        "colab_type": "code",
        "colab": {}
      },
      "cell_type": "code",
      "source": [
        "# convert class vectors to binary class matrices\n",
        "y_train = keras.utils.to_categorical(y_train, num_classes)\n",
        "y_test = keras.utils.to_categorical(y_test, num_classes)"
      ],
      "execution_count": 0,
      "outputs": []
    },
    {
      "metadata": {
        "id": "Bm_1qJSmS2nN",
        "colab_type": "code",
        "colab": {
          "base_uri": "https://localhost:8080/",
          "height": 302
        },
        "outputId": "de4f7a59-3f3e-4146-aa05-706778c0ba8c"
      },
      "cell_type": "code",
      "source": [
        "model = Sequential()\n",
        "model.add(Dense(512, activation='relu', input_shape=(784,),name='Dense1'))\n",
        "model.add(Dropout(0.2))\n",
        "model.add(Dense(512, activation='relu',name='Dense2'))\n",
        "model.add(Dropout(0.2))\n",
        "model.add(Dense(10, activation='softmax'))\n",
        "\n",
        "model.summary()"
      ],
      "execution_count": 6,
      "outputs": [
        {
          "output_type": "stream",
          "text": [
            "_________________________________________________________________\n",
            "Layer (type)                 Output Shape              Param #   \n",
            "=================================================================\n",
            "Dense1 (Dense)               (None, 512)               401920    \n",
            "_________________________________________________________________\n",
            "dropout_1 (Dropout)          (None, 512)               0         \n",
            "_________________________________________________________________\n",
            "Dense2 (Dense)               (None, 512)               262656    \n",
            "_________________________________________________________________\n",
            "dropout_2 (Dropout)          (None, 512)               0         \n",
            "_________________________________________________________________\n",
            "dense_1 (Dense)              (None, 10)                5130      \n",
            "=================================================================\n",
            "Total params: 669,706\n",
            "Trainable params: 669,706\n",
            "Non-trainable params: 0\n",
            "_________________________________________________________________\n"
          ],
          "name": "stdout"
        }
      ]
    },
    {
      "metadata": {
        "id": "2QiaDFo3S56u",
        "colab_type": "code",
        "colab": {}
      },
      "cell_type": "code",
      "source": [
        "model.compile(loss='categorical_crossentropy',\n",
        "              optimizer=RMSprop(),\n",
        "              metrics=['accuracy'])"
      ],
      "execution_count": 0,
      "outputs": []
    },
    {
      "metadata": {
        "id": "0tvc6wrSTHrj",
        "colab_type": "code",
        "colab": {
          "base_uri": "https://localhost:8080/",
          "height": 403
        },
        "outputId": "ce99deb4-e644-40d2-93c0-d07683bc0f5d"
      },
      "cell_type": "code",
      "source": [
        "history = model.fit(x_train, y_train,\n",
        "                    batch_size=batch_size,\n",
        "                    epochs=epochs,\n",
        "                    verbose=2,\n",
        "                    validation_data=(x_test, y_test))\n",
        "score = model.evaluate(x_test, y_test, verbose=0)\n",
        "print('Test loss:', score[0])\n",
        "print('Test accuracy:', score[1])"
      ],
      "execution_count": 8,
      "outputs": [
        {
          "output_type": "stream",
          "text": [
            "Train on 60000 samples, validate on 10000 samples\n",
            "Epoch 1/10\n",
            " - 3s - loss: 0.2459 - acc: 0.9242 - val_loss: 0.1078 - val_acc: 0.9667\n",
            "Epoch 2/10\n",
            " - 3s - loss: 0.1033 - acc: 0.9686 - val_loss: 0.0865 - val_acc: 0.9752\n",
            "Epoch 3/10\n",
            " - 3s - loss: 0.0744 - acc: 0.9776 - val_loss: 0.0823 - val_acc: 0.9761\n",
            "Epoch 4/10\n",
            " - 3s - loss: 0.0608 - acc: 0.9818 - val_loss: 0.0726 - val_acc: 0.9803\n",
            "Epoch 5/10\n",
            " - 3s - loss: 0.0498 - acc: 0.9848 - val_loss: 0.0752 - val_acc: 0.9808\n",
            "Epoch 6/10\n",
            " - 3s - loss: 0.0454 - acc: 0.9866 - val_loss: 0.0825 - val_acc: 0.9778\n",
            "Epoch 7/10\n",
            " - 3s - loss: 0.0364 - acc: 0.9892 - val_loss: 0.0862 - val_acc: 0.9798\n",
            "Epoch 8/10\n",
            " - 3s - loss: 0.0353 - acc: 0.9898 - val_loss: 0.0877 - val_acc: 0.9803\n",
            "Epoch 9/10\n",
            " - 3s - loss: 0.0308 - acc: 0.9909 - val_loss: 0.0890 - val_acc: 0.9815\n",
            "Epoch 10/10\n",
            " - 3s - loss: 0.0277 - acc: 0.9918 - val_loss: 0.0883 - val_acc: 0.9815\n",
            "Test loss: 0.08827842832605139\n",
            "Test accuracy: 0.9815\n"
          ],
          "name": "stdout"
        }
      ]
    },
    {
      "metadata": {
        "id": "Vwh9ZrAUTLjt",
        "colab_type": "code",
        "colab": {}
      },
      "cell_type": "code",
      "source": [
        "!wget -qq https://bin.equinox.io/c/4VmDzA7iaHb/ngrok-stable-linux-amd64.zip\n",
        "!unzip -qq ngrok-stable-linux-amd64.zip"
      ],
      "execution_count": 0,
      "outputs": []
    },
    {
      "metadata": {
        "id": "ktXreDprTTf0",
        "colab_type": "code",
        "colab": {}
      },
      "cell_type": "code",
      "source": [
        "LOG_DIR = './log'\n",
        "get_ipython().system_raw(\n",
        "    'tensorboard --logdir {} --host 0.0.0.0 --port 6006 &'\n",
        "    .format(LOG_DIR)\n",
        ")"
      ],
      "execution_count": 0,
      "outputs": []
    },
    {
      "metadata": {
        "id": "ji619ykTTYh3",
        "colab_type": "code",
        "colab": {}
      },
      "cell_type": "code",
      "source": [
        "get_ipython().system_raw('./ngrok http 6006 &')"
      ],
      "execution_count": 0,
      "outputs": []
    },
    {
      "metadata": {
        "id": "mEECq_MD6gac",
        "colab_type": "text"
      },
      "cell_type": "markdown",
      "source": [
        "### TensorBoard Callback\n",
        "\n",
        "args\n",
        "- log_dir : string , must exist\n",
        "- histogram_freq : freq in epochs\n",
        "- write_graph : true or false for seeing the graph in TB  \n",
        "- write_grads :writing the gradients \n",
        "- batch_size : size of batches for histogram  \n",
        "- write_images :whether to write model weights to see  \n",
        "- embeddings_freq : \n",
        "- embeddings_layer_names :\n",
        "- embeddings_metadata :\n"
      ]
    },
    {
      "metadata": {
        "id": "a3d1mzgaTcrU",
        "colab_type": "code",
        "colab": {}
      },
      "cell_type": "code",
      "source": [
        "TB = TensorBoard(log_dir='./log', histogram_freq=1,\n",
        "                         write_graph=True,\n",
        "                         write_grads=True,\n",
        "                         batch_size=batch_size,\n",
        "                         write_images=True)"
      ],
      "execution_count": 0,
      "outputs": []
    },
    {
      "metadata": {
        "id": "gC9w9qUzTol0",
        "colab_type": "code",
        "colab": {
          "base_uri": "https://localhost:8080/",
          "height": 370
        },
        "outputId": "006cc748-8648-46ad-a468-c2c9e6f9e092"
      },
      "cell_type": "code",
      "source": [
        "history = model.fit(x_train, y_train,\n",
        "                    batch_size=batch_size,\n",
        "                    epochs=epochs,\n",
        "                    verbose=2,\n",
        "                    validation_data=(x_test, y_test),\n",
        "                   callbacks=[TB])"
      ],
      "execution_count": 17,
      "outputs": [
        {
          "output_type": "stream",
          "text": [
            "Train on 60000 samples, validate on 10000 samples\n",
            "Epoch 1/10\n",
            " - 3s - loss: 0.0152 - acc: 0.9959 - val_loss: 0.1122 - val_acc: 0.9833\n",
            "Epoch 2/10\n",
            " - 3s - loss: 0.0147 - acc: 0.9958 - val_loss: 0.1224 - val_acc: 0.9832\n",
            "Epoch 3/10\n",
            " - 3s - loss: 0.0163 - acc: 0.9960 - val_loss: 0.1241 - val_acc: 0.9824\n",
            "Epoch 4/10\n",
            " - 3s - loss: 0.0160 - acc: 0.9959 - val_loss: 0.1094 - val_acc: 0.9847\n",
            "Epoch 5/10\n",
            " - 4s - loss: 0.0170 - acc: 0.9960 - val_loss: 0.1190 - val_acc: 0.9828\n",
            "Epoch 6/10\n",
            " - 3s - loss: 0.0163 - acc: 0.9963 - val_loss: 0.1319 - val_acc: 0.9834\n",
            "Epoch 7/10\n",
            " - 3s - loss: 0.0155 - acc: 0.9961 - val_loss: 0.1291 - val_acc: 0.9828\n",
            "Epoch 8/10\n",
            " - 3s - loss: 0.0149 - acc: 0.9966 - val_loss: 0.1348 - val_acc: 0.9838\n",
            "Epoch 9/10\n",
            " - 3s - loss: 0.0146 - acc: 0.9967 - val_loss: 0.1464 - val_acc: 0.9819\n",
            "Epoch 10/10\n",
            " - 3s - loss: 0.0160 - acc: 0.9962 - val_loss: 0.1462 - val_acc: 0.9829\n"
          ],
          "name": "stdout"
        }
      ]
    },
    {
      "metadata": {
        "id": "3FTSyh6VTqIE",
        "colab_type": "code",
        "colab": {
          "base_uri": "https://localhost:8080/",
          "height": 34
        },
        "outputId": "2796386b-5c94-4f08-99fc-866d5509ed4d"
      },
      "cell_type": "code",
      "source": [
        "! curl -s http://localhost:4040/api/tunnels | python3 -c \\\n",
        "    \"import sys, json; print(json.load(sys.stdin)['tunnels'][0]['public_url'])\""
      ],
      "execution_count": 16,
      "outputs": [
        {
          "output_type": "stream",
          "text": [
            "http://3a47a325.ngrok.io\r\n"
          ],
          "name": "stdout"
        }
      ]
    },
    {
      "metadata": {
        "id": "y6pCyO3uTzp0",
        "colab_type": "code",
        "colab": {}
      },
      "cell_type": "code",
      "source": [
        "!kill -9 -1"
      ],
      "execution_count": 0,
      "outputs": []
    },
    {
      "metadata": {
        "id": "G08fZEYiWyAF",
        "colab_type": "code",
        "colab": {}
      },
      "cell_type": "code",
      "source": [
        ""
      ],
      "execution_count": 0,
      "outputs": []
    }
  ]
}