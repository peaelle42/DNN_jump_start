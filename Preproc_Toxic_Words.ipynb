{
  "nbformat": 4,
  "nbformat_minor": 0,
  "metadata": {
    "colab": {
      "name": "Preproc Toxic Words.ipynb",
      "version": "0.3.2",
      "provenance": [],
      "include_colab_link": true
    },
    "kernelspec": {
      "name": "python3",
      "display_name": "Python 3"
    }
  },
  "cells": [
    {
      "cell_type": "markdown",
      "metadata": {
        "id": "view-in-github",
        "colab_type": "text"
      },
      "source": [
        "[View in Colaboratory](https://colab.research.google.com/github/peaelle42/DNN_jump_start/blob/master/Preproc_Toxic_Words.ipynb)"
      ]
    },
    {
      "metadata": {
        "id": "pmAyKA2c-GCw",
        "colab_type": "code",
        "colab": {}
      },
      "cell_type": "code",
      "source": [
        "import pandas as pd"
      ],
      "execution_count": 0,
      "outputs": []
    },
    {
      "metadata": {
        "id": "5HwJNQ7iAFYD",
        "colab_type": "code",
        "colab": {
          "base_uri": "https://localhost:8080/",
          "height": 134
        },
        "outputId": "78ddb2e7-0d54-48ae-eb53-f091b3d2c30f"
      },
      "cell_type": "code",
      "source": [
        "#!wget -qq https://www.dropbox.com/s/fz2d61pwgigtra7/toxic_words.zip\n",
        "  \n",
        "#!wget -qq https://www.dropbox.com/s/vj61417lofjebju/utils.zip\n",
        "!unzip toxic_words.zip\n",
        "\n",
        "!ls"
      ],
      "execution_count": 0,
      "outputs": [
        {
          "output_type": "stream",
          "text": [
            "Archive:  toxic_words.zip\n",
            "  inflating: test_labels.csv         \n",
            "  inflating: sample_submission.csv   \n",
            "  inflating: test.csv                \n",
            "  inflating: train.csv               \n",
            "datalab\t\t       test.csv\t\ttoxic_words.zip\n",
            "sample_submission.csv  test_labels.csv\ttrain.csv\n"
          ],
          "name": "stdout"
        }
      ]
    },
    {
      "metadata": {
        "id": "CWVeTAFe-KdJ",
        "colab_type": "code",
        "colab": {}
      },
      "cell_type": "code",
      "source": [
        "df = pd.read_csv('train.csv')"
      ],
      "execution_count": 0,
      "outputs": []
    },
    {
      "metadata": {
        "id": "kPa9Z4qpAvwa",
        "colab_type": "code",
        "colab": {
          "base_uri": "https://localhost:8080/",
          "height": 195
        },
        "outputId": "49d820e6-30fc-487b-c3c7-9246a14ea837"
      },
      "cell_type": "code",
      "source": [
        "df.head()"
      ],
      "execution_count": 0,
      "outputs": [
        {
          "output_type": "execute_result",
          "data": {
            "text/html": [
              "<div>\n",
              "<style scoped>\n",
              "    .dataframe tbody tr th:only-of-type {\n",
              "        vertical-align: middle;\n",
              "    }\n",
              "\n",
              "    .dataframe tbody tr th {\n",
              "        vertical-align: top;\n",
              "    }\n",
              "\n",
              "    .dataframe thead th {\n",
              "        text-align: right;\n",
              "    }\n",
              "</style>\n",
              "<table border=\"1\" class=\"dataframe\">\n",
              "  <thead>\n",
              "    <tr style=\"text-align: right;\">\n",
              "      <th></th>\n",
              "      <th>id</th>\n",
              "      <th>comment_text</th>\n",
              "      <th>toxic</th>\n",
              "      <th>severe_toxic</th>\n",
              "      <th>obscene</th>\n",
              "      <th>threat</th>\n",
              "      <th>insult</th>\n",
              "      <th>identity_hate</th>\n",
              "    </tr>\n",
              "  </thead>\n",
              "  <tbody>\n",
              "    <tr>\n",
              "      <th>0</th>\n",
              "      <td>0000997932d777bf</td>\n",
              "      <td>Explanation\\nWhy the edits made under my usern...</td>\n",
              "      <td>0</td>\n",
              "      <td>0</td>\n",
              "      <td>0</td>\n",
              "      <td>0</td>\n",
              "      <td>0</td>\n",
              "      <td>0</td>\n",
              "    </tr>\n",
              "    <tr>\n",
              "      <th>1</th>\n",
              "      <td>000103f0d9cfb60f</td>\n",
              "      <td>D'aww! He matches this background colour I'm s...</td>\n",
              "      <td>0</td>\n",
              "      <td>0</td>\n",
              "      <td>0</td>\n",
              "      <td>0</td>\n",
              "      <td>0</td>\n",
              "      <td>0</td>\n",
              "    </tr>\n",
              "    <tr>\n",
              "      <th>2</th>\n",
              "      <td>000113f07ec002fd</td>\n",
              "      <td>Hey man, I'm really not trying to edit war. It...</td>\n",
              "      <td>0</td>\n",
              "      <td>0</td>\n",
              "      <td>0</td>\n",
              "      <td>0</td>\n",
              "      <td>0</td>\n",
              "      <td>0</td>\n",
              "    </tr>\n",
              "    <tr>\n",
              "      <th>3</th>\n",
              "      <td>0001b41b1c6bb37e</td>\n",
              "      <td>\"\\nMore\\nI can't make any real suggestions on ...</td>\n",
              "      <td>0</td>\n",
              "      <td>0</td>\n",
              "      <td>0</td>\n",
              "      <td>0</td>\n",
              "      <td>0</td>\n",
              "      <td>0</td>\n",
              "    </tr>\n",
              "    <tr>\n",
              "      <th>4</th>\n",
              "      <td>0001d958c54c6e35</td>\n",
              "      <td>You, sir, are my hero. Any chance you remember...</td>\n",
              "      <td>0</td>\n",
              "      <td>0</td>\n",
              "      <td>0</td>\n",
              "      <td>0</td>\n",
              "      <td>0</td>\n",
              "      <td>0</td>\n",
              "    </tr>\n",
              "  </tbody>\n",
              "</table>\n",
              "</div>"
            ],
            "text/plain": [
              "                 id                                       comment_text  toxic  \\\n",
              "0  0000997932d777bf  Explanation\\nWhy the edits made under my usern...      0   \n",
              "1  000103f0d9cfb60f  D'aww! He matches this background colour I'm s...      0   \n",
              "2  000113f07ec002fd  Hey man, I'm really not trying to edit war. It...      0   \n",
              "3  0001b41b1c6bb37e  \"\\nMore\\nI can't make any real suggestions on ...      0   \n",
              "4  0001d958c54c6e35  You, sir, are my hero. Any chance you remember...      0   \n",
              "\n",
              "   severe_toxic  obscene  threat  insult  identity_hate  \n",
              "0             0        0       0       0              0  \n",
              "1             0        0       0       0              0  \n",
              "2             0        0       0       0              0  \n",
              "3             0        0       0       0              0  \n",
              "4             0        0       0       0              0  "
            ]
          },
          "metadata": {
            "tags": []
          },
          "execution_count": 8
        }
      ]
    },
    {
      "metadata": {
        "id": "JctRDDD3A0u4",
        "colab_type": "code",
        "colab": {}
      },
      "cell_type": "code",
      "source": [
        "# example of dummies not used\n",
        "#pd.get_dummies(df[2:], dummy_na=False, columns=None, sparse=False, drop_first=False, dtype=None)[source]¶"
      ],
      "execution_count": 0,
      "outputs": []
    },
    {
      "metadata": {
        "id": "ob4KCbTlIupj",
        "colab_type": "code",
        "colab": {
          "base_uri": "https://localhost:8080/",
          "height": 356
        },
        "outputId": "02141445-a38b-427b-b097-489e1e72a668"
      },
      "cell_type": "code",
      "source": [
        "#df['toxic']\n",
        "\n",
        "df.as_matrix()"
      ],
      "execution_count": 0,
      "outputs": [
        {
          "output_type": "execute_result",
          "data": {
            "text/plain": [
              "array([['0000997932d777bf',\n",
              "        \"Explanation\\nWhy the edits made under my username Hardcore Metallica Fan were reverted? They weren't vandalisms, just closure on some GAs after I voted at New York Dolls FAC. And please don't remove the template from the talk page since I'm retired now.89.205.38.27\",\n",
              "        0, ..., 0, 0, 0],\n",
              "       ['000103f0d9cfb60f',\n",
              "        \"D'aww! He matches this background colour I'm seemingly stuck with. Thanks.  (talk) 21:51, January 11, 2016 (UTC)\",\n",
              "        0, ..., 0, 0, 0],\n",
              "       ['000113f07ec002fd',\n",
              "        \"Hey man, I'm really not trying to edit war. It's just that this guy is constantly removing relevant information and talking to me through edits instead of my talk page. He seems to care more about the formatting than the actual info.\",\n",
              "        0, ..., 0, 0, 0],\n",
              "       ...,\n",
              "       ['ffee36eab5c267c9',\n",
              "        'Spitzer \\n\\nUmm, theres no actual article for prostitution ring.  - Crunch Captain.',\n",
              "        0, ..., 0, 0, 0],\n",
              "       ['fff125370e4aaaf3',\n",
              "        'And it looks like it was actually you who put on the speedy to have the first version deleted now that I look at it.',\n",
              "        0, ..., 0, 0, 0],\n",
              "       ['fff46fc426af1f9a',\n",
              "        '\"\\nAnd ... I really don\\'t think you understand.  I came here and my idea was bad right away.  What kind of community goes \"\"you have bad ideas\"\" go away, instead of helping rewrite them.   \"',\n",
              "        0, ..., 0, 0, 0]], dtype=object)"
            ]
          },
          "metadata": {
            "tags": []
          },
          "execution_count": 14
        }
      ]
    },
    {
      "metadata": {
        "id": "FN44AwmYIwnA",
        "colab_type": "code",
        "colab": {}
      },
      "cell_type": "code",
      "source": [
        "df2 = df.drop(columns=['id', 'comment_text'],  inplace=False)\n",
        "\n",
        "df3 = df.drop( columns=['id', 'toxic','severe_toxic','threat','obscene','identity_hate','insult'],  inplace=False)\n"
      ],
      "execution_count": 0,
      "outputs": []
    },
    {
      "metadata": {
        "id": "gVCsw4kPKTIn",
        "colab_type": "code",
        "colab": {
          "base_uri": "https://localhost:8080/",
          "height": 195
        },
        "outputId": "b4c385da-240a-451b-c869-1dc28af13ddf"
      },
      "cell_type": "code",
      "source": [
        "df2.head()"
      ],
      "execution_count": 0,
      "outputs": [
        {
          "output_type": "execute_result",
          "data": {
            "text/html": [
              "<div>\n",
              "<style scoped>\n",
              "    .dataframe tbody tr th:only-of-type {\n",
              "        vertical-align: middle;\n",
              "    }\n",
              "\n",
              "    .dataframe tbody tr th {\n",
              "        vertical-align: top;\n",
              "    }\n",
              "\n",
              "    .dataframe thead th {\n",
              "        text-align: right;\n",
              "    }\n",
              "</style>\n",
              "<table border=\"1\" class=\"dataframe\">\n",
              "  <thead>\n",
              "    <tr style=\"text-align: right;\">\n",
              "      <th></th>\n",
              "      <th>toxic</th>\n",
              "      <th>severe_toxic</th>\n",
              "      <th>obscene</th>\n",
              "      <th>threat</th>\n",
              "      <th>insult</th>\n",
              "      <th>identity_hate</th>\n",
              "    </tr>\n",
              "  </thead>\n",
              "  <tbody>\n",
              "    <tr>\n",
              "      <th>0</th>\n",
              "      <td>0</td>\n",
              "      <td>0</td>\n",
              "      <td>0</td>\n",
              "      <td>0</td>\n",
              "      <td>0</td>\n",
              "      <td>0</td>\n",
              "    </tr>\n",
              "    <tr>\n",
              "      <th>1</th>\n",
              "      <td>0</td>\n",
              "      <td>0</td>\n",
              "      <td>0</td>\n",
              "      <td>0</td>\n",
              "      <td>0</td>\n",
              "      <td>0</td>\n",
              "    </tr>\n",
              "    <tr>\n",
              "      <th>2</th>\n",
              "      <td>0</td>\n",
              "      <td>0</td>\n",
              "      <td>0</td>\n",
              "      <td>0</td>\n",
              "      <td>0</td>\n",
              "      <td>0</td>\n",
              "    </tr>\n",
              "    <tr>\n",
              "      <th>3</th>\n",
              "      <td>0</td>\n",
              "      <td>0</td>\n",
              "      <td>0</td>\n",
              "      <td>0</td>\n",
              "      <td>0</td>\n",
              "      <td>0</td>\n",
              "    </tr>\n",
              "    <tr>\n",
              "      <th>4</th>\n",
              "      <td>0</td>\n",
              "      <td>0</td>\n",
              "      <td>0</td>\n",
              "      <td>0</td>\n",
              "      <td>0</td>\n",
              "      <td>0</td>\n",
              "    </tr>\n",
              "  </tbody>\n",
              "</table>\n",
              "</div>"
            ],
            "text/plain": [
              "   toxic  severe_toxic  obscene  threat  insult  identity_hate\n",
              "0      0             0        0       0       0              0\n",
              "1      0             0        0       0       0              0\n",
              "2      0             0        0       0       0              0\n",
              "3      0             0        0       0       0              0\n",
              "4      0             0        0       0       0              0"
            ]
          },
          "metadata": {
            "tags": []
          },
          "execution_count": 24
        }
      ]
    },
    {
      "metadata": {
        "id": "20DPI-MsKT7d",
        "colab_type": "code",
        "colab": {}
      },
      "cell_type": "code",
      "source": [
        "labels = df2.as_matrix()"
      ],
      "execution_count": 0,
      "outputs": []
    },
    {
      "metadata": {
        "id": "SFOpulSlKnc4",
        "colab_type": "code",
        "colab": {
          "base_uri": "https://localhost:8080/",
          "height": 34
        },
        "outputId": "9df9cdb1-6d1c-4864-bbae-d6deab4f5110"
      },
      "cell_type": "code",
      "source": [
        "labels.shape"
      ],
      "execution_count": 0,
      "outputs": [
        {
          "output_type": "execute_result",
          "data": {
            "text/plain": [
              "(159571, 6)"
            ]
          },
          "metadata": {
            "tags": []
          },
          "execution_count": 26
        }
      ]
    },
    {
      "metadata": {
        "id": "dTHzEQr5ZkSY",
        "colab_type": "code",
        "colab": {}
      },
      "cell_type": "code",
      "source": [
        ""
      ],
      "execution_count": 0,
      "outputs": []
    },
    {
      "metadata": {
        "id": "exwYEYb_Lh-5",
        "colab_type": "code",
        "colab": {}
      },
      "cell_type": "code",
      "source": [
        "x_train = df3.as_matrix()"
      ],
      "execution_count": 0,
      "outputs": []
    },
    {
      "metadata": {
        "id": "34kvwCpIZOuA",
        "colab_type": "code",
        "colab": {}
      },
      "cell_type": "code",
      "source": [
        "y_train = labels"
      ],
      "execution_count": 0,
      "outputs": []
    },
    {
      "metadata": {
        "id": "oE0lPjqqZY_8",
        "colab_type": "code",
        "colab": {
          "base_uri": "https://localhost:8080/",
          "height": 34
        },
        "outputId": "2c8d4ec0-0016-4280-e176-68aa4937f883"
      },
      "cell_type": "code",
      "source": [
        "y_train.shape"
      ],
      "execution_count": 0,
      "outputs": [
        {
          "output_type": "execute_result",
          "data": {
            "text/plain": [
              "(159571, 6)"
            ]
          },
          "metadata": {
            "tags": []
          },
          "execution_count": 35
        }
      ]
    },
    {
      "metadata": {
        "id": "181yBKvwZdcH",
        "colab_type": "code",
        "colab": {
          "base_uri": "https://localhost:8080/",
          "height": 34
        },
        "outputId": "0e7d4ce2-e8d9-47f9-9c6b-764c759a4e30"
      },
      "cell_type": "code",
      "source": [
        "x_train.shape"
      ],
      "execution_count": 0,
      "outputs": [
        {
          "output_type": "execute_result",
          "data": {
            "text/plain": [
              "(159571, 1)"
            ]
          },
          "metadata": {
            "tags": []
          },
          "execution_count": 36
        }
      ]
    },
    {
      "metadata": {
        "id": "yIkuf8G9ZpYt",
        "colab_type": "code",
        "colab": {
          "base_uri": "https://localhost:8080/",
          "height": 34
        },
        "outputId": "857ec711-70bd-4f1c-b4b7-54d110479a4b"
      },
      "cell_type": "code",
      "source": [
        "from collections import Counter\n",
        "\n",
        "\n",
        "total_counts = Counter()\n",
        "for i,row in df3.iterrows():\n",
        "    total_counts.update(row[0].split(' '))\n",
        "\n",
        "print(\"Total words in data set: \", len(total_counts))"
      ],
      "execution_count": 0,
      "outputs": [
        {
          "output_type": "stream",
          "text": [
            "Total words in data set:  607658\n"
          ],
          "name": "stdout"
        }
      ]
    },
    {
      "metadata": {
        "id": "4868U5fXaB5H",
        "colab_type": "code",
        "colab": {
          "base_uri": "https://localhost:8080/",
          "height": 34
        },
        "outputId": "4a98f552-d71c-4f13-dd9c-cdac6199e3c5"
      },
      "cell_type": "code",
      "source": [
        "vocab = sorted(total_counts, key=total_counts.get, reverse=True)[:10000]\n",
        "print(vocab[0:5])"
      ],
      "execution_count": 0,
      "outputs": [
        {
          "output_type": "stream",
          "text": [
            "['the', 'to', '', 'of', 'and']\n"
          ],
          "name": "stdout"
        }
      ]
    },
    {
      "metadata": {
        "id": "ADE9QNNSaMhY",
        "colab_type": "code",
        "colab": {}
      },
      "cell_type": "code",
      "source": [
        "word2idx = {word: i for i, word in enumerate(vocab)}"
      ],
      "execution_count": 0,
      "outputs": []
    },
    {
      "metadata": {
        "id": "xxTjPowwa2Zd",
        "colab_type": "code",
        "colab": {
          "base_uri": "https://localhost:8080/",
          "height": 34
        },
        "outputId": "165e3cab-5a21-4d60-9a0c-87849b1d6413"
      },
      "cell_type": "code",
      "source": [
        "word2idx['was']"
      ],
      "execution_count": 0,
      "outputs": [
        {
          "output_type": "execute_result",
          "data": {
            "text/plain": [
              "22"
            ]
          },
          "metadata": {
            "tags": []
          },
          "execution_count": 44
        }
      ]
    },
    {
      "metadata": {
        "id": "HxuS2Q5Vc8uH",
        "colab_type": "code",
        "colab": {
          "base_uri": "https://localhost:8080/",
          "height": 195
        },
        "outputId": "ae5949c8-ce49-41bc-ea69-65f0efe19235"
      },
      "cell_type": "code",
      "source": [
        "df3.head()"
      ],
      "execution_count": 0,
      "outputs": [
        {
          "output_type": "execute_result",
          "data": {
            "text/html": [
              "<div>\n",
              "<style scoped>\n",
              "    .dataframe tbody tr th:only-of-type {\n",
              "        vertical-align: middle;\n",
              "    }\n",
              "\n",
              "    .dataframe tbody tr th {\n",
              "        vertical-align: top;\n",
              "    }\n",
              "\n",
              "    .dataframe thead th {\n",
              "        text-align: right;\n",
              "    }\n",
              "</style>\n",
              "<table border=\"1\" class=\"dataframe\">\n",
              "  <thead>\n",
              "    <tr style=\"text-align: right;\">\n",
              "      <th></th>\n",
              "      <th>comment_text</th>\n",
              "    </tr>\n",
              "  </thead>\n",
              "  <tbody>\n",
              "    <tr>\n",
              "      <th>0</th>\n",
              "      <td>Explanation\\nWhy the edits made under my usern...</td>\n",
              "    </tr>\n",
              "    <tr>\n",
              "      <th>1</th>\n",
              "      <td>D'aww! He matches this background colour I'm s...</td>\n",
              "    </tr>\n",
              "    <tr>\n",
              "      <th>2</th>\n",
              "      <td>Hey man, I'm really not trying to edit war. It...</td>\n",
              "    </tr>\n",
              "    <tr>\n",
              "      <th>3</th>\n",
              "      <td>\"\\nMore\\nI can't make any real suggestions on ...</td>\n",
              "    </tr>\n",
              "    <tr>\n",
              "      <th>4</th>\n",
              "      <td>You, sir, are my hero. Any chance you remember...</td>\n",
              "    </tr>\n",
              "  </tbody>\n",
              "</table>\n",
              "</div>"
            ],
            "text/plain": [
              "                                        comment_text\n",
              "0  Explanation\\nWhy the edits made under my usern...\n",
              "1  D'aww! He matches this background colour I'm s...\n",
              "2  Hey man, I'm really not trying to edit war. It...\n",
              "3  \"\\nMore\\nI can't make any real suggestions on ...\n",
              "4  You, sir, are my hero. Any chance you remember..."
            ]
          },
          "metadata": {
            "tags": []
          },
          "execution_count": 49
        }
      ]
    },
    {
      "metadata": {
        "id": "gvK1ItM5a34v",
        "colab_type": "code",
        "colab": {
          "base_uri": "https://localhost:8080/",
          "height": 1058
        },
        "outputId": "e64caacc-922f-48b2-8fb2-123efe64ec6f"
      },
      "cell_type": "code",
      "source": [
        "df3['comment_text'].str.split()"
      ],
      "execution_count": 0,
      "outputs": [
        {
          "output_type": "execute_result",
          "data": {
            "text/plain": [
              "0         [Explanation, Why, the, edits, made, under, my...\n",
              "1         [D'aww!, He, matches, this, background, colour...\n",
              "2         [Hey, man,, I'm, really, not, trying, to, edit...\n",
              "3         [\", More, I, can't, make, any, real, suggestio...\n",
              "4         [You,, sir,, are, my, hero., Any, chance, you,...\n",
              "5         [\", Congratulations, from, me, as, well,, use,...\n",
              "6         [COCKSUCKER, BEFORE, YOU, PISS, AROUND, ON, MY...\n",
              "7         [Your, vandalism, to, the, Matt, Shirvington, ...\n",
              "8         [Sorry, if, the, word, 'nonsense', was, offens...\n",
              "9         [alignment, on, this, subject, and, which, are...\n",
              "10        [\", Fair, use, rationale, for, Image:Wonju.jpg...\n",
              "11        [bbq, be, a, man, and, lets, discuss, it-maybe...\n",
              "12        [Hey..., what, is, it.., @, |, talk, ., What, ...\n",
              "13        [Before, you, start, throwing, accusations, an...\n",
              "14        [Oh,, and, the, girl, above, started, her, arg...\n",
              "15        [\", Juelz, Santanas, Age, In, 2002,, Juelz, Sa...\n",
              "16        [Bye!, Don't, look,, come, or, think, of, comm...\n",
              "17        [REDIRECT, Talk:Voydan, Pop, Georgiev-, Cherno...\n",
              "18        [The, Mitsurugi, point, made, no, sense, -, wh...\n",
              "19        [Don't, mean, to, bother, you, I, see, that, y...\n",
              "20        [\", Regarding, your, recent, edits, Once, agai...\n",
              "21        [\", Good, to, know., About, me,, yeah,, I'm, s...\n",
              "22        [\", Snowflakes, are, NOT, always, symmetrical!...\n",
              "23        [\", The, Signpost:, 24, September, 2012, Read,...\n",
              "24        [\", Re-considering, 1st, paragraph, edit?, I, ...\n",
              "25        [Radial, symmetry, Several, now, extinct, line...\n",
              "26        [There's, no, need, to, apologize., A, Wikiped...\n",
              "27        [Yes,, because, the, mother, of, the, child, i...\n",
              "28        [\", Ok., But, it, will, take, a, bit, of, work...\n",
              "29        [\"==, A, barnstar, for, you!, ==, The, Real, L...\n",
              "                                ...                        \n",
              "159541    [Your, absurd, edits, Your, absurd, edits, on,...\n",
              "159542    [maybe, he's, got, better, things, to, do, tha...\n",
              "159543    [scrap, that,, it, does, meet, criteria, and, ...\n",
              "159544                             [You, could, do, worse.]\n",
              "159545    [,, 7, March, 2011, (UTC), Are, you, also, Use...\n",
              "159546    [\", Hey, listen, don't, you, ever!!!!, Delete,...\n",
              "159547                 [Thank, you, very,, very, much., ·✆]\n",
              "159548                     [Talkback:, 15, September, 2012]\n",
              "159549                       [2005, (UTC), 06:35,, 31, Mar]\n",
              "159550    [i, agree/, on, another, note, lil, wayne, is,...\n",
              "159551    [While, about, half, the, references, are, fro...\n",
              "159552    [Prague, Spring, I, think, that, Prague, Sprin...\n",
              "159553    [I, see, this, as, having, been, merged;, undo...\n",
              "159554    [and, i'm, going, to, keep, posting, the, stuf...\n",
              "159555    [\", How, come, when, you, download, that, MP3,...\n",
              "159556    [I'll, be, on, IRC,, too,, if, you, have, a, m...\n",
              "159557    [It, is, my, opinion, that, that, happens, to,...\n",
              "159558    [Please, stop, removing, content, from, Wikipe...\n",
              "159559    [Image:Barack-obama-mother.jpg, listed, for, d...\n",
              "159560    [\"Editing, of, article, without, Consensus, &,...\n",
              "159561    [\", No, he, did, not,, read, it, again, (I, wo...\n",
              "159562    [\", Auto, guides, and, the, motoring, press, a...\n",
              "159563    [\", please, identify, what, part, of, BLP, app...\n",
              "159564    [Catalan, independentism, is, the, social, mov...\n",
              "159565    [The, numbers, in, parentheses, are, the, addi...\n",
              "159566    [\":::::And, for, the, second, time, of, asking...\n",
              "159567    [You, should, be, ashamed, of, yourself, That,...\n",
              "159568    [Spitzer, Umm,, theres, no, actual, article, f...\n",
              "159569    [And, it, looks, like, it, was, actually, you,...\n",
              "159570    [\", And, ..., I, really, don't, think, you, un...\n",
              "Name: comment_text, Length: 159571, dtype: object"
            ]
          },
          "metadata": {
            "tags": []
          },
          "execution_count": 50
        }
      ]
    },
    {
      "metadata": {
        "id": "okzSj1pmdRXv",
        "colab_type": "code",
        "colab": {}
      },
      "cell_type": "code",
      "source": [
        ""
      ],
      "execution_count": 0,
      "outputs": []
    }
  ]
}