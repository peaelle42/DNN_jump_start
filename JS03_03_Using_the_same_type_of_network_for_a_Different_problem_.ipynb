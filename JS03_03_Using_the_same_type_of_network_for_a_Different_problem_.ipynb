{
  "nbformat": 4,
  "nbformat_minor": 0,
  "metadata": {
    "colab": {
      "name": "JS03-03. Using the same type of network for a Different problem-.ipynb",
      "version": "0.3.2",
      "provenance": [],
      "include_colab_link": true
    },
    "kernelspec": {
      "display_name": "Python 3",
      "language": "python",
      "name": "python3"
    },
    "accelerator": "GPU"
  },
  "cells": [
    {
      "cell_type": "markdown",
      "metadata": {
        "id": "view-in-github",
        "colab_type": "text"
      },
      "source": [
        "[View in Colaboratory](https://colab.research.google.com/github/peaelle42/DNN_jump_start/blob/master/JS03_03_Using_the_same_type_of_network_for_a_Different_problem_.ipynb)"
      ]
    },
    {
      "metadata": {
        "id": "olDqr5w2ywp3",
        "colab_type": "text"
      },
      "cell_type": "markdown",
      "source": [
        "## Testing for GPU - currently NO GPU is better\n",
        "\n",
        "\n",
        "To Test if you have GPU set up\n",
        "\n",
        "Run the Cell below\n",
        "\n",
        "if no GPU is found press Runtime (in the menu at the top) and choose \"Change Runtime Type\" to GPU"
      ]
    },
    {
      "metadata": {
        "id": "aLgaT6YaytCB",
        "colab_type": "code",
        "colab": {
          "base_uri": "https://localhost:8080/",
          "height": 34
        },
        "outputId": "da869891-e42d-4344-8553-ff07ea3d7ccb"
      },
      "cell_type": "code",
      "source": [
        "import tensorflow as tf\n",
        "device_name = tf.test.gpu_device_name()\n",
        "if device_name != '/device:GPU:0':\n",
        "  raise SystemError('GPU device not found')\n",
        "print('Found GPU at: {}'.format(device_name))"
      ],
      "execution_count": 2,
      "outputs": [
        {
          "output_type": "stream",
          "text": [
            "Found GPU at: /device:GPU:0\n"
          ],
          "name": "stdout"
        }
      ]
    },
    {
      "metadata": {
        "id": "-NrRLb9Y-h_J",
        "colab_type": "code",
        "colab": {}
      },
      "cell_type": "code",
      "source": [
        "%matplotlib inline\n",
        "import matplotlib.pyplot as plt\n",
        "\n",
        "import tensorflow.python.keras\n",
        "from tensorflow.python.keras.models import Model, Sequential\n",
        "from tensorflow.python.keras.layers import *\n",
        "from tensorflow.python.keras.optimizers import Adam\n",
        "\n",
        "import tensorflow as tf\n",
        "import numpy as np\n",
        "\n",
        "import pandas as pd\n",
        "from collections import Counter\n",
        "from sklearn.model_selection import train_test_split"
      ],
      "execution_count": 0,
      "outputs": []
    },
    {
      "metadata": {
        "id": "muu-3XZ1-h_P",
        "colab_type": "code",
        "colab": {
          "base_uri": "https://localhost:8080/",
          "height": 52
        },
        "outputId": "2c2b08ec-d98d-4a55-bc74-947edb311c3d"
      },
      "cell_type": "code",
      "source": [
        "print(tf.keras.__version__)\n",
        "print(tf.__version__)"
      ],
      "execution_count": 3,
      "outputs": [
        {
          "output_type": "stream",
          "text": [
            "2.1.6-tf\n",
            "1.9.0-rc2\n"
          ],
          "name": "stdout"
        }
      ]
    },
    {
      "metadata": {
        "id": "i2rczMgBlXin",
        "colab_type": "code",
        "colab": {
          "base_uri": "https://localhost:8080/",
          "height": 52
        },
        "outputId": "551446cd-226a-451a-a4e4-295a1f281709"
      },
      "cell_type": "code",
      "source": [
        "\n",
        "!ls"
      ],
      "execution_count": 4,
      "outputs": [
        {
          "output_type": "stream",
          "text": [
            "datalab        diagram3c.gif  diagram5g.png  notebook1.zip    solutions\r\n",
            "diagram12.gif  diagram4f.png  diagram6d.png  notebook1.zip.1  sutils.py\r\n"
          ],
          "name": "stdout"
        }
      ]
    },
    {
      "metadata": {
        "id": "b0ea51aH-h_T",
        "colab_type": "text"
      },
      "cell_type": "markdown",
      "source": [
        "### Lets import our dataset"
      ]
    },
    {
      "metadata": {
        "id": "fMvpmt3czJVW",
        "colab_type": "code",
        "colab": {
          "base_uri": "https://localhost:8080/",
          "height": 69
        },
        "outputId": "196186e5-bac0-43d5-da24-05b50a2ce0c2"
      },
      "cell_type": "code",
      "source": [
        "! wget -qq https://www.dropbox.com/s/0e73s4u6m7winpd/imdb_data.zip\n",
        "  \n",
        "!unzip -qq imdb_data.zip\n",
        "!rm imdb_data.zip\n",
        "!rm -r __MACOSX\n",
        "\n",
        "!ls"
      ],
      "execution_count": 5,
      "outputs": [
        {
          "output_type": "stream",
          "text": [
            "datalab        diagram4f.png  imdb_data        solutions\r\n",
            "diagram12.gif  diagram5g.png  notebook1.zip    sutils.py\r\n",
            "diagram3c.gif  diagram6d.png  notebook1.zip.1\r\n"
          ],
          "name": "stdout"
        }
      ]
    },
    {
      "metadata": {
        "id": "ePw3jSbH-h_U",
        "colab_type": "code",
        "colab": {}
      },
      "cell_type": "code",
      "source": [
        "reviews = pd.read_csv('./imdb_data/reviews.txt', header=None)\n",
        "labels = pd.read_csv('./imdb_data/labels_ohe.csv', header=None)"
      ],
      "execution_count": 0,
      "outputs": []
    },
    {
      "metadata": {
        "id": "1I_ZboGB-h_W",
        "colab_type": "code",
        "colab": {
          "base_uri": "https://localhost:8080/",
          "height": 35
        },
        "outputId": "9f31931d-19b6-444f-f9b9-d5a2641ba7b4"
      },
      "cell_type": "code",
      "source": [
        "len(reviews)"
      ],
      "execution_count": 7,
      "outputs": [
        {
          "output_type": "execute_result",
          "data": {
            "text/plain": [
              "25000"
            ]
          },
          "metadata": {
            "tags": []
          },
          "execution_count": 7
        }
      ]
    },
    {
      "metadata": {
        "id": "D8_oMAM_-h_a",
        "colab_type": "code",
        "colab": {
          "base_uri": "https://localhost:8080/",
          "height": 55
        },
        "outputId": "1ce32d68-0e21-475b-9ba3-f3af74e94c4c"
      },
      "cell_type": "code",
      "source": [
        "reviews.head()\n",
        "reviews[0][2]"
      ],
      "execution_count": 8,
      "outputs": [
        {
          "output_type": "execute_result",
          "data": {
            "text/plain": [
              "'homelessness  or houselessness as george carlin stated  has been an issue for years but never a plan to help those on the street that were once considered human who did everything from going to school  work  or vote for the matter . most people think of the homeless as just a lost cause while worrying about things such as racism  the war on iraq  pressuring kids to succeed  technology  the elections  inflation  or worrying if they  ll be next to end up on the streets .  br    br   but what if you were given a bet to live on the streets for a month without the luxuries you once had from a home  the entertainment sets  a bathroom  pictures on the wall  a computer  and everything you once treasure to see what it  s like to be homeless  that is goddard bolt  s lesson .  br    br   mel brooks  who directs  who stars as bolt plays a rich man who has everything in the world until deciding to make a bet with a sissy rival  jeffery tambor  to see if he can live in the streets for thirty days without the luxuries if bolt succeeds  he can do what he wants with a future project of making more buildings . the bet  s on where bolt is thrown on the street with a bracelet on his leg to monitor his every move where he can  t step off the sidewalk . he  s given the nickname pepto by a vagrant after it  s written on his forehead where bolt meets other characters including a woman by the name of molly  lesley ann warren  an ex  dancer who got divorce before losing her home  and her pals sailor  howard morris  and fumes  teddy wilson  who are already used to the streets . they  re survivors . bolt isn  t . he  s not used to reaching mutual agreements like he once did when being rich where it  s fight or flight  kill or be killed .  br    br   while the love connection between molly and bolt wasn  t necessary to plot  i found  life stinks  to be one of mel brooks  observant films where prior to being a comedy  it shows a tender side compared to his slapstick work such as blazing saddles  young frankenstein  or spaceballs for the matter  to show what it  s like having something valuable before losing it the next day or on the other hand making a stupid bet like all rich people do when they don  t know what to do with their money . maybe they should give it to the homeless instead of using it like monopoly money .  br    br   or maybe this film will inspire you to help others .  '"
            ]
          },
          "metadata": {
            "tags": []
          },
          "execution_count": 8
        }
      ]
    },
    {
      "metadata": {
        "id": "xCT6VMGW-h_d",
        "colab_type": "code",
        "colab": {
          "base_uri": "https://localhost:8080/",
          "height": 198
        },
        "outputId": "6933e0b8-d7c4-487c-93dc-d47a58c1d3ee"
      },
      "cell_type": "code",
      "source": [
        "\n",
        "labels[:5]\n",
        "# 0 = bad 1 = good"
      ],
      "execution_count": 9,
      "outputs": [
        {
          "output_type": "execute_result",
          "data": {
            "text/html": [
              "<div>\n",
              "<style scoped>\n",
              "    .dataframe tbody tr th:only-of-type {\n",
              "        vertical-align: middle;\n",
              "    }\n",
              "\n",
              "    .dataframe tbody tr th {\n",
              "        vertical-align: top;\n",
              "    }\n",
              "\n",
              "    .dataframe thead th {\n",
              "        text-align: right;\n",
              "    }\n",
              "</style>\n",
              "<table border=\"1\" class=\"dataframe\">\n",
              "  <thead>\n",
              "    <tr style=\"text-align: right;\">\n",
              "      <th></th>\n",
              "      <th>0</th>\n",
              "      <th>1</th>\n",
              "    </tr>\n",
              "  </thead>\n",
              "  <tbody>\n",
              "    <tr>\n",
              "      <th>0</th>\n",
              "      <td>0.0</td>\n",
              "      <td>1.0</td>\n",
              "    </tr>\n",
              "    <tr>\n",
              "      <th>1</th>\n",
              "      <td>1.0</td>\n",
              "      <td>0.0</td>\n",
              "    </tr>\n",
              "    <tr>\n",
              "      <th>2</th>\n",
              "      <td>0.0</td>\n",
              "      <td>1.0</td>\n",
              "    </tr>\n",
              "    <tr>\n",
              "      <th>3</th>\n",
              "      <td>1.0</td>\n",
              "      <td>0.0</td>\n",
              "    </tr>\n",
              "    <tr>\n",
              "      <th>4</th>\n",
              "      <td>0.0</td>\n",
              "      <td>1.0</td>\n",
              "    </tr>\n",
              "  </tbody>\n",
              "</table>\n",
              "</div>"
            ],
            "text/plain": [
              "     0    1\n",
              "0  0.0  1.0\n",
              "1  1.0  0.0\n",
              "2  0.0  1.0\n",
              "3  1.0  0.0\n",
              "4  0.0  1.0"
            ]
          },
          "metadata": {
            "tags": []
          },
          "execution_count": 9
        }
      ]
    },
    {
      "metadata": {
        "id": "bOcbq0FZ-h_g",
        "colab_type": "text"
      },
      "cell_type": "markdown",
      "source": [
        "Counting the words in the dataset"
      ]
    },
    {
      "metadata": {
        "id": "l292G_Zq-h_h",
        "colab_type": "code",
        "colab": {
          "base_uri": "https://localhost:8080/",
          "height": 35
        },
        "outputId": "7d572c19-206a-4244-8a1a-6930a50b2f0b"
      },
      "cell_type": "code",
      "source": [
        "total_counts = Counter()\n",
        "for i,row in reviews.iterrows():\n",
        "    total_counts.update(row[0].split(' '))\n",
        "\n",
        "print(\"Total words in data set: \", len(total_counts))"
      ],
      "execution_count": 10,
      "outputs": [
        {
          "output_type": "stream",
          "text": [
            "Total words in data set:  74074\n"
          ],
          "name": "stdout"
        }
      ]
    },
    {
      "metadata": {
        "id": "HnmO3IK5-h_m",
        "colab_type": "text"
      },
      "cell_type": "markdown",
      "source": [
        "Just keeping the 10k most frequent words"
      ]
    },
    {
      "metadata": {
        "id": "E6dzrkzy-h_n",
        "colab_type": "code",
        "colab": {
          "base_uri": "https://localhost:8080/",
          "height": 35
        },
        "outputId": "0a113755-dbea-47e1-8eb0-614881c15fe6"
      },
      "cell_type": "code",
      "source": [
        "vocab = sorted(total_counts, key=total_counts.get, reverse=True)[:10000]\n",
        "print(vocab[40:50])"
      ],
      "execution_count": 11,
      "outputs": [
        {
          "output_type": "stream",
          "text": [
            "['like', 'there', 'her', 'or', 'just', 'about', 'out', 'if', 'has', 'what']\n"
          ],
          "name": "stdout"
        }
      ]
    },
    {
      "metadata": {
        "id": "N1KTw7m2-h_q",
        "colab_type": "code",
        "colab": {
          "base_uri": "https://localhost:8080/",
          "height": 162
        },
        "outputId": "6de97510-5c59-41d1-9e25-9bbdcfd66aa3"
      },
      "cell_type": "code",
      "source": [
        "print(vocab[0], ': ', total_counts[vocab[1]])"
      ],
      "execution_count": 1,
      "outputs": [
        {
          "output_type": "error",
          "ename": "NameError",
          "evalue": "ignored",
          "traceback": [
            "\u001b[0;31m---------------------------------------------------------------------------\u001b[0m",
            "\u001b[0;31mNameError\u001b[0m                                 Traceback (most recent call last)",
            "\u001b[0;32m<ipython-input-1-4807dfb4168f>\u001b[0m in \u001b[0;36m<module>\u001b[0;34m()\u001b[0m\n\u001b[0;32m----> 1\u001b[0;31m \u001b[0mprint\u001b[0m\u001b[0;34m(\u001b[0m\u001b[0mvocab\u001b[0m\u001b[0;34m[\u001b[0m\u001b[0;36m0\u001b[0m\u001b[0;34m]\u001b[0m\u001b[0;34m,\u001b[0m \u001b[0;34m': '\u001b[0m\u001b[0;34m,\u001b[0m \u001b[0mtotal_counts\u001b[0m\u001b[0;34m[\u001b[0m\u001b[0mvocab\u001b[0m\u001b[0;34m[\u001b[0m\u001b[0;36m1\u001b[0m\u001b[0;34m]\u001b[0m\u001b[0;34m]\u001b[0m\u001b[0;34m)\u001b[0m\u001b[0;34m\u001b[0m\u001b[0m\n\u001b[0m",
            "\u001b[0;31mNameError\u001b[0m: name 'vocab' is not defined"
          ]
        }
      ]
    },
    {
      "metadata": {
        "id": "z6WyNN2K-h_t",
        "colab_type": "text"
      },
      "cell_type": "markdown",
      "source": [
        "### Making our word index table\n",
        "\n",
        "we can input a word it gives back the number"
      ]
    },
    {
      "metadata": {
        "id": "fltj8miI-h_u",
        "colab_type": "code",
        "colab": {}
      },
      "cell_type": "code",
      "source": [
        "word2idx = {word: i for i, word in enumerate(vocab)} #dictionary comprehension "
      ],
      "execution_count": 0,
      "outputs": []
    },
    {
      "metadata": {
        "id": "pgHt9wvk-h_y",
        "colab_type": "code",
        "colab": {
          "base_uri": "https://localhost:8080/",
          "height": 35
        },
        "outputId": "5a36e14c-875b-470b-9e4b-08e8dc020d8b"
      },
      "cell_type": "code",
      "source": [
        "word2idx['was']"
      ],
      "execution_count": 17,
      "outputs": [
        {
          "output_type": "execute_result",
          "data": {
            "text/plain": [
              "15"
            ]
          },
          "metadata": {
            "tags": []
          },
          "execution_count": 17
        }
      ]
    },
    {
      "metadata": {
        "id": "389OTX-b-h_1",
        "colab_type": "text"
      },
      "cell_type": "markdown",
      "source": [
        "Convert the a review to a vector of words 10k long"
      ]
    },
    {
      "metadata": {
        "id": "Mwc3GwfZ-h_2",
        "colab_type": "code",
        "colab": {}
      },
      "cell_type": "code",
      "source": [
        "def text_to_vector(text):\n",
        "    word_vector = np.zeros(len(vocab), dtype=np.int_)\n",
        "    for word in text.split(' '):\n",
        "        idx = word2idx.get(word,None)\n",
        "        if idx is None:\n",
        "            continue\n",
        "        else:\n",
        "            word_vector[idx] = 1 # was += 1\n",
        "    return np.array(word_vector)"
      ],
      "execution_count": 0,
      "outputs": []
    },
    {
      "metadata": {
        "id": "gPMAs3OL-h_3",
        "colab_type": "code",
        "colab": {
          "base_uri": "https://localhost:8080/",
          "height": 69
        },
        "outputId": "fc751563-d68e-4ed5-9bb2-83c6df3c592c"
      },
      "cell_type": "code",
      "source": [
        "text_to_vector('There were lots of good movies and stars this year')[:65]"
      ],
      "execution_count": 19,
      "outputs": [
        {
          "output_type": "execute_result",
          "data": {
            "text/plain": [
              "array([0, 0, 0, 1, 0, 1, 0, 0, 0, 0, 0, 0, 1, 0, 0, 0, 0, 0, 0, 0, 0, 0,\n",
              "       0, 0, 0, 0, 0, 0, 0, 0, 0, 0, 0, 0, 0, 0, 0, 0, 0, 0, 0, 0, 0, 0,\n",
              "       0, 0, 0, 0, 0, 0, 0, 1, 0, 0, 0, 0, 0, 0, 0, 0, 0, 0, 0, 0, 0])"
            ]
          },
          "metadata": {
            "tags": []
          },
          "execution_count": 19
        }
      ]
    },
    {
      "metadata": {
        "id": "mb484Imi-h_9",
        "colab_type": "code",
        "colab": {
          "base_uri": "https://localhost:8080/",
          "height": 35
        },
        "outputId": "829859c4-d0b9-4c9b-8bbf-9bacb245bc86"
      },
      "cell_type": "code",
      "source": [
        "test_word_vector = text_to_vector('There were lots of good movies and stars this year')\n",
        "test_word_vector.shape"
      ],
      "execution_count": 20,
      "outputs": [
        {
          "output_type": "execute_result",
          "data": {
            "text/plain": [
              "(10000,)"
            ]
          },
          "metadata": {
            "tags": []
          },
          "execution_count": 20
        }
      ]
    },
    {
      "metadata": {
        "id": "ol7VMFei-iAA",
        "colab_type": "text"
      },
      "cell_type": "markdown",
      "source": [
        "Now do that for the whole corpus"
      ]
    },
    {
      "metadata": {
        "id": "DrKPGr0C-iAA",
        "colab_type": "code",
        "colab": {}
      },
      "cell_type": "code",
      "source": [
        "word_vectors = np.zeros((len(reviews), len(vocab)), dtype=np.int_)\n",
        "for ii, (_, text) in enumerate(reviews.iterrows()):\n",
        "    word_vectors[ii] = text_to_vector(text[0])"
      ],
      "execution_count": 0,
      "outputs": []
    },
    {
      "metadata": {
        "id": "oBlT83Uz-iAD",
        "colab_type": "code",
        "colab": {
          "base_uri": "https://localhost:8080/",
          "height": 138
        },
        "outputId": "071fc665-9fbb-41fb-82b1-4732e351ef49"
      },
      "cell_type": "code",
      "source": [
        "# Printing out the first 3 word vectors\n",
        "print(word_vectors[:3, :25])\n",
        "print(reviews[:3])"
      ],
      "execution_count": 22,
      "outputs": [
        {
          "output_type": "stream",
          "text": [
            "[[1 1 1 1 1 1 1 1 0 1 1 1 0 1 1 0 1 0 0 0 0 0 0 0 1]\n",
            " [1 1 1 1 1 1 1 1 0 1 0 0 0 1 1 0 0 1 1 0 0 0 1 1 0]\n",
            " [1 1 1 1 1 1 1 1 1 1 1 1 1 1 1 0 1 1 1 0 1 1 1 1 1]]\n",
            "                                                   0\n",
            "0  bromwell high is a cartoon comedy . it ran at ...\n",
            "1  story of a man who has unnatural feelings for ...\n",
            "2  homelessness  or houselessness as george carli...\n"
          ],
          "name": "stdout"
        }
      ]
    },
    {
      "metadata": {
        "id": "5qKLozta-iAG",
        "colab_type": "text"
      },
      "cell_type": "markdown",
      "source": [
        "Lets see what our tensor looks like"
      ]
    },
    {
      "metadata": {
        "id": "F3MJNBBn-iAH",
        "colab_type": "code",
        "colab": {
          "base_uri": "https://localhost:8080/",
          "height": 35
        },
        "outputId": "e3738b28-6254-43a5-8fa7-b1328ebbadb8"
      },
      "cell_type": "code",
      "source": [
        "word_vectors.shape"
      ],
      "execution_count": 23,
      "outputs": [
        {
          "output_type": "execute_result",
          "data": {
            "text/plain": [
              "(25000, 10000)"
            ]
          },
          "metadata": {
            "tags": []
          },
          "execution_count": 23
        }
      ]
    },
    {
      "metadata": {
        "id": "CVfHKPcY-iAJ",
        "colab_type": "code",
        "colab": {
          "base_uri": "https://localhost:8080/",
          "height": 104
        },
        "outputId": "4f77a743-a747-4e41-c0c3-6cd298cec212"
      },
      "cell_type": "code",
      "source": [
        "\n",
        "number_of_records = len(labels)\n",
        "shuffle = np.arange(number_of_records)\n",
        "np.random.shuffle(shuffle)\n",
        "test_fraction = 0.8\n",
        "\n",
        "#print(int(number_of_records*test_fraction))\n",
        "\n",
        "#making a train / test split\n",
        "train_split, test_split = shuffle[:int(number_of_records*test_fraction)], shuffle[int(number_of_records*test_fraction):]\n",
        "x_train, y_train = word_vectors[train_split,:], labels.values[train_split,:]\n",
        "x_test, y_test = word_vectors[test_split,:], labels.values[test_split]\n",
        "\n",
        "print(x_train.shape)\n",
        "print(y_train.shape)\n",
        "print(x_test.shape)\n",
        "print(y_test.shape)\n",
        "type(x_test[0][0])"
      ],
      "execution_count": 25,
      "outputs": [
        {
          "output_type": "stream",
          "text": [
            "(20000, 10000)\n",
            "(20000, 2)\n",
            "(5000, 10000)\n",
            "(5000, 2)\n"
          ],
          "name": "stdout"
        },
        {
          "output_type": "execute_result",
          "data": {
            "text/plain": [
              "numpy.int64"
            ]
          },
          "metadata": {
            "tags": []
          },
          "execution_count": 25
        }
      ]
    },
    {
      "metadata": {
        "id": "kg_Qiiv_-iAL",
        "colab_type": "code",
        "colab": {}
      },
      "cell_type": "code",
      "source": [
        "x_train, x_test, y_train, y_test = train_test_split(word_vectors,labels.values,test_size=0.2)"
      ],
      "execution_count": 0,
      "outputs": []
    },
    {
      "metadata": {
        "id": "eRf3KB1j-iAN",
        "colab_type": "code",
        "colab": {
          "base_uri": "https://localhost:8080/",
          "height": 35
        },
        "outputId": "c750b0ff-c5cf-4db3-acb5-e590983b207e"
      },
      "cell_type": "code",
      "source": [
        "x_test[0].shape"
      ],
      "execution_count": 27,
      "outputs": [
        {
          "output_type": "execute_result",
          "data": {
            "text/plain": [
              "(10000,)"
            ]
          },
          "metadata": {
            "tags": []
          },
          "execution_count": 27
        }
      ]
    },
    {
      "metadata": {
        "id": "ifxWnkKA-iAP",
        "colab_type": "code",
        "colab": {
          "base_uri": "https://localhost:8080/",
          "height": 104
        },
        "outputId": "63167c70-21ee-4642-ff05-bca85729b24c"
      },
      "cell_type": "code",
      "source": [
        "print(\"x_train :\",x_train.shape)\n",
        "print(\"y_train :\",y_train.shape)\n",
        "print(\"x_test :\",x_test.shape)\n",
        "print(\"y_test :\",y_test.shape)\n",
        "type(x_test[0][0])"
      ],
      "execution_count": 28,
      "outputs": [
        {
          "output_type": "stream",
          "text": [
            "x_train : (20000, 10000)\n",
            "y_train : (20000, 2)\n",
            "x_test : (5000, 10000)\n",
            "y_test : (5000, 2)\n"
          ],
          "name": "stdout"
        },
        {
          "output_type": "execute_result",
          "data": {
            "text/plain": [
              "numpy.int64"
            ]
          },
          "metadata": {
            "tags": []
          },
          "execution_count": 28
        }
      ]
    },
    {
      "metadata": {
        "id": "dmy5_SOA-iAS",
        "colab_type": "code",
        "colab": {}
      },
      "cell_type": "code",
      "source": [
        "# Training Parameters for basic MNIST\n",
        "learning_rate = 0.1 \n",
        "training_epochs = 10\n",
        "batch_size = 100\n",
        "\n",
        "# Network Parameters\n",
        "n_input = 10000 # MNIST data input (img shape: 28*28 flattened to be 784)\n",
        "n_hidden_1 = 100 # 1st layer number of neurons\n",
        "n_hidden_2 = 100 # 2nd layer number of neurons\n",
        "n_hidden_3 = 100 # 2nd layer number of neurons\n",
        "n_classes = 2 # MNIST classes for prediction(digits 0-9 )"
      ],
      "execution_count": 0,
      "outputs": []
    },
    {
      "metadata": {
        "id": "nl3k1euQ-iAV",
        "colab_type": "code",
        "colab": {}
      },
      "cell_type": "code",
      "source": [
        "Inp = Input(shape=(n_input,))\n",
        "x = Dense(n_hidden_1, activation='relu', name = \"Dense_1\")(Inp)\n",
        "x = Dropout(0.5, name = \"Dropout_01\")(x)\n",
        "x = Dense(n_hidden_2, activation='relu', name = \"Dense_2\")(x)\n",
        "x = Dropout(0.3, name = \"Dropout_02\")(x)\n",
        "x = Dense(n_hidden_3, activation='relu', name = \"Dense_3\")(x)\n",
        "output = Dense(n_classes, activation='softmax', name = \"Outputlayer\")(x)\n"
      ],
      "execution_count": 0,
      "outputs": []
    },
    {
      "metadata": {
        "id": "YftkoJOc-iAW",
        "colab_type": "code",
        "colab": {}
      },
      "cell_type": "code",
      "source": [
        "model = Model(Inp, output)"
      ],
      "execution_count": 0,
      "outputs": []
    },
    {
      "metadata": {
        "id": "Try0afFE-iAZ",
        "colab_type": "code",
        "colab": {
          "base_uri": "https://localhost:8080/",
          "height": 380
        },
        "outputId": "fe2d5704-e1b0-40f0-f969-e10fbecd434f"
      },
      "cell_type": "code",
      "source": [
        "model.summary()"
      ],
      "execution_count": 32,
      "outputs": [
        {
          "output_type": "stream",
          "text": [
            "_________________________________________________________________\n",
            "Layer (type)                 Output Shape              Param #   \n",
            "=================================================================\n",
            "input_1 (InputLayer)         (None, 10000)             0         \n",
            "_________________________________________________________________\n",
            "Dense_1 (Dense)              (None, 100)               1000100   \n",
            "_________________________________________________________________\n",
            "Dropout_01 (Dropout)         (None, 100)               0         \n",
            "_________________________________________________________________\n",
            "Dense_2 (Dense)              (None, 100)               10100     \n",
            "_________________________________________________________________\n",
            "Dropout_02 (Dropout)         (None, 100)               0         \n",
            "_________________________________________________________________\n",
            "Dense_3 (Dense)              (None, 100)               10100     \n",
            "_________________________________________________________________\n",
            "Outputlayer (Dense)          (None, 2)                 202       \n",
            "=================================================================\n",
            "Total params: 1,020,502\n",
            "Trainable params: 1,020,502\n",
            "Non-trainable params: 0\n",
            "_________________________________________________________________\n"
          ],
          "name": "stdout"
        }
      ]
    },
    {
      "metadata": {
        "id": "UQatJytC-iAe",
        "colab_type": "code",
        "colab": {}
      },
      "cell_type": "code",
      "source": [
        "model.compile(loss='categorical_crossentropy',\n",
        "              optimizer='adam',\n",
        "              metrics=['acc'])"
      ],
      "execution_count": 0,
      "outputs": []
    },
    {
      "metadata": {
        "id": "aXZNn_Jk-iAg",
        "colab_type": "code",
        "colab": {
          "base_uri": "https://localhost:8080/",
          "height": 400
        },
        "outputId": "1b5b53f1-9009-45e8-e67f-3668104c636f"
      },
      "cell_type": "code",
      "source": [
        "history = model.fit(x_train, y_train,\n",
        "                    batch_size=batch_size,\n",
        "                    epochs=training_epochs,\n",
        "                    verbose=1, # This is for what we want it to display out as it trains \n",
        "                    validation_data=(x_test, y_test))"
      ],
      "execution_count": 35,
      "outputs": [
        {
          "output_type": "stream",
          "text": [
            "Train on 20000 samples, validate on 5000 samples\n",
            "Epoch 1/10\n",
            "20000/20000 [==============================] - 4s 204us/step - loss: 0.3946 - acc: 0.8155 - val_loss: 0.2643 - val_acc: 0.8892\n",
            "Epoch 2/10\n",
            "20000/20000 [==============================] - 4s 188us/step - loss: 0.2160 - acc: 0.9185 - val_loss: 0.2911 - val_acc: 0.8870\n",
            "Epoch 3/10\n",
            "20000/20000 [==============================] - 4s 208us/step - loss: 0.1456 - acc: 0.9470 - val_loss: 0.3150 - val_acc: 0.8786\n",
            "Epoch 4/10\n",
            "20000/20000 [==============================] - 4s 216us/step - loss: 0.1027 - acc: 0.9636 - val_loss: 0.3830 - val_acc: 0.8828\n",
            "Epoch 5/10\n",
            " 5100/20000 [======>.......................] - ETA: 2s - loss: 0.0774 - acc: 0.9722"
          ],
          "name": "stdout"
        },
        {
          "output_type": "stream",
          "text": [
            "20000/20000 [==============================] - 4s 214us/step - loss: 0.0813 - acc: 0.9707 - val_loss: 0.4019 - val_acc: 0.8820\n",
            "Epoch 6/10\n",
            "20000/20000 [==============================] - 4s 201us/step - loss: 0.0608 - acc: 0.9786 - val_loss: 0.4470 - val_acc: 0.8792\n",
            "Epoch 7/10\n",
            "20000/20000 [==============================] - 4s 180us/step - loss: 0.0544 - acc: 0.9809 - val_loss: 0.4407 - val_acc: 0.8808\n",
            "Epoch 8/10\n",
            "20000/20000 [==============================] - 3s 174us/step - loss: 0.0493 - acc: 0.9813 - val_loss: 0.4759 - val_acc: 0.8734\n",
            "Epoch 9/10\n",
            "20000/20000 [==============================] - 3s 161us/step - loss: 0.0461 - acc: 0.9833 - val_loss: 0.5080 - val_acc: 0.8788\n",
            "Epoch 10/10\n",
            "  500/20000 [..............................] - ETA: 2s - loss: 0.0347 - acc: 0.9880"
          ],
          "name": "stdout"
        },
        {
          "output_type": "stream",
          "text": [
            "20000/20000 [==============================] - 3s 160us/step - loss: 0.0398 - acc: 0.9846 - val_loss: 0.5049 - val_acc: 0.8770\n"
          ],
          "name": "stdout"
        }
      ]
    },
    {
      "metadata": {
        "id": "fERGiWJe-iAj",
        "colab_type": "code",
        "colab": {}
      },
      "cell_type": "code",
      "source": [
        "def plot_train(hist):\n",
        "    h = hist.history\n",
        "    if 'acc' in h:\n",
        "        meas='acc'\n",
        "        loc='lower right'\n",
        "    else:\n",
        "        meas='loss'\n",
        "        loc='upper right'\n",
        "    plt.plot(hist.history[meas])\n",
        "    plt.plot(hist.history['val_'+meas])\n",
        "    plt.title('model '+meas)\n",
        "    plt.ylabel(meas)\n",
        "    plt.xlabel('epoch')\n",
        "    plt.legend(['train', 'validation'], loc=loc)"
      ],
      "execution_count": 0,
      "outputs": []
    },
    {
      "metadata": {
        "id": "aKCPcJXH-iAl",
        "colab_type": "code",
        "colab": {
          "base_uri": "https://localhost:8080/",
          "height": 295
        },
        "outputId": "4ee73f2a-2d03-4367-9faf-85eb5ee2be98"
      },
      "cell_type": "code",
      "source": [
        "plot_train(history)"
      ],
      "execution_count": 37,
      "outputs": [
        {
          "output_type": "display_data",
          "data": {
            "image/png": "[encoded data removed]",
            "text/plain": [
              "<matplotlib.figure.Figure at 0x7fbebd620748>"
            ]
          },
          "metadata": {
            "tags": []
          }
        }
      ]
    },
    {
      "metadata": {
        "id": "pOm5fKfI-iAn",
        "colab_type": "code",
        "colab": {}
      },
      "cell_type": "code",
      "source": [
        "preds = model.predict(x_test[10:15])"
      ],
      "execution_count": 0,
      "outputs": []
    },
    {
      "metadata": {
        "id": "zIY6a6-2-iAp",
        "colab_type": "code",
        "colab": {
          "base_uri": "https://localhost:8080/",
          "height": 104
        },
        "outputId": "df888978-15af-454f-b1a3-fa5957301144"
      },
      "cell_type": "code",
      "source": [
        "preds"
      ],
      "execution_count": 39,
      "outputs": [
        {
          "output_type": "execute_result",
          "data": {
            "text/plain": [
              "array([[9.4399340e-08, 9.9999988e-01],\n",
              "       [9.9974769e-01, 2.5226679e-04],\n",
              "       [6.8898112e-06, 9.9999309e-01],\n",
              "       [9.9267769e-01, 7.3223421e-03],\n",
              "       [9.9814701e-01, 1.8530507e-03]], dtype=float32)"
            ]
          },
          "metadata": {
            "tags": []
          },
          "execution_count": 39
        }
      ]
    },
    {
      "metadata": {
        "id": "zeijFuJx-iAr",
        "colab_type": "code",
        "colab": {
          "base_uri": "https://localhost:8080/",
          "height": 104
        },
        "outputId": "6f627e96-ae1c-4edd-8aca-20f89976454e"
      },
      "cell_type": "code",
      "source": [
        "y_test[10:15]"
      ],
      "execution_count": 40,
      "outputs": [
        {
          "output_type": "execute_result",
          "data": {
            "text/plain": [
              "array([[0., 1.],\n",
              "       [0., 1.],\n",
              "       [0., 1.],\n",
              "       [0., 1.],\n",
              "       [1., 0.]])"
            ]
          },
          "metadata": {
            "tags": []
          },
          "execution_count": 40
        }
      ]
    },
    {
      "metadata": {
        "id": "nAmCmP4T-iAt",
        "colab_type": "code",
        "colab": {}
      },
      "cell_type": "code",
      "source": [
        "preds = model.predict_on_batch(x_test[10:15])"
      ],
      "execution_count": 0,
      "outputs": []
    },
    {
      "metadata": {
        "id": "EOdSQvoI-iAw",
        "colab_type": "code",
        "colab": {
          "base_uri": "https://localhost:8080/",
          "height": 55
        },
        "outputId": "87a5a1a5-d192-41bb-94b9-9f950f732582"
      },
      "cell_type": "code",
      "source": [
        "reviews[0][0]"
      ],
      "execution_count": 43,
      "outputs": [
        {
          "output_type": "execute_result",
          "data": {
            "text/plain": [
              "'bromwell high is a cartoon comedy . it ran at the same time as some other programs about school life  such as  teachers  . my   years in the teaching profession lead me to believe that bromwell high  s satire is much closer to reality than is  teachers  . the scramble to survive financially  the insightful students who can see right through their pathetic teachers  pomp  the pettiness of the whole situation  all remind me of the schools i knew and their students . when i saw the episode in which a student repeatedly tried to burn down the school  i immediately recalled . . . . . . . . . at . . . . . . . . . . high . a classic line inspector i  m here to sack one of your teachers . student welcome to bromwell high . i expect that many adults of my age think that bromwell high is far fetched . what a pity that it isn  t   '"
            ]
          },
          "metadata": {
            "tags": []
          },
          "execution_count": 43
        }
      ]
    },
    {
      "metadata": {
        "id": "rpdItvCQ-iAx",
        "colab_type": "code",
        "colab": {}
      },
      "cell_type": "code",
      "source": [
        ""
      ],
      "execution_count": 0,
      "outputs": []
    }
  ]
}