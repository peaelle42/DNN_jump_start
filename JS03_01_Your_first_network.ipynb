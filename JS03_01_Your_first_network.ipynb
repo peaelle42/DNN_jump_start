{
  "nbformat": 4,
  "nbformat_minor": 0,
  "metadata": {
    "colab": {
      "name": "JS03-01. Your first network.ipynb",
      "version": "0.3.2",
      "provenance": [],
      "collapsed_sections": [],
      "include_colab_link": true
    },
    "kernelspec": {
      "display_name": "Python 3",
      "language": "python",
      "name": "python3"
    },
    "accelerator": "GPU"
  },
  "cells": [
    {
      "cell_type": "markdown",
      "metadata": {
        "id": "view-in-github",
        "colab_type": "text"
      },
      "source": [
        "[View in Colaboratory](https://colab.research.google.com/github/peaelle42/DNN_jump_start/blob/master/JS03_01_Your_first_network.ipynb)"
      ]
    },
    {
      "metadata": {
        "id": "uOGo9_z8BPsZ",
        "colab_type": "text"
      },
      "cell_type": "markdown",
      "source": [
        "### First we need to download the dependency files \n",
        "\n",
        "This will download, unzip then clean up "
      ]
    },
    {
      "metadata": {
        "id": "iLLiDLZWPAEb",
        "colab_type": "code",
        "colab": {}
      },
      "cell_type": "code",
      "source": [
        "# Setup, download, unzip\n",
        "!wget -qq -y https://www.dropbox.com/s/4wdgtnr4z950hcf/notebook1.zip \n",
        "!unzip -qq notebook1.zip\n",
        "\n",
        "!rm -r __MACOSX\n",
        "\n",
        "!ls"
      ],
      "execution_count": 0,
      "outputs": []
    },
    {
      "metadata": {
        "id": "rrHFpxCvVZMN",
        "colab_type": "code",
        "colab": {}
      },
      "cell_type": "code",
      "source": [
        "!ls"
      ],
      "execution_count": 0,
      "outputs": []
    },
    {
      "metadata": {
        "id": "XIcD18WtNmxl",
        "colab_type": "text"
      },
      "cell_type": "markdown",
      "source": [
        "# 1. Your first Keras Network\n",
        "\n"
      ]
    },
    {
      "metadata": {
        "id": "k_1Qre6tNmxn",
        "colab_type": "code",
        "colab": {}
      },
      "cell_type": "code",
      "source": [
        "%matplotlib inline\n",
        "import matplotlib.pyplot as plt\n",
        "\n",
        "import keras\n",
        "from keras.models import Model, Sequential\n",
        "from keras.layers import *\n",
        "from keras.optimizers import Adam\n",
        "\n",
        "import tensorflow as tf\n",
        "import numpy as np"
      ],
      "execution_count": 0,
      "outputs": []
    },
    {
      "metadata": {
        "id": "fM_7DvDgNmxu",
        "colab_type": "code",
        "colab": {}
      },
      "cell_type": "code",
      "source": [
        "print(keras.__version__)\n",
        "print(tf.keras.__version__)\n",
        "print(tf.__version__)"
      ],
      "execution_count": 0,
      "outputs": []
    },
    {
      "metadata": {
        "id": "6_bga1KtWurD",
        "colab_type": "code",
        "colab": {}
      },
      "cell_type": "code",
      "source": [
        "#!pip install keras"
      ],
      "execution_count": 0,
      "outputs": []
    },
    {
      "metadata": {
        "id": "wxb9coc0Nmxy",
        "colab_type": "text"
      },
      "cell_type": "markdown",
      "source": [
        "### Lets import our dataset"
      ]
    },
    {
      "metadata": {
        "id": "5M5S2tyXNmxy",
        "colab_type": "code",
        "colab": {}
      },
      "cell_type": "code",
      "source": [
        "from keras.datasets import mnist\n",
        "\n",
        "(x_train, y_train), (x_test, y_test) = mnist.load_data()"
      ],
      "execution_count": 0,
      "outputs": []
    },
    {
      "metadata": {
        "id": "k2fgJd41Nmx1",
        "colab_type": "code",
        "colab": {}
      },
      "cell_type": "code",
      "source": [
        "print(x_train.shape)\n",
        "print(y_train.shape)\n",
        "print(x_test.shape)\n",
        "print(y_test.shape)"
      ],
      "execution_count": 0,
      "outputs": []
    },
    {
      "metadata": {
        "id": "acuhLGykNmx4",
        "colab_type": "code",
        "colab": {}
      },
      "cell_type": "code",
      "source": [
        "#examine what the first image looks like\n",
        "x_train[0]"
      ],
      "execution_count": 0,
      "outputs": []
    },
    {
      "metadata": {
        "id": "vvDsyrZLNmx8",
        "colab_type": "code",
        "colab": {}
      },
      "cell_type": "code",
      "source": [
        "y_train[0]"
      ],
      "execution_count": 0,
      "outputs": []
    },
    {
      "metadata": {
        "id": "PNxv7rTCp46Y",
        "colab_type": "code",
        "colab": {}
      },
      "cell_type": "code",
      "source": [
        "!ls\n",
        "from IPython.display import Image"
      ],
      "execution_count": 0,
      "outputs": []
    },
    {
      "metadata": {
        "id": "R5kYSPfhNmx_",
        "colab_type": "text"
      },
      "cell_type": "markdown",
      "source": [
        "## What is a Tensor\n",
        "\n",
        "\n",
        "multi dimensional array/matrix"
      ]
    },
    {
      "metadata": {
        "id": "uL_JbHwUqCTu",
        "colab_type": "code",
        "colab": {}
      },
      "cell_type": "code",
      "source": [
        "Image('./diagram5g.png', width=800)"
      ],
      "execution_count": 0,
      "outputs": []
    },
    {
      "metadata": {
        "id": "BLvwLUFeNmyB",
        "colab_type": "text"
      },
      "cell_type": "markdown",
      "source": [
        "### MNIST Image Tensor X_train\n",
        "\n"
      ]
    },
    {
      "metadata": {
        "id": "oFhYuabDqdcC",
        "colab_type": "code",
        "colab": {}
      },
      "cell_type": "code",
      "source": [
        "Image('./diagram4f.png', width=550)\n",
        "\n"
      ],
      "execution_count": 0,
      "outputs": []
    },
    {
      "metadata": {
        "id": "khjA4tS0qqf9",
        "colab_type": "code",
        "colab": {}
      },
      "cell_type": "code",
      "source": [
        "Image('./diagram6d.png', width=550)"
      ],
      "execution_count": 0,
      "outputs": []
    },
    {
      "metadata": {
        "id": "POZyY3LdNmyC",
        "colab_type": "text"
      },
      "cell_type": "markdown",
      "source": [
        "## Preparing the data for a basic network"
      ]
    },
    {
      "metadata": {
        "id": "HidFOFL0NmyD",
        "colab_type": "code",
        "colab": {}
      },
      "cell_type": "code",
      "source": [
        "\n",
        "x_train = x_train.reshape(60000, 784)\n",
        "x_test = x_test.reshape(10000, 784)\n",
        "x_train = x_train.astype('float32')\n",
        "x_test = x_test.astype('float32')\n",
        "x_train /= 255\n",
        "x_test /= 255\n",
        "print(x_train.shape, 'train samples')\n",
        "print(x_test.shape, 'test samples')"
      ],
      "execution_count": 0,
      "outputs": []
    },
    {
      "metadata": {
        "id": "kCmz91ELpO6Y",
        "colab_type": "code",
        "colab": {}
      },
      "cell_type": "code",
      "source": [
        "x_train[0]"
      ],
      "execution_count": 0,
      "outputs": []
    },
    {
      "metadata": {
        "id": "mPp_BP8vNmyH",
        "colab_type": "code",
        "colab": {}
      },
      "cell_type": "code",
      "source": [
        "n_classes = 10\n",
        "\n",
        "# convert class vectors to binary One Hot Encoded\n",
        "y_train = keras.utils.to_categorical(y_train, n_classes)\n",
        "y_test = keras.utils.to_categorical(y_test, n_classes)\n",
        "y_train[0]"
      ],
      "execution_count": 0,
      "outputs": []
    },
    {
      "metadata": {
        "id": "Of2F2HTENmyL",
        "colab_type": "code",
        "colab": {}
      },
      "cell_type": "code",
      "source": [
        "# Method for displaying the number as a picture\n",
        "\n",
        "def show_digit(index):\n",
        "    label = y_train[index].argmax(axis=0)\n",
        "    # Reshape 784 array into 28x28 image\n",
        "    image = x_train[index].reshape([28,28])\n",
        "    fig, axes = plt.subplots(1, )\n",
        "    fig.subplots_adjust(hspace=0.5, wspace=0.5)\n",
        "    plt.title('Training data, index: %d,  Label: %d' % (index, label))\n",
        "    plt.imshow(image, cmap='gray_r')\n",
        "    plt.show()\n",
        "    \n",
        "def show_predicted_digit(image, pred, label):\n",
        "    # Reshape 784 array into 28x28 image\n",
        "    image = image.reshape([28,28])\n",
        "    plt.title('Original Image, Pred: %d,  True Label: %d' %(pred, label))\n",
        "    plt.imshow(image, cmap='gray_r')\n",
        "    plt.show()\n",
        "    \n",
        "# Display the first (index 0) training image\n",
        "show_digit(1)\n",
        "show_digit(2)\n",
        "show_digit(3)"
      ],
      "execution_count": 0,
      "outputs": []
    },
    {
      "metadata": {
        "id": "a-AnbuBQNmyO",
        "colab_type": "text"
      },
      "cell_type": "markdown",
      "source": [
        "### Setting up our Network Hyper Parameters"
      ]
    },
    {
      "metadata": {
        "id": "xZBW2RWdNmyP",
        "colab_type": "code",
        "colab": {}
      },
      "cell_type": "code",
      "source": [
        "# Training Parameters for basic MNIST\n",
        "learning_rate = 0.1 \n",
        "training_epochs = 2\n",
        "batch_size = 100\n",
        "\n",
        "# Network Parameters\n",
        "n_input = 784 # MNIST data input (img shape: 28*28 flattened to be 784)\n",
        "n_hidden_1 = 384 # 1st layer number of neurons\n",
        "n_hidden_2 = 100 # 2nd layer number of neurons\n",
        "n_classes = 10 # MNIST classes for prediction(digits 0-9 )"
      ],
      "execution_count": 0,
      "outputs": []
    },
    {
      "metadata": {
        "id": "hHqVX5SaNmyS",
        "colab_type": "text"
      },
      "cell_type": "markdown",
      "source": [
        "### Lets build our first sequential network\n",
        "\n",
        "We start out by defining our model as a sequential one  \n",
        "\n",
        "Then we add 2 Dense layers  \n",
        "In each Dense layer we have to define the number of hidden units/neurons for that layer  \n",
        "We can also add a name to each layer so that we can see it easily in our summary and later in Tensorboard\n"
      ]
    },
    {
      "metadata": {
        "id": "zQmvPtBZNmyS",
        "colab_type": "code",
        "colab": {}
      },
      "cell_type": "code",
      "source": [
        "model = Sequential()\n",
        "model.add(Dense(n_hidden_1,  input_shape=(n_input,), name = \"Dense_1\"))\n",
        "model.add(Activation('relu', name = \"Relu1\"))\n",
        "model.add(Dense(n_hidden_2, name = \"Dense_2\"))\n",
        "model.add(Activation('relu', name = \"Relu2\"))\n",
        "model.add(Dense(n_classes, name = \"Output\"))\n",
        "model.add(Activation('softmax', name = \"Softmax_output\"))"
      ],
      "execution_count": 0,
      "outputs": []
    },
    {
      "metadata": {
        "id": "1f2VuJU6NmyW",
        "colab_type": "code",
        "colab": {}
      },
      "cell_type": "code",
      "source": [
        "model.summary()"
      ],
      "execution_count": 0,
      "outputs": []
    },
    {
      "metadata": {
        "id": "iwS8l5y1NmyY",
        "colab_type": "text"
      },
      "cell_type": "markdown",
      "source": [
        "### Lets calculate the the parameters\n",
        "\n",
        "layer 1 = (384 units * 784 weights) + (384 units * 1 bias)  = 301,440  \n",
        "\n",
        "layer 2 = (100 units * 384 weights) + (100 units * 1 bias)  = 38,500  \n",
        "\n",
        "layer 3 = (10 units * 100) +(10 units * bias)\n",
        "\n"
      ]
    },
    {
      "metadata": {
        "id": "Lkfy43l2NmyZ",
        "colab_type": "code",
        "colab": {}
      },
      "cell_type": "code",
      "source": [
        "model.compile(loss='categorical_crossentropy',\n",
        "              optimizer='SGD',\n",
        "              metrics=['accuracy'])"
      ],
      "execution_count": 0,
      "outputs": []
    },
    {
      "metadata": {
        "id": "NzlA7b1sNmyc",
        "colab_type": "code",
        "colab": {}
      },
      "cell_type": "code",
      "source": [
        "history = model.fit(x_train, y_train,\n",
        "                    batch_size=batch_size,\n",
        "                    epochs=10,\n",
        "                    verbose=1,\n",
        "                    validation_data=(x_test, y_test))"
      ],
      "execution_count": 0,
      "outputs": []
    },
    {
      "metadata": {
        "id": "-DLoLeN5Nmyf",
        "colab_type": "code",
        "colab": {}
      },
      "cell_type": "code",
      "source": [
        "score = model.evaluate(x_test, y_test, verbose=0)\n",
        "print('Test loss:', score[0])\n",
        "print('Test accuracy:', score[1])"
      ],
      "execution_count": 0,
      "outputs": []
    },
    {
      "metadata": {
        "id": "4gaVOHMsNmyi",
        "colab_type": "code",
        "colab": {}
      },
      "cell_type": "code",
      "source": [
        ""
      ],
      "execution_count": 0,
      "outputs": []
    },
    {
      "metadata": {
        "id": "WMY7QpXmNmyl",
        "colab_type": "text"
      },
      "cell_type": "markdown",
      "source": [
        "### Making the model simpler in a simpler way\n",
        "\n",
        "Often when we write out Layer we put the activation functions in the Layer itself rather than on its own"
      ]
    },
    {
      "metadata": {
        "id": "UKhGDW8ANmym",
        "colab_type": "code",
        "colab": {}
      },
      "cell_type": "code",
      "source": [
        "model = Sequential()\n",
        "model.add(Dense(n_hidden_1, activation='relu',  input_shape=(n_input,), name = \"Dense_1\"))\n",
        "model.add(Dense(n_hidden_2, activation='relu', name = \"Dense_2\"))\n",
        "model.add(Dense(10, activation='softmax', name = \"Output\"))"
      ],
      "execution_count": 0,
      "outputs": []
    },
    {
      "metadata": {
        "id": "g8ebDqXkvzdd",
        "colab_type": "code",
        "colab": {}
      },
      "cell_type": "code",
      "source": [
        "model.summary()"
      ],
      "execution_count": 0,
      "outputs": []
    },
    {
      "metadata": {
        "id": "HXF6D_UeNmyo",
        "colab_type": "code",
        "colab": {}
      },
      "cell_type": "code",
      "source": [
        "model.compile(loss='categorical_crossentropy',\n",
        "              optimizer='SGD',\n",
        "              metrics=['accuracy'])"
      ],
      "execution_count": 0,
      "outputs": []
    },
    {
      "metadata": {
        "id": "DlU1ESP-Nmyr",
        "colab_type": "code",
        "colab": {}
      },
      "cell_type": "code",
      "source": [
        "history = model.fit(x_train, y_train,\n",
        "                    batch_size=batch_size,\n",
        "                    epochs=training_epochs,\n",
        "                    verbose=1, # This is for what we want it to display out as it trains \n",
        "                    validation_data=(x_test, y_test))"
      ],
      "execution_count": 0,
      "outputs": []
    },
    {
      "metadata": {
        "id": "62Q93Y8yNmyu",
        "colab_type": "code",
        "colab": {}
      },
      "cell_type": "code",
      "source": [
        "score = model.evaluate(x_test, y_test, verbose=0)\n",
        "print('Test loss:', score[0])\n",
        "print('Test accuracy:', score[1])"
      ],
      "execution_count": 0,
      "outputs": []
    },
    {
      "metadata": {
        "id": "KdxCpdV6Nmyy",
        "colab_type": "text"
      },
      "cell_type": "markdown",
      "source": [
        "## Now your turn\n",
        "\n",
        "I want you to build a Sequential model "
      ]
    },
    {
      "metadata": {
        "id": "d_SDqEzzNmyz",
        "colab_type": "code",
        "colab": {}
      },
      "cell_type": "code",
      "source": [
        "# Network Parameters\n",
        "n_input =  784# MNIST data input (img shape: 28*28 flattened to be 784)\n",
        "n_hidden_1 = 100 # 1st layer number of neurons\n",
        "n_hidden_2 = 100 # 2nd layer number of neurons\n",
        "n_hidden_3 = 100 # 3rd layer number of neurons\n",
        "n_hidden_4 = 100 # 4th layer number of neurons\n",
        "n_classes =  10# MNIST classes for prediction(digits 0-9 )"
      ],
      "execution_count": 0,
      "outputs": []
    },
    {
      "metadata": {
        "id": "UY2h3EyPNmy2",
        "colab_type": "code",
        "colab": {}
      },
      "cell_type": "code",
      "source": [
        "# Build your model here\n",
        "\n",
        "\n",
        "\n",
        "\n",
        "\n"
      ],
      "execution_count": 0,
      "outputs": []
    },
    {
      "metadata": {
        "id": "NYDj1c1BNmy4",
        "colab_type": "code",
        "colab": {}
      },
      "cell_type": "code",
      "source": [
        ""
      ],
      "execution_count": 0,
      "outputs": []
    },
    {
      "metadata": {
        "id": "q30Je4IuNmy8",
        "colab_type": "code",
        "colab": {}
      },
      "cell_type": "code",
      "source": [
        "#now compile your model\n"
      ],
      "execution_count": 0,
      "outputs": []
    },
    {
      "metadata": {
        "id": "iB-s7x-HNmzA",
        "colab_type": "code",
        "colab": {}
      },
      "cell_type": "code",
      "source": [
        "#test to see that it worked\n",
        "model.summary()"
      ],
      "execution_count": 0,
      "outputs": []
    },
    {
      "metadata": {
        "id": "o-BdU_8nNmzC",
        "colab_type": "code",
        "colab": {}
      },
      "cell_type": "code",
      "source": [
        "learning_rate = 0.1 \n",
        "training_epochs = 2\n",
        "batch_size = 100"
      ],
      "execution_count": 0,
      "outputs": []
    },
    {
      "metadata": {
        "id": "Quz31K2DNmzG",
        "colab_type": "code",
        "colab": {}
      },
      "cell_type": "code",
      "source": [
        "# now train/fit your model"
      ],
      "execution_count": 0,
      "outputs": []
    },
    {
      "metadata": {
        "id": "kYCXCPihNmzI",
        "colab_type": "code",
        "colab": {}
      },
      "cell_type": "code",
      "source": [
        ""
      ],
      "execution_count": 0,
      "outputs": []
    },
    {
      "metadata": {
        "id": "6UcWk6MiNmzJ",
        "colab_type": "code",
        "colab": {}
      },
      "cell_type": "code",
      "source": [
        ""
      ],
      "execution_count": 0,
      "outputs": []
    },
    {
      "metadata": {
        "id": "Ar4Vj0bRNmzM",
        "colab_type": "code",
        "colab": {}
      },
      "cell_type": "code",
      "source": [
        "score = model.evaluate(x_test, y_test, verbose=0)\n",
        "print('Test loss:', score[0])\n",
        "print('Test accuracy:', score[1])"
      ],
      "execution_count": 0,
      "outputs": []
    }
  ]
}