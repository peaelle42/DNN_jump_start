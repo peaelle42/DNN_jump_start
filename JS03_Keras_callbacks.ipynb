{
  "nbformat": 4,
  "nbformat_minor": 0,
  "metadata": {
    "colab": {
      "name": "JS03-Keras callbacks.ipynb",
      "version": "0.3.2",
      "provenance": [],
      "include_colab_link": true
    },
    "kernelspec": {
      "display_name": "Python 3",
      "language": "python",
      "name": "python3"
    },
    "accelerator": "GPU"
  },
  "cells": [
    {
      "cell_type": "markdown",
      "metadata": {
        "id": "view-in-github",
        "colab_type": "text"
      },
      "source": [
        "[View in Colaboratory](https://colab.research.google.com/github/peaelle42/DNN_jump_start/blob/master/JS03_Keras_callbacks.ipynb)"
      ]
    },
    {
      "metadata": {
        "id": "X6EOUvZ29KWO",
        "colab_type": "text"
      },
      "cell_type": "markdown",
      "source": [
        "## Testing for GPU\n",
        "To Test if you have GPU set up\n",
        "\n",
        "Run the Cell below\n",
        "\n",
        "if no GPU is found press Runtime (in the menu at the top) and choose \"Change Runtime Type\" to GPU"
      ]
    },
    {
      "metadata": {
        "id": "2gdXqj0o9Ip4",
        "colab_type": "code",
        "colab": {
          "base_uri": "https://localhost:8080/",
          "height": 34
        },
        "outputId": "8d8e6a39-13db-40c3-ae61-d0bab3411b9a"
      },
      "cell_type": "code",
      "source": [
        "import tensorflow as tf\n",
        "device_name = tf.test.gpu_device_name()\n",
        "if device_name != '/device:GPU:0':\n",
        "  raise SystemError('GPU device not found')\n",
        "print('Found GPU at: {}'.format(device_name))"
      ],
      "execution_count": 3,
      "outputs": [
        {
          "output_type": "stream",
          "text": [
            "Found GPU at: /device:GPU:0\n"
          ],
          "name": "stdout"
        }
      ]
    },
    {
      "metadata": {
        "id": "kWef1NvKGczH",
        "colab_type": "text"
      },
      "cell_type": "markdown",
      "source": [
        "## Keras Callbacks\n",
        "\n",
        "This is to show implementations of Keras Callbacks and how to use them\n",
        "\n",
        "- Basic History and plotting  \n",
        "- Model checkpoints  \n",
        "- Early Stopping  \n",
        "- Learning Rate Scheduler  \n",
        "- ReduceLROnPlateau  \n",
        "- LambdaCallback\n",
        "- Custom Callback  "
      ]
    },
    {
      "metadata": {
        "id": "-_40C_H5GczI",
        "colab_type": "text"
      },
      "cell_type": "markdown",
      "source": [
        "### Set up a model"
      ]
    },
    {
      "metadata": {
        "id": "T7QANXfPGczJ",
        "colab_type": "code",
        "colab": {}
      },
      "cell_type": "code",
      "source": [
        "%matplotlib inline\n",
        "import matplotlib.pyplot as plt\n",
        "import keras\n",
        "from keras.datasets import mnist\n",
        "from keras.models import Sequential\n",
        "from keras.layers import Dense, Dropout, Flatten\n",
        "from keras.layers import Conv2D, MaxPooling2D\n",
        "from keras.optimizers import RMSprop\n",
        "from keras.callbacks import ModelCheckpoint, Callback, ReduceLROnPlateau, LearningRateScheduler, EarlyStopping, TensorBoard\n",
        "from keras.callbacks import LambdaCallback\n",
        "from keras import backend as K\n",
        "\n",
        "import tensorflow as tf\n",
        "\n"
      ],
      "execution_count": 0,
      "outputs": []
    },
    {
      "metadata": {
        "id": "_yjZMHPMGczP",
        "colab_type": "code",
        "colab": {
          "base_uri": "https://localhost:8080/",
          "height": 50
        },
        "outputId": "7212f06d-390e-4cd9-9406-f45513459de6"
      },
      "cell_type": "code",
      "source": [
        "print(keras.__version__)\n",
        "print(tf.__version__)"
      ],
      "execution_count": 5,
      "outputs": [
        {
          "output_type": "stream",
          "text": [
            "2.1.6\n",
            "1.9.0-rc2\n"
          ],
          "name": "stdout"
        }
      ]
    },
    {
      "metadata": {
        "id": "jbr6rIgLGczT",
        "colab_type": "code",
        "colab": {
          "base_uri": "https://localhost:8080/",
          "height": 84
        },
        "outputId": "c88cc0df-b598-4197-cfd5-8d7953b8290b"
      },
      "cell_type": "code",
      "source": [
        "batch_size = 128\n",
        "num_classes = 10\n",
        "epochs = 10\n",
        "\n",
        "# the data, shuffled and split between train and test sets\n",
        "(x_train, y_train), (x_test, y_test) = mnist.load_data()\n",
        "\n",
        "x_train = x_train.reshape(60000, 784)\n",
        "x_test = x_test.reshape(10000, 784)\n",
        "x_train = x_train.astype('float32')\n",
        "x_test = x_test.astype('float32')\n",
        "x_train /= 255\n",
        "x_test /= 255\n",
        "print(x_train.shape[0], 'train samples')\n",
        "print(x_test.shape[0], 'test samples')"
      ],
      "execution_count": 6,
      "outputs": [
        {
          "output_type": "stream",
          "text": [
            "Downloading data from https://s3.amazonaws.com/img-datasets/mnist.npz\n",
            "11493376/11490434 [==============================] - 1s 0us/step\n",
            "60000 train samples\n",
            "10000 test samples\n"
          ],
          "name": "stdout"
        }
      ]
    },
    {
      "metadata": {
        "id": "sL8Fc_CqGczW",
        "colab_type": "code",
        "colab": {}
      },
      "cell_type": "code",
      "source": [
        "# convert class vectors to binary class matrices\n",
        "y_train = keras.utils.to_categorical(y_train, num_classes)\n",
        "y_test = keras.utils.to_categorical(y_test, num_classes)"
      ],
      "execution_count": 0,
      "outputs": []
    },
    {
      "metadata": {
        "id": "nNkc7iZcGczZ",
        "colab_type": "code",
        "colab": {
          "base_uri": "https://localhost:8080/",
          "height": 302
        },
        "outputId": "7e4ee805-0cb0-4528-fcb7-0905e8bff148"
      },
      "cell_type": "code",
      "source": [
        "model = Sequential()\n",
        "model.add(Dense(512, activation='relu', input_shape=(784,),name='Dense1'))\n",
        "model.add(Dropout(0.2))\n",
        "model.add(Dense(512, activation='relu',name='Dense2'))\n",
        "model.add(Dropout(0.2))\n",
        "model.add(Dense(10, activation='softmax'))\n",
        "\n",
        "model.summary()"
      ],
      "execution_count": 8,
      "outputs": [
        {
          "output_type": "stream",
          "text": [
            "_________________________________________________________________\n",
            "Layer (type)                 Output Shape              Param #   \n",
            "=================================================================\n",
            "Dense1 (Dense)               (None, 512)               401920    \n",
            "_________________________________________________________________\n",
            "dropout_1 (Dropout)          (None, 512)               0         \n",
            "_________________________________________________________________\n",
            "Dense2 (Dense)               (None, 512)               262656    \n",
            "_________________________________________________________________\n",
            "dropout_2 (Dropout)          (None, 512)               0         \n",
            "_________________________________________________________________\n",
            "dense_1 (Dense)              (None, 10)                5130      \n",
            "=================================================================\n",
            "Total params: 669,706\n",
            "Trainable params: 669,706\n",
            "Non-trainable params: 0\n",
            "_________________________________________________________________\n"
          ],
          "name": "stdout"
        }
      ]
    },
    {
      "metadata": {
        "id": "CP39yLliGczc",
        "colab_type": "code",
        "colab": {}
      },
      "cell_type": "code",
      "source": [
        "model.compile(loss='categorical_crossentropy',\n",
        "              optimizer=RMSprop(),\n",
        "              metrics=['accuracy'])"
      ],
      "execution_count": 0,
      "outputs": []
    },
    {
      "metadata": {
        "id": "lF0gOJWNGcze",
        "colab_type": "text"
      },
      "cell_type": "markdown",
      "source": [
        "### Basic History and ploting"
      ]
    },
    {
      "metadata": {
        "id": "CtNTvZSGGczf",
        "colab_type": "code",
        "colab": {
          "base_uri": "https://localhost:8080/",
          "height": 235
        },
        "outputId": "a99bc41f-e7af-48c0-8848-0c8196bf0a8f"
      },
      "cell_type": "code",
      "source": [
        "history = model.fit(x_train, y_train,\n",
        "                    batch_size=batch_size,\n",
        "                    epochs=5,\n",
        "                    verbose=2,\n",
        "                    validation_data=(x_test, y_test))\n",
        "score = model.evaluate(x_test, y_test, verbose=0)\n",
        "print('Test loss:', score[0])\n",
        "print('Test accuracy:', score[1])"
      ],
      "execution_count": 10,
      "outputs": [
        {
          "output_type": "stream",
          "text": [
            "Train on 60000 samples, validate on 10000 samples\n",
            "Epoch 1/5\n",
            " - 4s - loss: 0.2464 - acc: 0.9237 - val_loss: 0.1060 - val_acc: 0.9673\n",
            "Epoch 2/5\n",
            " - 3s - loss: 0.1039 - acc: 0.9679 - val_loss: 0.0938 - val_acc: 0.9715\n",
            "Epoch 3/5\n",
            " - 3s - loss: 0.0754 - acc: 0.9767 - val_loss: 0.0794 - val_acc: 0.9760\n",
            "Epoch 4/5\n",
            " - 3s - loss: 0.0608 - acc: 0.9819 - val_loss: 0.0691 - val_acc: 0.9797\n",
            "Epoch 5/5\n",
            " - 3s - loss: 0.0510 - acc: 0.9850 - val_loss: 0.0718 - val_acc: 0.9807\n",
            "Test loss: 0.07180944553018781\n",
            "Test accuracy: 0.9807\n"
          ],
          "name": "stdout"
        }
      ]
    },
    {
      "metadata": {
        "id": "IrYYDxmpGczi",
        "colab_type": "code",
        "colab": {}
      },
      "cell_type": "code",
      "source": [
        "def plot_train(hist):\n",
        "    h = hist.history\n",
        "    if 'acc' in h:\n",
        "        meas='acc'\n",
        "        loc='lower right'\n",
        "    else:\n",
        "        meas='loss'\n",
        "        loc='upper right'\n",
        "    plt.plot(hist.history[meas])\n",
        "    plt.plot(hist.history['val_'+meas])\n",
        "    plt.title('model '+meas)\n",
        "    plt.ylabel(meas)\n",
        "    plt.xlabel('epoch')\n",
        "    plt.legend(['train', 'validation'], loc=loc)"
      ],
      "execution_count": 0,
      "outputs": []
    },
    {
      "metadata": {
        "id": "7DQW_6yAGczk",
        "colab_type": "code",
        "colab": {
          "base_uri": "https://localhost:8080/",
          "height": 294
        },
        "outputId": "1def4e1b-5873-4102-e722-73238b41de53"
      },
      "cell_type": "code",
      "source": [
        "plot_train(history)"
      ],
      "execution_count": 12,
      "outputs": [
        {
          "output_type": "display_data",
          "data": {
            "image/png": "[encoded data removed]",
            "text/plain": [
              "<matplotlib.figure.Figure at 0x7f38d6e6fba8>"
            ]
          },
          "metadata": {
            "tags": []
          }
        }
      ]
    },
    {
      "metadata": {
        "id": "Fhzx-BqFGczl",
        "colab_type": "text"
      },
      "cell_type": "markdown",
      "source": [
        "### Model Checkpoints\n",
        "\n",
        "args \n",
        "- filepath - str  can use formating to put epoch number etc {epoc}\n",
        "- monitor - qunatity to monitor  \n",
        "- verbose - 0 or 1  \n",
        "- save_best_only - only save if better than before  \n",
        "- mode - use 'auto'  \n",
        "- save_weights_only - if false then will save whole model\n",
        "- period - the interval between epochs  "
      ]
    },
    {
      "metadata": {
        "id": "XLfiKxxK93vh",
        "colab_type": "text"
      },
      "cell_type": "markdown",
      "source": [
        ""
      ]
    },
    {
      "metadata": {
        "id": "vb0THk4Q94eu",
        "colab_type": "code",
        "colab": {
          "base_uri": "https://localhost:8080/",
          "height": 34
        },
        "outputId": "5e6558e4-1522-4fb7-8ca7-c1dceb7d235a"
      },
      "cell_type": "code",
      "source": [
        "!mkdir checkpoints\n",
        "!ls"
      ],
      "execution_count": 13,
      "outputs": [
        {
          "output_type": "stream",
          "text": [
            "cats-dogs.hdf5\tcheckpoints  data  datalab  gdrive.py  __pycache__  sutils.py\r\n"
          ],
          "name": "stdout"
        }
      ]
    },
    {
      "metadata": {
        "id": "-3eFE4-VGczm",
        "colab_type": "code",
        "colab": {}
      },
      "cell_type": "code",
      "source": [
        "checkpoint = ModelCheckpoint('./checkpoints/weights_{epoch:02d}_{val_acc:.2f}.hdf5', verbose=1, save_best_only=True, mode='auto')"
      ],
      "execution_count": 0,
      "outputs": []
    },
    {
      "metadata": {
        "id": "So5IqbuTGczo",
        "colab_type": "code",
        "colab": {
          "base_uri": "https://localhost:8080/",
          "height": 370
        },
        "outputId": "332af695-b8f5-4231-9817-72c0e7f52cb2"
      },
      "cell_type": "code",
      "source": [
        "model.fit(x_train, y_train,\n",
        "                    batch_size=batch_size,\n",
        "                    epochs=epochs,\n",
        "                    verbose=0,\n",
        "                    validation_data=(x_test, y_test),\n",
        "                    callbacks=[checkpoint])"
      ],
      "execution_count": 15,
      "outputs": [
        {
          "output_type": "stream",
          "text": [
            "\n",
            "Epoch 00001: val_loss improved from inf to 0.08551, saving model to ./checkpoints/weights_01_0.98.hdf5\n",
            "\n",
            "Epoch 00002: val_loss improved from 0.08551 to 0.07574, saving model to ./checkpoints/weights_02_0.98.hdf5\n",
            "\n",
            "Epoch 00003: val_loss did not improve from 0.07574\n",
            "\n",
            "Epoch 00004: val_loss did not improve from 0.07574\n",
            "\n",
            "Epoch 00005: val_loss did not improve from 0.07574\n",
            "\n",
            "Epoch 00006: val_loss did not improve from 0.07574\n",
            "\n",
            "Epoch 00007: val_loss did not improve from 0.07574\n",
            "\n",
            "Epoch 00008: val_loss did not improve from 0.07574\n",
            "\n",
            "Epoch 00009: val_loss did not improve from 0.07574\n",
            "\n",
            "Epoch 00010: val_loss did not improve from 0.07574\n"
          ],
          "name": "stdout"
        },
        {
          "output_type": "execute_result",
          "data": {
            "text/plain": [
              "<keras.callbacks.History at 0x7f38ce693e48>"
            ]
          },
          "metadata": {
            "tags": []
          },
          "execution_count": 15
        }
      ]
    },
    {
      "metadata": {
        "id": "txXENk5n-QYP",
        "colab_type": "code",
        "colab": {
          "base_uri": "https://localhost:8080/",
          "height": 50
        },
        "outputId": "a56e449c-3ca9-4e7f-a0bc-bd60191a2c4a"
      },
      "cell_type": "code",
      "source": [
        "!mkdir logs\n",
        "!ls"
      ],
      "execution_count": 16,
      "outputs": [
        {
          "output_type": "stream",
          "text": [
            "cats-dogs.hdf5\tdata\t gdrive.py  __pycache__\r\n",
            "checkpoints\tdatalab  logs\t    sutils.py\r\n"
          ],
          "name": "stdout"
        }
      ]
    },
    {
      "metadata": {
        "id": "ewM8SlhfGcz6",
        "colab_type": "text"
      },
      "cell_type": "markdown",
      "source": [
        "### Early Stopping - stop training when a monitored quanity has stopped improving\n",
        "args\n",
        "- monitor : what to monitor 'val_loss', 'acc'\n",
        "- min_delta :minimum change to qualify as improvement\n",
        "- patience : number of epocs with no improvement before you stop\n",
        "- verbose : verbosity mode\n",
        "- mode : 'auto' , can be 'min' or 'max' determines direction of improvement. Auto = based on monitor"
      ]
    },
    {
      "metadata": {
        "id": "_H9Q2a5yGcz7",
        "colab_type": "code",
        "colab": {}
      },
      "cell_type": "code",
      "source": [
        "early_stopping = EarlyStopping(monitor='val_loss',min_delta=0,patience=0,verbose=0,mode='auto')"
      ],
      "execution_count": 0,
      "outputs": []
    },
    {
      "metadata": {
        "id": "3m6dyc74Gcz9",
        "colab_type": "code",
        "colab": {
          "base_uri": "https://localhost:8080/",
          "height": 151
        },
        "outputId": "a2f93fe7-6ad7-4762-cb9f-42d9d5172120"
      },
      "cell_type": "code",
      "source": [
        "model.fit(x_train, y_train,\n",
        "                    batch_size=batch_size,\n",
        "                    epochs=epochs,\n",
        "                    verbose=1,\n",
        "                    validation_data=(x_test, y_test),\n",
        "                    callbacks=[early_stopping])"
      ],
      "execution_count": 18,
      "outputs": [
        {
          "output_type": "stream",
          "text": [
            "Train on 60000 samples, validate on 10000 samples\n",
            "Epoch 1/10\n",
            "60000/60000 [==============================] - 3s 54us/step - loss: 0.0212 - acc: 0.9944 - val_loss: 0.1050 - val_acc: 0.9841\n",
            "Epoch 2/10\n",
            "60000/60000 [==============================] - 3s 58us/step - loss: 0.0204 - acc: 0.9945 - val_loss: 0.0997 - val_acc: 0.9833\n",
            "Epoch 3/10\n",
            "60000/60000 [==============================] - 3s 57us/step - loss: 0.0204 - acc: 0.9948 - val_loss: 0.1194 - val_acc: 0.9818\n"
          ],
          "name": "stdout"
        },
        {
          "output_type": "execute_result",
          "data": {
            "text/plain": [
              "<keras.callbacks.History at 0x7f38ce630320>"
            ]
          },
          "metadata": {
            "tags": []
          },
          "execution_count": 18
        }
      ]
    },
    {
      "metadata": {
        "id": "n_nNbM2uGcz_",
        "colab_type": "text"
      },
      "cell_type": "markdown",
      "source": [
        "above stopped after 3 epochs instead of 10 as validation loss didn't get better"
      ]
    },
    {
      "metadata": {
        "id": "ophrgrNSGcz_",
        "colab_type": "text"
      },
      "cell_type": "markdown",
      "source": [
        "### Learning Rate Scheduler\n",
        "arg\n",
        "- schedule - this will be function that takes epoch number(int) and returns new Learning Rate (float) "
      ]
    },
    {
      "metadata": {
        "id": "VA3t30AJGcz_",
        "colab_type": "text"
      },
      "cell_type": "markdown",
      "source": [
        "#### LearningRate = InitialLearningRate * DropRate^floor(Epoch / EpochDrop)"
      ]
    },
    {
      "metadata": {
        "id": "4QvA3kSwGc0A",
        "colab_type": "code",
        "colab": {}
      },
      "cell_type": "code",
      "source": [
        "import math\n",
        "\n",
        "# learning rate schedule for dropping every 10 epochs\n",
        "def LRDropping(epoch_hi_there):\n",
        "    initial_lrate = 0.001\n",
        "    drop = 0.9\n",
        "    epochs_drop = 3.0\n",
        "    lrate = initial_lrate * math.pow(drop, math.floor((1+epoch_hi_there)/epochs_drop))\n",
        "    print(lrate)\n",
        "    return lrate"
      ],
      "execution_count": 0,
      "outputs": []
    },
    {
      "metadata": {
        "id": "PZZ8gfVeGc0B",
        "colab_type": "code",
        "colab": {
          "base_uri": "https://localhost:8080/",
          "height": 50
        },
        "outputId": "9f8c46af-9da5-4f8d-af7d-abd2b507c29c"
      },
      "cell_type": "code",
      "source": [
        "LRDropping(56)"
      ],
      "execution_count": 38,
      "outputs": [
        {
          "output_type": "stream",
          "text": [
            "0.0001350851717672993\n"
          ],
          "name": "stdout"
        },
        {
          "output_type": "execute_result",
          "data": {
            "text/plain": [
              "0.0001350851717672993"
            ]
          },
          "metadata": {
            "tags": []
          },
          "execution_count": 38
        }
      ]
    },
    {
      "metadata": {
        "id": "xGl6BTmSGc0D",
        "colab_type": "code",
        "colab": {}
      },
      "cell_type": "code",
      "source": [
        "LRDrop = LearningRateScheduler(LRDropping)"
      ],
      "execution_count": 0,
      "outputs": []
    },
    {
      "metadata": {
        "id": "6HKkjUBASXnG",
        "colab_type": "code",
        "colab": {}
      },
      "cell_type": "code",
      "source": [
        "# def LRS(function):\n",
        "#   epoch = ask_keras_epocj\n",
        "#   function(epoch)"
      ],
      "execution_count": 0,
      "outputs": []
    },
    {
      "metadata": {
        "id": "6DZuRxryGc0E",
        "colab_type": "code",
        "colab": {}
      },
      "cell_type": "code",
      "source": [
        "K.set_value(model.optimizer.lr,0.001)"
      ],
      "execution_count": 0,
      "outputs": []
    },
    {
      "metadata": {
        "id": "YnphZGZXGc0G",
        "colab_type": "code",
        "colab": {
          "base_uri": "https://localhost:8080/",
          "height": 574
        },
        "outputId": "152cf187-72d1-41a4-cf15-e33f3ea8838e"
      },
      "cell_type": "code",
      "source": [
        "model.fit(x_train, y_train,\n",
        "                    batch_size=batch_size,\n",
        "                    epochs=epochs,\n",
        "                    verbose=1,\n",
        "                    validation_data=(x_test, y_test),\n",
        "                    callbacks=[LRDrop])"
      ],
      "execution_count": 34,
      "outputs": [
        {
          "output_type": "stream",
          "text": [
            "Train on 60000 samples, validate on 10000 samples\n",
            "Epoch 1/10\n",
            "0.001\n",
            "60000/60000 [==============================] - 3s 58us/step - loss: 0.0147 - acc: 0.9965 - val_loss: 0.1106 - val_acc: 0.9847\n",
            "Epoch 2/10\n",
            "0.001\n",
            "60000/60000 [==============================] - 3s 57us/step - loss: 0.0159 - acc: 0.9960 - val_loss: 0.1150 - val_acc: 0.9847\n",
            "Epoch 3/10\n",
            "0.0009000000000000001\n",
            "60000/60000 [==============================] - 3s 58us/step - loss: 0.0126 - acc: 0.9970 - val_loss: 0.1263 - val_acc: 0.9842\n",
            "Epoch 4/10\n",
            "0.0009000000000000001\n",
            "60000/60000 [==============================] - 3s 57us/step - loss: 0.0124 - acc: 0.9970 - val_loss: 0.1242 - val_acc: 0.9840\n",
            "Epoch 5/10\n",
            "0.0009000000000000001\n",
            " 6144/60000 [==>...........................] - ETA: 3s - loss: 0.0127 - acc: 0.9979"
          ],
          "name": "stdout"
        },
        {
          "output_type": "stream",
          "text": [
            "60000/60000 [==============================] - 3s 58us/step - loss: 0.0137 - acc: 0.9971 - val_loss: 0.1377 - val_acc: 0.9807\n",
            "Epoch 6/10\n",
            "0.0008100000000000001\n",
            "60000/60000 [==============================] - 3s 57us/step - loss: 0.0090 - acc: 0.9977 - val_loss: 0.1259 - val_acc: 0.9844\n",
            "Epoch 7/10\n",
            "0.0008100000000000001\n",
            "60000/60000 [==============================] - 3s 58us/step - loss: 0.0098 - acc: 0.9976 - val_loss: 0.1284 - val_acc: 0.9838\n",
            "Epoch 8/10\n",
            "0.0008100000000000001\n",
            "60000/60000 [==============================] - 3s 57us/step - loss: 0.0109 - acc: 0.9977 - val_loss: 0.1400 - val_acc: 0.9835\n",
            "Epoch 9/10\n",
            "0.0007290000000000002\n",
            "25088/60000 [===========>..................] - ETA: 1s - loss: 0.0061 - acc: 0.9985"
          ],
          "name": "stdout"
        },
        {
          "output_type": "stream",
          "text": [
            "60000/60000 [==============================] - 4s 58us/step - loss: 0.0072 - acc: 0.9984 - val_loss: 0.1251 - val_acc: 0.9855\n",
            "Epoch 10/10\n",
            "0.0007290000000000002\n",
            "60000/60000 [==============================] - 3s 58us/step - loss: 0.0080 - acc: 0.9983 - val_loss: 0.1318 - val_acc: 0.9842\n"
          ],
          "name": "stdout"
        },
        {
          "output_type": "execute_result",
          "data": {
            "text/plain": [
              "<keras.callbacks.History at 0x7f38cd6eeef0>"
            ]
          },
          "metadata": {
            "tags": []
          },
          "execution_count": 34
        }
      ]
    },
    {
      "metadata": {
        "id": "FFvcsbdBGc0H",
        "colab_type": "code",
        "colab": {
          "base_uri": "https://localhost:8080/",
          "height": 34
        },
        "outputId": "d44473b3-fca0-4029-cc02-17d417f892d9"
      },
      "cell_type": "code",
      "source": [
        "#print out the learning rate\n",
        "print(K.eval(model.optimizer.lr))"
      ],
      "execution_count": 39,
      "outputs": [
        {
          "output_type": "stream",
          "text": [
            "0.000729\n"
          ],
          "name": "stdout"
        }
      ]
    },
    {
      "metadata": {
        "id": "0LgZLvEWGc0J",
        "colab_type": "text"
      },
      "cell_type": "markdown",
      "source": [
        "### ReduceLROnPlateau\n",
        "args\n",
        "- monitor : quality to be monitored eg. 'val_loss' , 'val_acc'\n",
        "- factor : the factor by which the current LR be multiplied  \n",
        "- patience : number of epochs with no improvement  \n",
        "- verbose : 1 = update messages 0 nothing\n",
        "- mode : 'auto'  eg. is improvment up or down 'min' 'max'\n",
        "- epsilon : threshold for measuring the new optimum, to only focus on significant changes  \n",
        "- cooldown :number of epochs to wait before any new changes\n",
        "- min_lr: the lowest lr allowed "
      ]
    },
    {
      "metadata": {
        "id": "hOZ6WgCMGc0J",
        "colab_type": "code",
        "colab": {}
      },
      "cell_type": "code",
      "source": [
        "reduce_LR = ReduceLROnPlateau(monitor='val_loss',factor = 0.9, patience=3,cooldown=2, min_lr = 0.00001)"
      ],
      "execution_count": 0,
      "outputs": []
    },
    {
      "metadata": {
        "id": "6TIEdjMCGc0M",
        "colab_type": "code",
        "colab": {
          "base_uri": "https://localhost:8080/",
          "height": 406
        },
        "outputId": "224f4e87-9208-4390-a601-decf41fd4703"
      },
      "cell_type": "code",
      "source": [
        "model.fit(x_train, y_train,\n",
        "                    batch_size=batch_size,\n",
        "                    epochs=epochs,\n",
        "                    verbose=1,\n",
        "                    validation_data=(x_test, y_test),\n",
        "                    callbacks=[reduce_LR])"
      ],
      "execution_count": 41,
      "outputs": [
        {
          "output_type": "stream",
          "text": [
            "Train on 60000 samples, validate on 10000 samples\n",
            "Epoch 1/10\n",
            "60000/60000 [==============================] - 3s 56us/step - loss: 0.0085 - acc: 0.9980 - val_loss: 0.1292 - val_acc: 0.9848\n",
            "Epoch 2/10\n",
            "60000/60000 [==============================] - 3s 58us/step - loss: 0.0072 - acc: 0.9983 - val_loss: 0.1311 - val_acc: 0.9853\n",
            "Epoch 3/10\n",
            "60000/60000 [==============================] - 3s 57us/step - loss: 0.0074 - acc: 0.9984 - val_loss: 0.1456 - val_acc: 0.9843\n",
            "Epoch 4/10\n",
            "60000/60000 [==============================] - 3s 58us/step - loss: 0.0068 - acc: 0.9984 - val_loss: 0.1386 - val_acc: 0.9834\n",
            "Epoch 5/10\n",
            "14464/60000 [======>.......................] - ETA: 2s - loss: 0.0073 - acc: 0.9987"
          ],
          "name": "stdout"
        },
        {
          "output_type": "stream",
          "text": [
            "60000/60000 [==============================] - 3s 58us/step - loss: 0.0065 - acc: 0.9986 - val_loss: 0.1299 - val_acc: 0.9848\n",
            "Epoch 6/10\n",
            "60000/60000 [==============================] - 3s 58us/step - loss: 0.0057 - acc: 0.9986 - val_loss: 0.1385 - val_acc: 0.9850\n",
            "Epoch 7/10\n",
            "60000/60000 [==============================] - 4s 59us/step - loss: 0.0067 - acc: 0.9987 - val_loss: 0.1342 - val_acc: 0.9839\n",
            "Epoch 8/10\n",
            "60000/60000 [==============================] - 4s 59us/step - loss: 0.0054 - acc: 0.9987 - val_loss: 0.1324 - val_acc: 0.9849\n",
            "Epoch 9/10\n",
            "41472/60000 [===================>..........] - ETA: 1s - loss: 0.0049 - acc: 0.9989"
          ],
          "name": "stdout"
        },
        {
          "output_type": "stream",
          "text": [
            "60000/60000 [==============================] - 4s 59us/step - loss: 0.0052 - acc: 0.9989 - val_loss: 0.1417 - val_acc: 0.9841\n",
            "Epoch 10/10\n",
            "60000/60000 [==============================] - 4s 58us/step - loss: 0.0040 - acc: 0.9992 - val_loss: 0.1389 - val_acc: 0.9848\n"
          ],
          "name": "stdout"
        },
        {
          "output_type": "execute_result",
          "data": {
            "text/plain": [
              "<keras.callbacks.History at 0x7f38cda8dfd0>"
            ]
          },
          "metadata": {
            "tags": []
          },
          "execution_count": 41
        }
      ]
    },
    {
      "metadata": {
        "id": "60nxRcHyGc0P",
        "colab_type": "code",
        "colab": {
          "base_uri": "https://localhost:8080/",
          "height": 34
        },
        "outputId": "56407568-1582-499f-c578-2a0e317bce3a"
      },
      "cell_type": "code",
      "source": [
        "#print out the learning rate\n",
        "print(K.eval(model.optimizer.lr))"
      ],
      "execution_count": 42,
      "outputs": [
        {
          "output_type": "stream",
          "text": [
            "0.00059049\n"
          ],
          "name": "stdout"
        }
      ]
    },
    {
      "metadata": {
        "id": "u00EDKerGc0Q",
        "colab_type": "text"
      },
      "cell_type": "markdown",
      "source": [
        "### LambdaCallback a way to call anon functions in the callback\n",
        "args\n",
        "- on_epoch_being - called at begin of epoch -takes epoch,logs\n",
        "- on_epoch_end - called at end of epoch -takes epoch,logs\n",
        "- on_batch_begin _ called a begin of a batch -takes batch,logs\n",
        "- on_batch_end :-takes epoch,logs\n",
        "- on_train_begin - -takes logs\n",
        "- on_train_end - -takes logs"
      ]
    },
    {
      "metadata": {
        "id": "etf7iWQLGc0R",
        "colab_type": "code",
        "colab": {}
      },
      "cell_type": "code",
      "source": [
        "lr_print = LambdaCallback(on_epoch_begin=lambda epoch,logs: print(\"lr:\",K.eval(model.optimizer.lr)))"
      ],
      "execution_count": 0,
      "outputs": []
    },
    {
      "metadata": {
        "id": "zZZ8S6hDGc0T",
        "colab_type": "code",
        "colab": {
          "base_uri": "https://localhost:8080/",
          "height": 742
        },
        "outputId": "ef6c1d8b-1801-4d82-c45f-3d872162cfcd"
      },
      "cell_type": "code",
      "source": [
        "model.fit(x_train, y_train,\n",
        "                    batch_size=batch_size,\n",
        "                    epochs=epochs,\n",
        "                    verbose=1,\n",
        "                    validation_data=(x_test, y_test),\n",
        "                    callbacks=[lr_print,LRDrop])"
      ],
      "execution_count": 44,
      "outputs": [
        {
          "output_type": "stream",
          "text": [
            "Train on 60000 samples, validate on 10000 samples\n",
            "Epoch 1/10\n",
            "lr: 0.00059049\n",
            "0.001\n",
            "60000/60000 [==============================] - 3s 52us/step - loss: 0.0095 - acc: 0.9980 - val_loss: 0.1407 - val_acc: 0.9833\n",
            "Epoch 2/10\n",
            "lr: 0.001\n",
            "0.001\n",
            "60000/60000 [==============================] - 3s 58us/step - loss: 0.0117 - acc: 0.9975 - val_loss: 0.1436 - val_acc: 0.9849\n",
            "Epoch 3/10\n",
            "lr: 0.001\n",
            "0.0009000000000000001\n",
            "60000/60000 [==============================] - 3s 58us/step - loss: 0.0113 - acc: 0.9977 - val_loss: 0.1314 - val_acc: 0.9848\n",
            "Epoch 4/10\n",
            "lr: 0.0009\n",
            "0.0009000000000000001\n",
            "57472/60000 [===========================>..] - ETA: 0s - loss: 0.0107 - acc: 0.9977"
          ],
          "name": "stdout"
        },
        {
          "output_type": "stream",
          "text": [
            "60000/60000 [==============================] - 3s 57us/step - loss: 0.0106 - acc: 0.9977 - val_loss: 0.1292 - val_acc: 0.9856\n",
            "Epoch 5/10\n",
            "lr: 0.0009\n",
            "0.0009000000000000001\n",
            "60000/60000 [==============================] - 3s 57us/step - loss: 0.0086 - acc: 0.9982 - val_loss: 0.1409 - val_acc: 0.9845\n",
            "Epoch 6/10\n",
            "lr: 0.0009\n",
            "0.0008100000000000001\n",
            "60000/60000 [==============================] - 3s 57us/step - loss: 0.0079 - acc: 0.9984 - val_loss: 0.1320 - val_acc: 0.9848\n",
            "Epoch 7/10\n",
            "lr: 0.00081\n",
            "0.0008100000000000001\n",
            "60000/60000 [==============================] - 3s 58us/step - loss: 0.0075 - acc: 0.9985 - val_loss: 0.1453 - val_acc: 0.9848\n",
            "Epoch 8/10\n",
            "lr: 0.00081\n",
            "0.0008100000000000001\n",
            "24448/60000 [===========>..................] - ETA: 2s - loss: 0.0084 - acc: 0.9982"
          ],
          "name": "stdout"
        },
        {
          "output_type": "stream",
          "text": [
            "60000/60000 [==============================] - 3s 58us/step - loss: 0.0081 - acc: 0.9982 - val_loss: 0.1464 - val_acc: 0.9828\n",
            "Epoch 9/10\n",
            "lr: 0.00081\n",
            "0.0007290000000000002\n",
            "60000/60000 [==============================] - 3s 58us/step - loss: 0.0078 - acc: 0.9984 - val_loss: 0.1352 - val_acc: 0.9841\n",
            "Epoch 10/10\n",
            "lr: 0.000729\n",
            "0.0007290000000000002\n",
            "60000/60000 [==============================] - 3s 57us/step - loss: 0.0067 - acc: 0.9986 - val_loss: 0.1381 - val_acc: 0.9850\n"
          ],
          "name": "stdout"
        },
        {
          "output_type": "execute_result",
          "data": {
            "text/plain": [
              "<keras.callbacks.History at 0x7f38ce610e48>"
            ]
          },
          "metadata": {
            "tags": []
          },
          "execution_count": 44
        }
      ]
    },
    {
      "metadata": {
        "id": "vA6oIdcfGc0W",
        "colab_type": "code",
        "colab": {}
      },
      "cell_type": "code",
      "source": [
        ""
      ],
      "execution_count": 0,
      "outputs": []
    }
  ]
}