{
  "nbformat": 4,
  "nbformat_minor": 0,
  "metadata": {
    "colab": {
      "name": "Collab Crash Course.ipynb",
      "version": "0.3.2",
      "provenance": [],
      "collapsed_sections": [],
      "include_colab_link": true
    },
    "kernelspec": {
      "name": "python3",
      "display_name": "Python 3"
    }
  },
  "cells": [
    {
      "cell_type": "markdown",
      "metadata": {
        "id": "view-in-github",
        "colab_type": "text"
      },
      "source": [
        "[View in Colaboratory](https://colab.research.google.com/github/peaelle42/DNN_jump_start/blob/master/Collab_Crash_Course.ipynb)"
      ]
    },
    {
      "metadata": {
        "id": "MwlLMmUOxh8K",
        "colab_type": "text"
      },
      "cell_type": "markdown",
      "source": [
        "## Colab Crash Course\n",
        "\n",
        "Open in this notebook in Colab\n",
        "\n",
        "https://colab.research.google.com/samwit/colab_crash_course/file1\n",
        "\n",
        "\n",
        "Once opened in Colab you can copy it to your own Google Drive by selecting \"COPY TO DRIVE\"\n",
        "\n"
      ]
    },
    {
      "metadata": {
        "id": "dmRO098Zyvvw",
        "colab_type": "text"
      },
      "cell_type": "markdown",
      "source": [
        "Colab has many advantages for both people who are new to Python/Jupyter Notebook stack as well as to those well versed in using Jupyter.\n",
        "\n",
        "I have made this set of notebooks to show how to navigate some of the differences between Jupyter Notebooks and Colab Notebook \n",
        "\n",
        "\n",
        "Colab operates in its own virtual environment \n",
        "\n",
        "\n"
      ]
    },
    {
      "metadata": {
        "id": "CfQC6JFxttvD",
        "colab_type": "text"
      },
      "cell_type": "markdown",
      "source": [
        "## Downloading files"
      ]
    },
    {
      "metadata": {
        "id": "6nTjnLnktYrd",
        "colab_type": "code",
        "colab": {}
      },
      "cell_type": "code",
      "source": [
        "!wget -qq https://www.google.com/images/branding/googlelogo/1x/googlelogo_color_272x92dp.png"
      ],
      "execution_count": 0,
      "outputs": []
    },
    {
      "metadata": {
        "id": "H2FKRGaPvDx3",
        "colab_type": "text"
      },
      "cell_type": "markdown",
      "source": [
        "## Display Images"
      ]
    },
    {
      "metadata": {
        "id": "MiuxFdumtUdj",
        "colab_type": "code",
        "colab": {}
      },
      "cell_type": "code",
      "source": [
        "from IPython.display import Image\n"
      ],
      "execution_count": 0,
      "outputs": []
    },
    {
      "metadata": {
        "id": "QH2V0Zxyt4TF",
        "colab_type": "code",
        "colab": {
          "base_uri": "https://localhost:8080/",
          "height": 109
        },
        "outputId": "96b5c2c6-6641-4b23-c894-4c0a92fb54a9"
      },
      "cell_type": "code",
      "source": [
        "Image('googlelogo_color_272x92dp.png')"
      ],
      "execution_count": 3,
      "outputs": [
        {
          "output_type": "execute_result",
          "data": {
            "image/png": "[encoded data removed]",
            "text/plain": [
              "<IPython.core.display.Image object>"
            ]
          },
          "metadata": {
            "tags": []
          },
          "execution_count": 3
        }
      ]
    },
    {
      "metadata": {
        "id": "arIzJykdt5Dp",
        "colab_type": "code",
        "colab": {
          "base_uri": "https://localhost:8080/",
          "height": 117
        },
        "outputId": "b0e477ee-50e1-44ea-b7a9-7bd9b0b8e539"
      },
      "cell_type": "code",
      "source": [
        "Image(\"googlelogo_color_272x92dp.png\", width=100, height=100)"
      ],
      "execution_count": 4,
      "outputs": [
        {
          "output_type": "execute_result",
          "data": {
            "image/png": "[encoded data removed]",
            "text/plain": [
              "<IPython.core.display.Image object>"
            ]
          },
          "metadata": {
            "tags": [],
            "image/png": {
              "width": 100,
              "height": 100
            }
          },
          "execution_count": 4
        }
      ]
    },
    {
      "metadata": {
        "id": "pkGrZ94tGrbb",
        "colab_type": "text"
      },
      "cell_type": "markdown",
      "source": [
        "## Navigation "
      ]
    },
    {
      "metadata": {
        "id": "iYt3Xvelt8Lp",
        "colab_type": "text"
      },
      "cell_type": "markdown",
      "source": [
        "### Checking whats in the directory"
      ]
    },
    {
      "metadata": {
        "id": "y3mMyunWuA1g",
        "colab_type": "code",
        "colab": {
          "base_uri": "https://localhost:8080/",
          "height": 35
        },
        "outputId": "0e3b8afe-ef63-4c0f-8d7a-7bdf7cfe4701"
      },
      "cell_type": "code",
      "source": [
        "!ls"
      ],
      "execution_count": 5,
      "outputs": [
        {
          "output_type": "stream",
          "text": [
            "datalab  googlelogo_color_272x92dp.png\r\n"
          ],
          "name": "stdout"
        }
      ]
    },
    {
      "metadata": {
        "id": "njckUpMwuBbn",
        "colab_type": "code",
        "colab": {}
      },
      "cell_type": "code",
      "source": [
        "#removing a file\n",
        "!rm googlelogo_color_272x92dp.png"
      ],
      "execution_count": 0,
      "outputs": []
    },
    {
      "metadata": {
        "id": "3LtKOAAhuIAa",
        "colab_type": "code",
        "colab": {
          "base_uri": "https://localhost:8080/",
          "height": 35
        },
        "outputId": "9ba0c21c-6e8e-48d1-e765-1a4a3e5b015b"
      },
      "cell_type": "code",
      "source": [
        "!ls"
      ],
      "execution_count": 8,
      "outputs": [
        {
          "output_type": "stream",
          "text": [
            "datalab\r\n"
          ],
          "name": "stdout"
        }
      ]
    },
    {
      "metadata": {
        "id": "FDqD8stNGwcv",
        "colab_type": "text"
      },
      "cell_type": "markdown",
      "source": [
        "### Changing the directory"
      ]
    },
    {
      "metadata": {
        "id": "7o3UcwgfuJmK",
        "colab_type": "code",
        "colab": {}
      },
      "cell_type": "code",
      "source": [
        "# change dir\n",
        "!cd datalab"
      ],
      "execution_count": 0,
      "outputs": []
    },
    {
      "metadata": {
        "id": "1F2LLHLuuO6b",
        "colab_type": "code",
        "colab": {
          "base_uri": "https://localhost:8080/",
          "height": 35
        },
        "outputId": "8daccc16-8b46-4fba-e2c2-80dd20347ba5"
      },
      "cell_type": "code",
      "source": [
        "!ls"
      ],
      "execution_count": 10,
      "outputs": [
        {
          "output_type": "stream",
          "text": [
            "datalab\r\n"
          ],
          "name": "stdout"
        }
      ]
    },
    {
      "metadata": {
        "id": "wAYMTYbrG0qK",
        "colab_type": "text"
      },
      "cell_type": "markdown",
      "source": [
        "### Making a directory"
      ]
    },
    {
      "metadata": {
        "id": "QJ5yJFD0uPw0",
        "colab_type": "code",
        "colab": {}
      },
      "cell_type": "code",
      "source": [
        "#make a folder\n",
        "!mkdir test01"
      ],
      "execution_count": 0,
      "outputs": []
    },
    {
      "metadata": {
        "id": "OeyQ46AwuW-t",
        "colab_type": "code",
        "colab": {
          "base_uri": "https://localhost:8080/",
          "height": 35
        },
        "outputId": "49e50636-b914-4fc3-aed7-5947a6ab7cdf"
      },
      "cell_type": "code",
      "source": [
        "!ls"
      ],
      "execution_count": 12,
      "outputs": [
        {
          "output_type": "stream",
          "text": [
            "datalab  test01\r\n"
          ],
          "name": "stdout"
        }
      ]
    },
    {
      "metadata": {
        "id": "LNxFtWBIuXvE",
        "colab_type": "code",
        "colab": {}
      },
      "cell_type": "code",
      "source": [
        "!cd test01"
      ],
      "execution_count": 0,
      "outputs": []
    },
    {
      "metadata": {
        "id": "dTWhO0JQuaxM",
        "colab_type": "code",
        "colab": {
          "base_uri": "https://localhost:8080/",
          "height": 34
        },
        "outputId": "4a2437a7-f3cc-438b-ce1f-364e2fe880b2"
      },
      "cell_type": "code",
      "source": [
        "!ls"
      ],
      "execution_count": 0,
      "outputs": [
        {
          "output_type": "stream",
          "text": [
            "datalab  googlelogo_color_272x92dp.png\ttest01\r\n"
          ],
          "name": "stdout"
        }
      ]
    },
    {
      "metadata": {
        "id": "A7S_E_0mub9q",
        "colab_type": "code",
        "colab": {}
      },
      "cell_type": "code",
      "source": [
        "!ls test01"
      ],
      "execution_count": 0,
      "outputs": []
    },
    {
      "metadata": {
        "id": "Q3UY9Gj7ufOW",
        "colab_type": "code",
        "colab": {}
      },
      "cell_type": "code",
      "source": [
        "!cd .."
      ],
      "execution_count": 0,
      "outputs": []
    },
    {
      "metadata": {
        "id": "smkEd8Llu3wO",
        "colab_type": "code",
        "colab": {}
      },
      "cell_type": "code",
      "source": [
        ""
      ],
      "execution_count": 0,
      "outputs": []
    },
    {
      "metadata": {
        "id": "lox4L0B7xK1N",
        "colab_type": "text"
      },
      "cell_type": "markdown",
      "source": [
        "## Uploading files From Local Drive"
      ]
    },
    {
      "metadata": {
        "id": "L6LGjYRexNHC",
        "colab_type": "code",
        "colab": {
          "base_uri": "https://localhost:8080/",
          "height": 53
        },
        "outputId": "63e8e5aa-ae3d-4d90-8b56-7cb30d84d3e3"
      },
      "cell_type": "code",
      "source": [
        "from google.colab import files\n",
        "files.upload()\n",
        "# choose the file on your computer to upload it then\n"
      ],
      "execution_count": 13,
      "outputs": [
        {
          "output_type": "display_data",
          "data": {
            "text/html": [
              "\n",
              "     <input type=\"file\" id=\"files-33ae02fc-295f-42cf-b0cd-103f1d4f5fb1\" name=\"files[]\" multiple disabled />\n",
              "     <output id=\"result-33ae02fc-295f-42cf-b0cd-103f1d4f5fb1\">\n",
              "      Upload widget is only available when the cell has been executed in the\n",
              "      current browser session. Please rerun this cell to enable.\n",
              "      </output>\n",
              "      <script src=\"/nbextensions/google.colab/files.js\"></script> "
            ],
            "text/plain": [
              "<IPython.core.display.HTML object>"
            ]
          },
          "metadata": {
            "tags": []
          }
        },
        {
          "output_type": "execute_result",
          "data": {
            "text/plain": [
              "{}"
            ]
          },
          "metadata": {
            "tags": []
          },
          "execution_count": 13
        }
      ]
    },
    {
      "metadata": {
        "id": "4ZqRNW-5xP4j",
        "colab_type": "code",
        "colab": {}
      },
      "cell_type": "code",
      "source": [
        "%load data.py"
      ],
      "execution_count": 0,
      "outputs": []
    },
    {
      "metadata": {
        "id": "UHqCmLD4F1MV",
        "colab_type": "text"
      },
      "cell_type": "markdown",
      "source": [
        "## Google Drive Setup"
      ]
    },
    {
      "metadata": {
        "id": "Txmn9jaVGBPo",
        "colab_type": "code",
        "colab": {}
      },
      "cell_type": "code",
      "source": [
        "from google.colab import auth\n",
        "auth.authenticate_user()"
      ],
      "execution_count": 0,
      "outputs": []
    },
    {
      "metadata": {
        "id": "6UQn4eKIGKcy",
        "colab_type": "code",
        "colab": {}
      },
      "cell_type": "code",
      "source": [
        "from googleapiclient.discovery import build\n",
        "drive_service = build('drive', 'v3')"
      ],
      "execution_count": 0,
      "outputs": []
    },
    {
      "metadata": {
        "id": "S8Hi2hNh0ddS",
        "colab_type": "text"
      },
      "cell_type": "markdown",
      "source": [
        "### Loading a dataset from Google Drive\n",
        "\n",
        "For full examples from Google:\n",
        "https://colab.research.google.com/notebook#fileId=/v2/external/notebooks/io.ipynb&scrollTo=s6nDq8Nk7aPN"
      ]
    },
    {
      "metadata": {
        "id": "Sv3GqubG0iZ6",
        "colab_type": "code",
        "colab": {
          "base_uri": "https://localhost:8080/",
          "height": 34
        },
        "outputId": "73b6c3cd-65d0-48dc-ea6c-92e72aa9657c"
      },
      "cell_type": "code",
      "source": [
        "## Loading Data to Google Drive\n",
        "\n",
        "# Download the file we just uploaded.\n",
        "#\n",
        "# Replace the assignment below with your file ID\n",
        "# to download a different file.\n",
        "#\n",
        "# A file ID looks like: 1uBtlaggVyWshwcyP6kEI-y_W3P8D26sz\n",
        "file_id = '13iMF6PEsmZRKLVtK13Cb0KkDnGcHDyNO'\n",
        "\n",
        "import io\n",
        "from googleapiclient.http import MediaIoBaseDownload\n",
        "\n",
        "request = drive_service.files().get_media(fileId=file_id)\n",
        "downloaded = io.BytesIO()\n",
        "downloader = MediaIoBaseDownload(downloaded, request)\n",
        "done = False\n",
        "while done is False:\n",
        "  # _ is a placeholder for a progress object that we ignore.\n",
        "  # (Our file is small, so we skip reporting progress.)\n",
        "  _, done = downloader.next_chunk()\n",
        "\n",
        "downloaded.seek(0)\n",
        "print('Downloaded file contents are: {}'.format(downloaded.read()))\n"
      ],
      "execution_count": 0,
      "outputs": [
        {
          "output_type": "stream",
          "text": [
            "Downloaded file contents are: b'my sample file'\n"
          ],
          "name": "stdout"
        }
      ]
    },
    {
      "metadata": {
        "id": "bblKPtWu0pBg",
        "colab_type": "text"
      },
      "cell_type": "markdown",
      "source": [
        "### Saving Data to Google Drive"
      ]
    },
    {
      "metadata": {
        "id": "J3N5_brZGSC4",
        "colab_type": "code",
        "colab": {}
      },
      "cell_type": "code",
      "source": [
        "# Create a local file to upload.\n",
        "with open('/tmp/to_upload.txt', 'w') as f:\n",
        "  f.write('my sample file')\n",
        "\n",
        "print('/tmp/to_upload.txt contains:')\n",
        "!cat /tmp/to_upload.txt"
      ],
      "execution_count": 0,
      "outputs": []
    },
    {
      "metadata": {
        "id": "xWkhIDcgGSRJ",
        "colab_type": "code",
        "colab": {}
      },
      "cell_type": "code",
      "source": [
        "# Upload the file to Drive. See:\n",
        "#\n",
        "# https://developers.google.com/drive/v3/reference/files/create\n",
        "# https://developers.google.com/drive/v3/web/manage-uploads\n",
        "from googleapiclient.http import MediaFileUpload\n",
        "\n",
        "file_metadata = {\n",
        "  'name': 'Sample file',\n",
        "  'mimeType': 'text/plain'\n",
        "}\n",
        "\n",
        "media = MediaFileUpload('/tmp/to_upload.txt', \n",
        "                        mimetype='text/plain',\n",
        "                        resumable=True)\n",
        "\n",
        "created = drive_service.files().create(body=file_metadata,\n",
        "                                       media_body=media,\n",
        "                                       fields='id').execute()\n",
        "print('File ID: {}'.format(created.get('id')))"
      ],
      "execution_count": 0,
      "outputs": []
    },
    {
      "metadata": {
        "id": "gXeDAnEu1L3-",
        "colab_type": "text"
      },
      "cell_type": "markdown",
      "source": [
        "## Downgrading to a previous version of TensorFlow"
      ]
    },
    {
      "metadata": {
        "id": "Pq_8FRBc1Q3i",
        "colab_type": "code",
        "colab": {}
      },
      "cell_type": "code",
      "source": [
        "#!pip uninstall tensorflow-gpu"
      ],
      "execution_count": 0,
      "outputs": []
    },
    {
      "metadata": {
        "id": "Odr8GEAL1YXg",
        "colab_type": "code",
        "colab": {}
      },
      "cell_type": "code",
      "source": [
        "#!pip install tensorflow-gpu==1.9.0"
      ],
      "execution_count": 0,
      "outputs": []
    },
    {
      "metadata": {
        "id": "i-W9oENI1YPX",
        "colab_type": "code",
        "colab": {}
      },
      "cell_type": "code",
      "source": [
        ""
      ],
      "execution_count": 0,
      "outputs": []
    },
    {
      "metadata": {
        "id": "-nziufADzdrP",
        "colab_type": "text"
      },
      "cell_type": "markdown",
      "source": [
        "## Killing the entire virtual environment so you can start again"
      ]
    },
    {
      "metadata": {
        "id": "i0g_FdoCxYPT",
        "colab_type": "code",
        "colab": {}
      },
      "cell_type": "code",
      "source": [
        "!kill -9 -1"
      ],
      "execution_count": 0,
      "outputs": []
    }
  ]
}