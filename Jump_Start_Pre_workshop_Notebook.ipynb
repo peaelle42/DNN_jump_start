{
  "nbformat": 4,
  "nbformat_minor": 0,
  "metadata": {
    "colab": {
      "name": "Jump-Start Pre-workshop Notebook.ipynb",
      "version": "0.3.2",
      "provenance": [],
      "collapsed_sections": [],
      "toc_visible": true,
      "include_colab_link": true
    },
    "kernelspec": {
      "name": "python3",
      "display_name": "Python 3"
    },
    "accelerator": "GPU"
  },
  "cells": [
    {
      "cell_type": "markdown",
      "metadata": {
        "id": "view-in-github",
        "colab_type": "text"
      },
      "source": [
        "[View in Colaboratory](https://colab.research.google.com/github/peaelle42/DNN_jump_start/blob/master/Jump_Start_Pre_workshop_Notebook.ipynb)"
      ]
    },
    {
      "metadata": {
        "id": "LJkaQEFb2xAs",
        "colab_type": "text"
      },
      "cell_type": "markdown",
      "source": [
        "## Please "
      ]
    },
    {
      "metadata": {
        "id": "mhi44ERBgrcr",
        "colab_type": "text"
      },
      "cell_type": "markdown",
      "source": [
        "## Testing for GPU"
      ]
    },
    {
      "metadata": {
        "id": "Abf2g9Cqfr26",
        "colab_type": "text"
      },
      "cell_type": "markdown",
      "source": [
        "To Test if you have GPU set up\n",
        "\n",
        "Run the Cell below\n",
        "\n",
        "if no GPU is found press Runtime (in the menu at the top) and choose \"Change Runtime Type\" to GPU\n",
        " "
      ]
    },
    {
      "metadata": {
        "id": "DCCIFyTAfOV3",
        "colab_type": "code",
        "colab": {
          "base_uri": "https://localhost:8080/",
          "height": 35
        },
        "outputId": "07039ae5-c70e-414d-d302-e363d6abe7d6"
      },
      "cell_type": "code",
      "source": [
        "import tensorflow as tf\n",
        "device_name = tf.test.gpu_device_name()\n",
        "if device_name != '/device:GPU:0':\n",
        "  raise SystemError('GPU device not found')\n",
        "print('Found GPU at: {}'.format(device_name))"
      ],
      "execution_count": 2,
      "outputs": [
        {
          "output_type": "stream",
          "text": [
            "Found GPU at: /device:GPU:0\n"
          ],
          "name": "stdout"
        }
      ]
    },
    {
      "metadata": {
        "id": "JtVXkZ4lgz_V",
        "colab_type": "text"
      },
      "cell_type": "markdown",
      "source": [
        "## Checking the version of TensorFlow"
      ]
    },
    {
      "metadata": {
        "id": "XY3fLln2fxIO",
        "colab_type": "code",
        "colab": {
          "base_uri": "https://localhost:8080/",
          "height": 35
        },
        "outputId": "dc18d9d1-921d-4bd8-c1a8-54f4a5d24d73"
      },
      "cell_type": "code",
      "source": [
        "print(tf.__version__)"
      ],
      "execution_count": 3,
      "outputs": [
        {
          "output_type": "stream",
          "text": [
            "1.9.0-rc2\n"
          ],
          "name": "stdout"
        }
      ]
    },
    {
      "metadata": {
        "id": "e7s13Pw7hGRp",
        "colab_type": "text"
      },
      "cell_type": "markdown",
      "source": [
        ""
      ]
    },
    {
      "metadata": {
        "id": "m5sjJsXQhGwq",
        "colab_type": "text"
      },
      "cell_type": "markdown",
      "source": [
        "## Installing TensorFlow 1.8 using pip"
      ]
    },
    {
      "metadata": {
        "id": "l9cPgnhHgQV3",
        "colab_type": "text"
      },
      "cell_type": "markdown",
      "source": [
        "To run shell commands you can use ! in front of the command"
      ]
    },
    {
      "metadata": {
        "id": "TDwU0b1lgXnq",
        "colab_type": "code",
        "colab": {
          "base_uri": "https://localhost:8080/",
          "height": 34
        },
        "outputId": "788fa3a1-fd4c-4d6b-f740-256b7d4466fc"
      },
      "cell_type": "code",
      "source": [
        "!ls"
      ],
      "execution_count": 0,
      "outputs": [
        {
          "output_type": "stream",
          "text": [
            "data  datalab  gdrive.py  gdrive.py.1  __pycache__  sutils.py\r\n"
          ],
          "name": "stdout"
        }
      ]
    },
    {
      "metadata": {
        "id": "GaMkskICgYXm",
        "colab_type": "code",
        "colab": {
          "base_uri": "https://localhost:8080/",
          "height": 486
        },
        "outputId": "ad709a27-7d6b-434b-d7fa-2b3962005e46"
      },
      "cell_type": "code",
      "source": [
        "!pip install tensorflow-gpu"
      ],
      "execution_count": 0,
      "outputs": [
        {
          "output_type": "stream",
          "text": [
            "Collecting tensorflow-gpu\n",
            "  Downloading tensorflow_gpu-1.7.0-cp36-cp36m-manylinux1_x86_64.whl (256.2MB)\n",
            "\u001b[K    100% |████████████████████████████████| 256.2MB 5.1kB/s \n",
            "tcmalloc: large alloc 1073750016 bytes == 0x4c80a000 @  0x7f0ad7d3c1c4 0x46d6a4 0x5fcbcc 0x4c494d 0x54f3c4 0x553aaf 0x54e4c8 0x54f4f6 0x553aaf 0x54efc1 0x54f24d 0x553aaf 0x54efc1 0x54f24d 0x553aaf 0x54efc1 0x54f24d 0x551ee0 0x54e4c8 0x54f4f6 0x553aaf 0x54efc1 0x54f24d 0x551ee0 0x54efc1 0x54f24d 0x551ee0 0x54efc1 0x54f24d 0x551ee0 0x54e4c8\n",
            "\u001b[?25hRequirement already satisfied: grpcio>=1.8.6 in /usr/local/lib/python3.6/dist-packages (from tensorflow-gpu)\n",
            "Requirement already satisfied: astor>=0.6.0 in /usr/local/lib/python3.6/dist-packages (from tensorflow-gpu)\n",
            "Requirement already satisfied: termcolor>=1.1.0 in /usr/local/lib/python3.6/dist-packages (from tensorflow-gpu)\n",
            "Requirement already satisfied: wheel>=0.26 in /usr/local/lib/python3.6/dist-packages (from tensorflow-gpu)\n",
            "Requirement already satisfied: six>=1.10.0 in /usr/local/lib/python3.6/dist-packages (from tensorflow-gpu)\n",
            "Requirement already satisfied: gast>=0.2.0 in /usr/local/lib/python3.6/dist-packages (from tensorflow-gpu)\n",
            "Collecting tensorboard<1.8.0,>=1.7.0 (from tensorflow-gpu)\n",
            "  Downloading tensorboard-1.7.0-py3-none-any.whl (3.1MB)\n",
            "\u001b[K    100% |████████████████████████████████| 3.1MB 411kB/s \n",
            "\u001b[?25hRequirement already satisfied: protobuf>=3.4.0 in /usr/local/lib/python3.6/dist-packages (from tensorflow-gpu)\n",
            "Requirement already satisfied: numpy>=1.13.3 in /usr/local/lib/python3.6/dist-packages (from tensorflow-gpu)\n",
            "Requirement already satisfied: absl-py>=0.1.6 in /usr/local/lib/python3.6/dist-packages (from tensorflow-gpu)\n",
            "Requirement already satisfied: markdown>=2.6.8 in /usr/local/lib/python3.6/dist-packages (from tensorboard<1.8.0,>=1.7.0->tensorflow-gpu)\n",
            "Requirement already satisfied: werkzeug>=0.11.10 in /usr/local/lib/python3.6/dist-packages (from tensorboard<1.8.0,>=1.7.0->tensorflow-gpu)\n",
            "Requirement already satisfied: bleach==1.5.0 in /usr/local/lib/python3.6/dist-packages (from tensorboard<1.8.0,>=1.7.0->tensorflow-gpu)\n",
            "Requirement already satisfied: html5lib==0.9999999 in /usr/local/lib/python3.6/dist-packages (from tensorboard<1.8.0,>=1.7.0->tensorflow-gpu)\n",
            "Requirement already satisfied: setuptools in /usr/lib/python3/dist-packages (from protobuf>=3.4.0->tensorflow-gpu)\n",
            "Installing collected packages: tensorboard, tensorflow-gpu\n",
            "  Found existing installation: tensorboard 1.6.0\n",
            "    Uninstalling tensorboard-1.6.0:\n",
            "      Successfully uninstalled tensorboard-1.6.0\n",
            "Successfully installed tensorboard-1.7.0 tensorflow-gpu-1.7.0\n"
          ],
          "name": "stdout"
        }
      ]
    },
    {
      "metadata": {
        "id": "ouaWY9l1pCyD",
        "colab_type": "text"
      },
      "cell_type": "markdown",
      "source": [
        "## Downloading a dataset"
      ]
    },
    {
      "metadata": {
        "id": "OhwDFjJppHa5",
        "colab_type": "code",
        "colab": {
          "base_uri": "https://localhost:8080/",
          "height": 642
        },
        "outputId": "f9d71948-6a3c-47ea-c7f7-7c578ae4cb58"
      },
      "cell_type": "code",
      "source": [
        "!wget https://www.dropbox.com/s/z1opzcqa6snjlp8/imagenet_sample.zip\n",
        "  \n",
        "!unzip imagenet_sample.zip\n",
        "!rm imagenet_sample.zip\n",
        "!rm -r __MACOSX"
      ],
      "execution_count": 10,
      "outputs": [
        {
          "output_type": "stream",
          "text": [
            "--2018-04-10 09:53:33--  https://www.dropbox.com/s/z1opzcqa6snjlp8/imagenet_sample.zip\r\n",
            "Resolving www.dropbox.com (www.dropbox.com)... 162.125.6.1, 2620:100:601c:1::a27d:601\n",
            "Connecting to www.dropbox.com (www.dropbox.com)|162.125.6.1|:443... connected.\n",
            "HTTP request sent, awaiting response... 302 Found\n",
            "Location: https://dl.dropboxusercontent.com/content_link/D1loH3N2wMS8By44aLY2rI2F6ALoaDOj5FXviDgAdw5ldZUOQtIiiSNXOxyZpJEI/file [following]\n",
            "--2018-04-10 09:53:34--  https://dl.dropboxusercontent.com/content_link/D1loH3N2wMS8By44aLY2rI2F6ALoaDOj5FXviDgAdw5ldZUOQtIiiSNXOxyZpJEI/file\n",
            "Resolving dl.dropboxusercontent.com (dl.dropboxusercontent.com)... 162.125.66.6, 2620:100:601c:6::a27d:606\n",
            "Connecting to dl.dropboxusercontent.com (dl.dropboxusercontent.com)|162.125.66.6|:443... connected.\n",
            "HTTP request sent, awaiting response... 200 OK\n",
            "Length: 1624710 (1.5M) [application/zip]\n",
            "Saving to: ‘imagenet_sample.zip’\n",
            "\n",
            "imagenet_sample.zip 100%[===================>]   1.55M  2.37MB/s    in 0.7s    \n",
            "\n",
            "2018-04-10 09:53:36 (2.37 MB/s) - ‘imagenet_sample.zip’ saved [1624710/1624710]\n",
            "\n",
            "Archive:  imagenet_sample.zip\n",
            "   creating: imagenet/\n",
            "  inflating: imagenet/african-elephant.jpg  \n",
            "   creating: __MACOSX/\n",
            "   creating: __MACOSX/imagenet/\n",
            "  inflating: __MACOSX/imagenet/._african-elephant.jpg  \n",
            "  inflating: imagenet/b1.jpg         \n",
            "  inflating: __MACOSX/imagenet/._b1.jpg  \n",
            "  inflating: imagenet/dog.jpg        \n",
            "  inflating: __MACOSX/imagenet/._dog.jpg  \n",
            "  inflating: imagenet/elephant-02.jpg  \n",
            "  inflating: __MACOSX/imagenet/._elephant-02.jpg  \n",
            "  inflating: imagenet/hot-dog.jpg    \n",
            "  inflating: __MACOSX/imagenet/._hot-dog.jpg  \n",
            "  inflating: imagenet/strawberry_1157.jpeg  \n",
            "  inflating: __MACOSX/imagenet/._strawberry_1157.jpeg  \n",
            "  inflating: imagenet/strawberry_1174.jpeg  \n",
            "  inflating: __MACOSX/imagenet/._strawberry_1174.jpeg  \n",
            "  inflating: __MACOSX/._imagenet     \n"
          ],
          "name": "stdout"
        }
      ]
    },
    {
      "metadata": {
        "id": "5jOrxL-PpT7M",
        "colab_type": "code",
        "colab": {
          "base_uri": "https://localhost:8080/",
          "height": 34
        },
        "outputId": "d47410b5-33f9-4654-cbb8-1549e0c2fb34"
      },
      "cell_type": "code",
      "source": [
        "\n",
        "!ls\n"
      ],
      "execution_count": 12,
      "outputs": [
        {
          "output_type": "stream",
          "text": [
            "datalab  imagenet\r\n"
          ],
          "name": "stdout"
        }
      ]
    },
    {
      "metadata": {
        "id": "JOm3ZIkqjsoX",
        "colab_type": "text"
      },
      "cell_type": "markdown",
      "source": [
        "### Changing Directories"
      ]
    },
    {
      "metadata": {
        "id": "RrKo84-SuHva",
        "colab_type": "code",
        "colab": {
          "base_uri": "https://localhost:8080/",
          "height": 69
        },
        "outputId": "16394fa7-36d1-483c-fb1a-503800051e55"
      },
      "cell_type": "code",
      "source": [
        "\n",
        "import os\n",
        "os.chdir('imagenet')\n",
        "\n",
        "# Now the dir is 'data'\n",
        "!ls"
      ],
      "execution_count": 13,
      "outputs": [
        {
          "output_type": "stream",
          "text": [
            "african-elephant.jpg  elephant-02.jpg\t    strawberry_1174.jpeg\r\n",
            "b1.jpg\t\t      hot-dog.jpg\r\n",
            "dog.jpg\t\t      strawberry_1157.jpeg\r\n"
          ],
          "name": "stdout"
        }
      ]
    },
    {
      "metadata": {
        "id": "FB2ZmynJ8bFZ",
        "colab_type": "code",
        "colab": {
          "base_uri": "https://localhost:8080/",
          "height": 34
        },
        "outputId": "423ce41c-a06d-4436-a429-3f8ae9afdb69"
      },
      "cell_type": "code",
      "source": [
        "os.chdir('..')\n",
        "\n",
        "# Now the dir is back to top\n",
        "!ls"
      ],
      "execution_count": 14,
      "outputs": [
        {
          "output_type": "stream",
          "text": [
            "datalab  imagenet\r\n"
          ],
          "name": "stdout"
        }
      ]
    },
    {
      "metadata": {
        "id": "mfqZzQc8uLf5",
        "colab_type": "code",
        "colab": {
          "base_uri": "https://localhost:8080/",
          "height": 69
        },
        "outputId": "f6a74036-1940-4c70-b64c-665b534fe718"
      },
      "cell_type": "code",
      "source": [
        "!ls imagenet"
      ],
      "execution_count": 15,
      "outputs": [
        {
          "output_type": "stream",
          "text": [
            "african-elephant.jpg  elephant-02.jpg\t    strawberry_1174.jpeg\r\n",
            "b1.jpg\t\t      hot-dog.jpg\r\n",
            "dog.jpg\t\t      strawberry_1157.jpeg\r\n"
          ],
          "name": "stdout"
        }
      ]
    },
    {
      "metadata": {
        "id": "qrvtoJQc8l_3",
        "colab_type": "text"
      },
      "cell_type": "markdown",
      "source": [
        "## Using Google Drive to save and load files\n",
        "\n",
        "We have written a set of helper wrappers to make dealing with Google Drive and getting data into and out of you virtual machine"
      ]
    },
    {
      "metadata": {
        "id": "8XDuyH1Vj4rf",
        "colab_type": "text"
      },
      "cell_type": "markdown",
      "source": [
        "### Downloading and installing the gdrive wrapper"
      ]
    },
    {
      "metadata": {
        "id": "P6xUhA55kzIV",
        "colab_type": "code",
        "colab": {
          "base_uri": "https://localhost:8080/",
          "height": 331
        },
        "outputId": "7b7f0cc5-c2b4-4ed1-830c-ae5c288be2cd"
      },
      "cell_type": "code",
      "source": [
        "!wget https://www.dropbox.com/s/u2pm20xucyvid8j/gdrive.py\n",
        "!ls"
      ],
      "execution_count": 16,
      "outputs": [
        {
          "output_type": "stream",
          "text": [
            "--2018-04-10 09:55:07--  https://www.dropbox.com/s/u2pm20xucyvid8j/gdrive.py\r\n",
            "Resolving www.dropbox.com (www.dropbox.com)... 162.125.6.1, 2620:100:601c:1::a27d:601\n",
            "Connecting to www.dropbox.com (www.dropbox.com)|162.125.6.1|:443... connected.\n",
            "HTTP request sent, awaiting response... 302 Found\n",
            "Location: https://dl.dropboxusercontent.com/content_link/HoQtimR4SSJtJWJ1LyQa4x6bdTHNTYKyPhCn1zi9MxQogQhhOM5WgQtI7uHDssNC/file [following]\n",
            "--2018-04-10 09:55:08--  https://dl.dropboxusercontent.com/content_link/HoQtimR4SSJtJWJ1LyQa4x6bdTHNTYKyPhCn1zi9MxQogQhhOM5WgQtI7uHDssNC/file\n",
            "Resolving dl.dropboxusercontent.com (dl.dropboxusercontent.com)... 162.125.81.6, 2620:100:601c:6::a27d:606\n",
            "Connecting to dl.dropboxusercontent.com (dl.dropboxusercontent.com)|162.125.81.6|:443... connected.\n",
            "HTTP request sent, awaiting response... 200 OK\n",
            "Length: 1573 (1.5K) [text/x-python]\n",
            "Saving to: ‘gdrive.py’\n",
            "\n",
            "gdrive.py           100%[===================>]   1.54K  --.-KB/s    in 0s      \n",
            "\n",
            "2018-04-10 09:55:09 (154 MB/s) - ‘gdrive.py’ saved [1573/1573]\n",
            "\n",
            "datalab  gdrive.py  imagenet\n"
          ],
          "name": "stdout"
        }
      ]
    },
    {
      "metadata": {
        "id": "epVmEfrhACos",
        "colab_type": "text"
      },
      "cell_type": "markdown",
      "source": [
        "When asked to authenticate your Gdrive just click on the link till you get the auth strin and post it in the box below that will appear below then press enter"
      ]
    },
    {
      "metadata": {
        "id": "9jviuGYWlHV-",
        "colab_type": "code",
        "colab": {}
      },
      "cell_type": "code",
      "source": [
        "import gdrive"
      ],
      "execution_count": 0,
      "outputs": []
    },
    {
      "metadata": {
        "id": "LexghcyOp0ZS",
        "colab_type": "text"
      },
      "cell_type": "markdown",
      "source": [
        "### Make a test file locally\n",
        "\n",
        "\n",
        "this makes a sample text file that has the text \"my sample file\". We pass in the filename we want it to have"
      ]
    },
    {
      "metadata": {
        "id": "nbphwO7Ol1l_",
        "colab_type": "code",
        "colab": {
          "base_uri": "https://localhost:8080/",
          "height": 34
        },
        "outputId": "f37aeab6-d059-4a16-9eac-585b2b27360d"
      },
      "cell_type": "code",
      "source": [
        "gdrive.make_sample_file(\"test01.txt\")\n",
        "!ls"
      ],
      "execution_count": 18,
      "outputs": [
        {
          "output_type": "stream",
          "text": [
            "datalab  gdrive.py  imagenet  __pycache__  test01.txt\r\n"
          ],
          "name": "stdout"
        }
      ]
    },
    {
      "metadata": {
        "id": "WhMQaGgMucgB",
        "colab_type": "text"
      },
      "cell_type": "markdown",
      "source": [
        "## Save to Google Drive"
      ]
    },
    {
      "metadata": {
        "id": "vYHx9Dfml-xp",
        "colab_type": "code",
        "colab": {
          "base_uri": "https://localhost:8080/",
          "height": 34
        },
        "outputId": "7cb8dca5-1e85-4f81-b2ba-8abf9bd0faa2"
      },
      "cell_type": "code",
      "source": [
        "gdrive.upload_file(\"test01.txt\")"
      ],
      "execution_count": 19,
      "outputs": [
        {
          "output_type": "stream",
          "text": [
            "File ID: 12QpC4s3P1XYrc64gsr7sB_IQjlI15IFw\n"
          ],
          "name": "stdout"
        }
      ]
    },
    {
      "metadata": {
        "id": "aOt_ZGPL6rCp",
        "colab_type": "text"
      },
      "cell_type": "markdown",
      "source": [
        "if you see the file ID your file is now uploaded in your own personal Google Drive"
      ]
    },
    {
      "metadata": {
        "id": "C7UxTmFXqypp",
        "colab_type": "code",
        "colab": {
          "base_uri": "https://localhost:8080/",
          "height": 34
        },
        "outputId": "f01db351-d709-4607-ad59-296c600900a5"
      },
      "cell_type": "code",
      "source": [
        "#lets delete the file from the local server\n",
        "!rm test03.txt\n",
        "!ls"
      ],
      "execution_count": 21,
      "outputs": [
        {
          "output_type": "stream",
          "text": [
            "datalab  gdrive.py  imagenet  __pycache__  test01.txt\r\n"
          ],
          "name": "stdout"
        }
      ]
    },
    {
      "metadata": {
        "id": "zajEW7GDuYlL",
        "colab_type": "text"
      },
      "cell_type": "markdown",
      "source": [
        "## Load From Google Drive\n",
        "\n",
        "We use the file ID to download it to the virtual machine\n",
        "\n",
        "We can get this by getting a shareable link from inside drive.google.com for any file that is in your own Google Drive\n",
        "\n",
        "We also pass in the name we want it to be saved as to the virtual machine that is running the current Colab\n"
      ]
    },
    {
      "metadata": {
        "id": "yGVgv0sFubSb",
        "colab_type": "code",
        "colab": {}
      },
      "cell_type": "code",
      "source": [
        "id = '12QpC4s3P1XYrc64gsr7sB_IQjlI15IFw'\n",
        "\n",
        "gdrive.download_file(id,'text02.txt')"
      ],
      "execution_count": 0,
      "outputs": []
    },
    {
      "metadata": {
        "id": "RwVTVLs7rP4n",
        "colab_type": "code",
        "colab": {
          "base_uri": "https://localhost:8080/",
          "height": 34
        },
        "outputId": "4720e924-2194-4b3d-933d-b905bd210962"
      },
      "cell_type": "code",
      "source": [
        "!ls "
      ],
      "execution_count": 23,
      "outputs": [
        {
          "output_type": "stream",
          "text": [
            "datalab  gdrive.py  imagenet  __pycache__  test01.txt  text02.txt\r\n"
          ],
          "name": "stdout"
        }
      ]
    },
    {
      "metadata": {
        "id": "N8EYYMGVtz6g",
        "colab_type": "code",
        "colab": {
          "base_uri": "https://localhost:8080/",
          "height": 34
        },
        "outputId": "d0f31edd-c5f6-4e46-d474-9fd1e20ece55"
      },
      "cell_type": "code",
      "source": [
        "f = open('text02.txt', 'r')\n",
        "file_contents = f.read()\n",
        "print (file_contents)\n",
        "f.close()"
      ],
      "execution_count": 24,
      "outputs": [
        {
          "output_type": "stream",
          "text": [
            "my sample file\n"
          ],
          "name": "stdout"
        }
      ]
    }
  ]
}