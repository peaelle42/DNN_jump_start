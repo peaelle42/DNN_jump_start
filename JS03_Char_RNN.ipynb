{
  "nbformat": 4,
  "nbformat_minor": 0,
  "metadata": {
    "colab": {
      "name": "JS03-Char RNN.ipynb",
      "version": "0.3.2",
      "provenance": [],
      "collapsed_sections": [],
      "include_colab_link": true
    },
    "kernelspec": {
      "name": "python3",
      "display_name": "Python 3"
    },
    "accelerator": "GPU"
  },
  "cells": [
    {
      "cell_type": "markdown",
      "metadata": {
        "id": "view-in-github",
        "colab_type": "text"
      },
      "source": [
        "[View in Colaboratory](https://colab.research.google.com/github/peaelle42/DNN_jump_start/blob/master/JS03_Char_RNN.ipynb)"
      ]
    },
    {
      "metadata": {
        "id": "TNg93pLu0mVK",
        "colab_type": "text"
      },
      "cell_type": "markdown",
      "source": [
        "## Imports"
      ]
    },
    {
      "metadata": {
        "id": "TuHMq4OCPjAl",
        "colab_type": "code",
        "colab": {
          "base_uri": "https://localhost:8080/",
          "height": 34
        },
        "outputId": "9af33a82-c3d5-4286-974d-3f8fdf69731a"
      },
      "cell_type": "code",
      "source": [
        "from keras.callbacks import LambdaCallback\n",
        "from keras.models import Sequential\n",
        "from keras.layers import Dense, Activation\n",
        "from keras.layers import LSTM\n",
        "from keras.optimizers import RMSprop\n",
        "from keras.utils.data_utils import get_file\n",
        "import numpy as np\n",
        "import random\n",
        "import sys\n",
        "import io"
      ],
      "execution_count": 1,
      "outputs": [
        {
          "output_type": "stream",
          "text": [
            "Using TensorFlow backend.\n"
          ],
          "name": "stderr"
        }
      ]
    },
    {
      "metadata": {
        "id": "Udeq8QPjn1Pj",
        "colab_type": "code",
        "colab": {
          "base_uri": "https://localhost:8080/",
          "height": 34
        },
        "outputId": "d6bdbba6-ee6c-47d5-de4d-23a1597a9cbd"
      },
      "cell_type": "code",
      "source": [
        "!ls\n",
        "!"
      ],
      "execution_count": 2,
      "outputs": [
        {
          "output_type": "stream",
          "text": [
            "datalab  log  ngrok  ngrok-stable-linux-amd64.zip\r\n"
          ],
          "name": "stdout"
        }
      ]
    },
    {
      "metadata": {
        "id": "PbeyqAJd0pfq",
        "colab_type": "text"
      },
      "cell_type": "markdown",
      "source": [
        "## Load Dataset"
      ]
    },
    {
      "metadata": {
        "id": "Gok2OXHDPh0Z",
        "colab_type": "code",
        "colab": {
          "base_uri": "https://localhost:8080/",
          "height": 34
        },
        "outputId": "1af4b632-8797-4fb8-9871-f898502c3766"
      },
      "cell_type": "code",
      "source": [
        "\n",
        "#path = get_file('shakespeare-sonnets.txt', origin='https://www.dropbox.com/s/3wuwuc2ef36tdi0/shakespeare_sonnets.txt')\n",
        "!wget https://www.dropbox.com/s/3wuwuc2ef36tdi0/shakespeare_sonnets.txt\n",
        "\n",
        "with io.open('shakespeare_sonnets.txt', encoding='utf-8') as f:\n",
        "    text = f.read().lower()\n",
        "print('corpus length:', len(text))\n"
      ],
      "execution_count": 18,
      "outputs": [
        {
          "output_type": "stream",
          "text": [
            "corpus length: 102939\n"
          ],
          "name": "stdout"
        }
      ]
    },
    {
      "metadata": {
        "id": "cZyHBfDgdzPM",
        "colab_type": "code",
        "colab": {
          "base_uri": "https://localhost:8080/",
          "height": 50
        },
        "outputId": "e81223d7-ede0-45aa-f1c9-581e45507e8f"
      },
      "cell_type": "code",
      "source": [
        "!ls"
      ],
      "execution_count": 19,
      "outputs": [
        {
          "output_type": "stream",
          "text": [
            "datalab  ngrok\t\t\t       shakespeare_sonnets.txt\r\n",
            "log\t ngrok-stable-linux-amd64.zip  shakespeare_sonnets.txt.1\r\n"
          ],
          "name": "stdout"
        }
      ]
    },
    {
      "metadata": {
        "id": "3k9Vi8cDaiqS",
        "colab_type": "code",
        "colab": {
          "base_uri": "https://localhost:8080/",
          "height": 34
        },
        "outputId": "1f821122-ad1f-4972-c978-b65fb1772dd0"
      },
      "cell_type": "code",
      "source": [
        "len(text)"
      ],
      "execution_count": 20,
      "outputs": [
        {
          "output_type": "execute_result",
          "data": {
            "text/plain": [
              "102939"
            ]
          },
          "metadata": {
            "tags": []
          },
          "execution_count": 20
        }
      ]
    },
    {
      "metadata": {
        "id": "TuuDC2iUoV0j",
        "colab_type": "code",
        "colab": {
          "base_uri": "https://localhost:8080/",
          "height": 50
        },
        "outputId": "091cc5b5-1d1b-4679-e2b8-015be83b6159"
      },
      "cell_type": "code",
      "source": [
        "!ls"
      ],
      "execution_count": 21,
      "outputs": [
        {
          "output_type": "stream",
          "text": [
            "datalab  ngrok\t\t\t       shakespeare_sonnets.txt\r\n",
            "log\t ngrok-stable-linux-amd64.zip  shakespeare_sonnets.txt.1\r\n"
          ],
          "name": "stdout"
        }
      ]
    },
    {
      "metadata": {
        "id": "Afv5fdebPpw6",
        "colab_type": "code",
        "colab": {
          "base_uri": "https://localhost:8080/",
          "height": 34
        },
        "outputId": "b5f944b5-5cfb-437a-979b-22bc942c6c5d"
      },
      "cell_type": "code",
      "source": [
        "chars = sorted(list(set(text)))\n",
        "print('total chars:', len(chars))\n",
        "char_indices = dict((c, i) for i, c in enumerate(chars))\n",
        "indices_char = dict((i, c) for i, c in enumerate(chars))"
      ],
      "execution_count": 22,
      "outputs": [
        {
          "output_type": "stream",
          "text": [
            "total chars: 48\n"
          ],
          "name": "stdout"
        }
      ]
    },
    {
      "metadata": {
        "id": "Dpy7BpFhPtYx",
        "colab_type": "code",
        "colab": {
          "base_uri": "https://localhost:8080/",
          "height": 34
        },
        "outputId": "2f41386c-ceff-4367-bf34-bd8eefe6acc6"
      },
      "cell_type": "code",
      "source": [
        "# cut the text in semi-redundant sequences of maxlen characters\n",
        "maxlen = 40\n",
        "step = 3\n",
        "sentences = []\n",
        "next_chars = []\n",
        "for i in range(0, len(text) - maxlen, step):\n",
        "    sentences.append(text[i: i + maxlen])\n",
        "    next_chars.append(text[i + maxlen])\n",
        "print('nb sequences:', len(sentences))"
      ],
      "execution_count": 23,
      "outputs": [
        {
          "output_type": "stream",
          "text": [
            "nb sequences: 34300\n"
          ],
          "name": "stdout"
        }
      ]
    },
    {
      "metadata": {
        "id": "BDZyjjuoYhVY",
        "colab_type": "code",
        "colab": {
          "base_uri": "https://localhost:8080/",
          "height": 353
        },
        "outputId": "5d7cff56-1102-43cf-98b9-f05470bca4b0"
      },
      "cell_type": "code",
      "source": [
        "print(sentences[0])\n",
        "print(sentences[1])\n",
        "print(sentences[2])\n",
        "print(sentences[3])"
      ],
      "execution_count": 24,
      "outputs": [
        {
          "output_type": "stream",
          "text": [
            "the sonnets\n",
            "\n",
            "by william shakespeare\n",
            "\n",
            "   \n",
            " sonnets\n",
            "\n",
            "by william shakespeare\n",
            "\n",
            "      \n",
            "nnets\n",
            "\n",
            "by william shakespeare\n",
            "\n",
            "         \n",
            "ts\n",
            "\n",
            "by william shakespeare\n",
            "\n",
            "            \n"
          ],
          "name": "stdout"
        }
      ]
    },
    {
      "metadata": {
        "id": "SyInEpHvPv7k",
        "colab_type": "code",
        "colab": {
          "base_uri": "https://localhost:8080/",
          "height": 34
        },
        "outputId": "6700a475-bf8b-40e0-ee84-24a8a32c9506"
      },
      "cell_type": "code",
      "source": [
        "print('Vectorization...')\n",
        "x = np.zeros((len(sentences), maxlen, len(chars)), dtype=np.bool)\n",
        "y = np.zeros((len(sentences), len(chars)), dtype=np.bool)\n",
        "for i, sentence in enumerate(sentences):\n",
        "    for t, char in enumerate(sentence):\n",
        "        x[i, t, char_indices[char]] = 1\n",
        "    y[i, char_indices[next_chars[i]]] = 1"
      ],
      "execution_count": 25,
      "outputs": [
        {
          "output_type": "stream",
          "text": [
            "Vectorization...\n"
          ],
          "name": "stdout"
        }
      ]
    },
    {
      "metadata": {
        "id": "lkjUV-hkPwHR",
        "colab_type": "code",
        "colab": {
          "base_uri": "https://localhost:8080/",
          "height": 34
        },
        "outputId": "e6db6149-7d82-400e-aa4c-10ab167333f2"
      },
      "cell_type": "code",
      "source": [
        "# build the model: a single LSTM\n",
        "print('Build model...')\n",
        "model = Sequential()\n",
        "model.add(LSTM(128, input_shape=(maxlen, len(chars))))\n",
        "model.add(Dense(len(chars)))\n",
        "model.add(Activation('softmax'))"
      ],
      "execution_count": 26,
      "outputs": [
        {
          "output_type": "stream",
          "text": [
            "Build model...\n"
          ],
          "name": "stdout"
        }
      ]
    },
    {
      "metadata": {
        "id": "hMU6lsPcPwO9",
        "colab_type": "code",
        "colab": {}
      },
      "cell_type": "code",
      "source": [
        "optimizer = RMSprop(lr=0.01)\n",
        "model.compile(loss='categorical_crossentropy', optimizer=optimizer)"
      ],
      "execution_count": 0,
      "outputs": []
    },
    {
      "metadata": {
        "id": "IcI8qLxL02Nb",
        "colab_type": "text"
      },
      "cell_type": "markdown",
      "source": [
        "## Sampling some text from the model"
      ]
    },
    {
      "metadata": {
        "id": "yLhxcB13P4Tf",
        "colab_type": "code",
        "colab": {}
      },
      "cell_type": "code",
      "source": [
        "def sample(preds, temperature=1.0):\n",
        "    # helper function to sample an index from a probability array\n",
        "    preds = np.asarray(preds).astype('float64')\n",
        "    preds = np.log(preds) / temperature\n",
        "    exp_preds = np.exp(preds)\n",
        "    preds = exp_preds / np.sum(exp_preds)\n",
        "    probas = np.random.multinomial(1, preds, 1)\n",
        "    return np.argmax(probas)"
      ],
      "execution_count": 0,
      "outputs": []
    },
    {
      "metadata": {
        "id": "2vMGH6wAP4hm",
        "colab_type": "code",
        "colab": {}
      },
      "cell_type": "code",
      "source": [
        "def on_epoch_end(epoch, logs):\n",
        "    # Function invoked at end of each epoch. Prints generated text.\n",
        "    print()\n",
        "    print('----- Generating text after Epoch: %d' % epoch)\n",
        "\n",
        "    start_index = random.randint(0, len(text) - maxlen - 1)\n",
        "    for diversity in [0.2, 0.5, 1.0, 1.2]:\n",
        "        print('----- diversity:', diversity)\n",
        "\n",
        "        generated = ''\n",
        "        sentence = text[start_index: start_index + maxlen]\n",
        "        generated += sentence\n",
        "        print('----- Generating with seed: \"' + sentence + '\"')\n",
        "        sys.stdout.write(generated)\n",
        "\n",
        "        for i in range(400):\n",
        "            x_pred = np.zeros((1, maxlen, len(chars)))\n",
        "            for t, char in enumerate(sentence):\n",
        "                x_pred[0, t, char_indices[char]] = 1.\n",
        "\n",
        "            preds = model.predict(x_pred, verbose=0)[0]\n",
        "            next_index = sample(preds, diversity)\n",
        "            next_char = indices_char[next_index]\n",
        "\n",
        "            generated += next_char\n",
        "            sentence = sentence[1:] + next_char\n",
        "\n",
        "            sys.stdout.write(next_char)\n",
        "            sys.stdout.flush()\n",
        "        print()"
      ],
      "execution_count": 0,
      "outputs": []
    },
    {
      "metadata": {
        "id": "IbvddKT-QAeq",
        "colab_type": "code",
        "colab": {}
      },
      "cell_type": "code",
      "source": [
        "#callback\n",
        "\n",
        "print_callback = LambdaCallback(on_epoch_end=on_epoch_end)"
      ],
      "execution_count": 0,
      "outputs": []
    },
    {
      "metadata": {
        "id": "TNrJyLsrPW4z",
        "colab_type": "code",
        "colab": {
          "base_uri": "https://localhost:8080/",
          "height": 16316
        },
        "outputId": "97c7847a-62df-436b-d11f-8057b2dd0ed8"
      },
      "cell_type": "code",
      "source": [
        "model.fit(x, y,\n",
        "          batch_size=128,\n",
        "          epochs=60,\n",
        "          callbacks=[print_callback])"
      ],
      "execution_count": 0,
      "outputs": [
        {
          "output_type": "stream",
          "text": [
            "Epoch 1/60\n",
            "34300/34300 [==============================] - 29s 858us/step - loss: 2.2973\n",
            "\n",
            "----- Generating text after Epoch: 0\n",
            "----- diversity: 0.2\n",
            "----- Generating with seed: \" master mistress of my passion,\n",
            "  a woma\"\n",
            " master mistress of my passion,\n",
            "  a woman the wort thy that the hath thy mave sher bear in the the wire hat the wire the  in the what beare thot fart the  in the beart thou love the wire the wire thy thou hand in the when hat the what the wire the win"
          ],
          "name": "stdout"
        },
        {
          "output_type": "stream",
          "text": [
            "t the with so me the wire thy whet the  in the wir mine the fart the wirt and that thou my the whit thy that beart thy shat thy love the that bear bear beart the that love the  and mear bea\n",
            "----- diversity: 0.5\n",
            "----- Generating with seed: \" master mistress of my passion,\n",
            "  a woma\"\n",
            " master mistress of my passion,\n",
            "  a woman  art beall me wat meat so i sean in thy meart hine the srave wing the my hor  ter, beave,\n",
            "  when that ghall han the heringe the mang the   ar wort i  the mor that noun hear my all whan thy tha"
          ],
          "name": "stdout"
        },
        {
          "output_type": "stream",
          "text": [
            "s fart ke that love,\n",
            "  then beart and man thy beared and my love i  or bet en fing that mise the wile soon the whing the dat mit men in the wher bais all man timt des the berre,\n",
            "                            \n",
            "----- diversity: 1.0\n",
            "----- Generating with seed: \" master mistress of my passion,\n",
            "  a woma\"\n",
            " master mistress of my passion,\n",
            "  a womasfeane i mear.\n",
            "\n",
            "\n",
            "                                          n,\n",
            "    mir ghat dimen thy  man sill.\n",
            "  nim watr hasu as tand uvunde,\n",
            "  walc\n",
            "\n",
            " wotmeiong floe helr swer blinc theev,\n",
            "  whlo"
          ],
          "name": "stdout"
        },
        {
          "output_type": "stream",
          "text": [
            "s nor but fart beoil grors thy sowne pon kith the-dest apr whyt  oun sory gy,\n",
            "  wid ise\n",
            "  is  thow nolf ired ell mive thou beror diin,\n",
            "   the wort,\n",
            ", sents dead\n",
            "  urr i nan and ron  of thour mirpt w ar try arf ollenke y\n",
            "----- diversity: 1.2\n",
            "----- Generating with seed: \" master mistress of my passion,\n",
            "  a woma\"\n",
            " master mistress of my passion,\n",
            "  a womaou hst elwirh ipe cove and merr,\n",
            "  ifin grf last drich  trred or fown veite'ss srave,\n",
            "  thet thee sears:\n",
            "  fftstweve stadce, ond lrce' love pot that itr\n",
            " gorle,\n",
            "  oreag- is"
          ],
          "name": "stdout"
        },
        {
          "output_type": "stream",
          "text": [
            " yombmed wrovn\n",
            "  thy thot bat tan ecdy met,\n",
            "  weel of sevin shtemy besterp my foat.  \n",
            " alder firgtirt,\n",
            "  f un\n",
            "  is llust,\n",
            "  aud ituuht thr eonr sin cavean hich favs thf shy wats ?\n",
            "  awn fept,\n",
            "  yavi i furtion, lover gait, fange,\n",
            "Epoch 2/60\n",
            "29184/34300 [========================>.....] - ETA: 4s - loss: 1.8216"
          ],
          "name": "stdout"
        },
        {
          "output_type": "stream",
          "text": [
            "34300/34300 [==============================] - 28s 821us/step - loss: 1.8104\n",
            "\n",
            "----- Generating text after Epoch: 1\n",
            "----- diversity: 0.2\n",
            "----- Generating with seed: \"ine.\n",
            "\n",
            "\n",
            "                     87\n",
            "  farewel\"\n",
            "ine.\n",
            "\n",
            "\n",
            "                     87\n",
            "  farewel storl with the will the will the coust,\n",
            "  and and thy have thou thou the wirl thou the hingh stor that the will,\n",
            "  and the hart the will that the will so thee,\n",
            "    and that the that that the will the will,\n",
            "  that that the prave of the hime i mave,\n",
            "  and th"
          ],
          "name": "stdout"
        },
        {
          "output_type": "stream",
          "text": [
            "at the will thou the will thou have his price,\n",
            "  that the wire the wirt the will that the thee,\n",
            "  that that thou the wire and that that the the\n",
            "----- diversity: 0.5\n",
            "----- Generating with seed: \"ine.\n",
            "\n",
            "\n",
            "                     87\n",
            "  farewel\"\n",
            "ine.\n",
            "\n",
            "\n",
            "                     87\n",
            "  fareweld that dith to the grove of thee,\n",
            "  that coupin thou than the harter with that counse,\n",
            "  nor be will thy will that short or me trant,\n",
            "  what i shart this price do comer a mare,\n",
            "  thy cave to thy wairt and at the heart\n",
            "  and mine"
          ],
          "name": "stdout"
        },
        {
          "output_type": "stream",
          "text": [
            " no thou his preate my heart\n",
            "  and i would thou cangle the cantang hearting of this the frilled,\n",
            "  which recanter i counter to love thy sight wind nor gres mank hank,\n",
            "  tha\n",
            "----- diversity: 1.0\n",
            "----- Generating with seed: \"ine.\n",
            "\n",
            "\n",
            "                     87\n",
            "  farewel\"\n",
            "ine.\n",
            "\n",
            "\n",
            "                     87\n",
            "  farewelt no more i puomelid,\n",
            "  in songhor be of this grats in not noo hakings,\n",
            "  dest andais to ape of thousther ere,\n",
            "  ad by worturet thou manter love goven evild,\n",
            "  live make now sevewres doth have it beser\n",
            "\n",
            "    "
          ],
          "name": "stdout"
        },
        {
          "output_type": "stream",
          "text": [
            "                                                                d    , in my paenth mo sucu orf,\n",
            "  whyn showss reater shind pigo that this hasty as prop de bed,\n",
            "  and so pirt, thine cuve, eveio\n",
            "----- diversity: 1.2\n",
            "----- Generating with seed: \"ine.\n",
            "\n",
            "\n",
            "                     87\n",
            "  farewel\"\n",
            "ine.\n",
            "\n",
            "\n",
            "                     87\n",
            "  farewely or frree, blous thy erel bave's bonge by spente thuils\n",
            "  age then, thy tared a mther prvery prop?\n",
            "  opright ofele binms thingle, mort.\n",
            "    hash love ore , proinke me pavel dald''s acvist,\n",
            " "
          ],
          "name": "stdout"
        },
        {
          "output_type": "stream",
          "text": [
            " dot to beasss, not beappy see that mit, way spif,\n",
            "  nom remid ev, that crod buystainst pan,\n",
            "  weel, ty-w for then renpy wene loth hame thi niclishowd,\n",
            "  in, anllosn syols abloust, wrents but evirle peay,\n",
            "  th\n",
            "Epoch 3/60\n",
            "32256/34300 [===========================>..] - ETA: 1s - loss: 1.6568"
          ],
          "name": "stdout"
        },
        {
          "output_type": "stream",
          "text": [
            "34300/34300 [==============================] - 28s 815us/step - loss: 1.6518\n",
            "\n",
            "----- Generating text after Epoch: 2\n",
            "----- diversity: 0.2\n",
            "----- Generating with seed: \"hich works on leases of short-numbered h\"\n",
            "hich works on leases of short-numbered his prowe,\n",
            "  the that the wind the will the thee sheet\n",
            "    the the with the with the the with the will the will to the store,\n",
            "  the will the will the will the will the thee thee beart,\n",
            "  the will the to the the with the thee mine and the steet\n",
            "    the will the w"
          ],
          "name": "stdout"
        },
        {
          "output_type": "stream",
          "text": [
            "ith the with the will the steet\n",
            "    the will the steet the the the with the will the will with the will free the the with the wreed\n",
            "    the\n",
            "----- diversity: 0.5\n",
            "----- Generating with seed: \"hich works on leases of short-numbered h\"\n",
            "hich works on leases of short-numbered hath,\n",
            "  for your she thy heauter the with my so the thee best love,\n",
            "    thou where the tan of no ad the steet thee,\n",
            "    and with me that shee her stor the the stort,\n",
            "    that the to the steen the thound me there,\n",
            "    the that i self"
          ],
          "name": "stdout"
        },
        {
          "output_type": "stream",
          "text": [
            " in the with preed are be\n",
            "  me not lose beathed sust in leay,\n",
            "  the wreake and posed of met free shere,\n",
            "  to she shease the prouding of the my wither there,\n",
            "  the will t\n",
            "----- diversity: 1.0\n",
            "----- Generating with seed: \"hich works on leases of short-numbered h\"\n",
            "hich works on leases of short-numbered hyer the moor,\n",
            "  their tid eye that whecting me onderped art\n",
            "    nor take to goold\n",
            "  wo of her to emoun weets wicher breart,\n",
            "    for to then shcence capest, that s\n",
            " things me'\n",
            "  and carte,\n",
            "  truth for with kead"
          ],
          "name": "stdout"
        },
        {
          "output_type": "stream",
          "text": [
            "s wine foirlost doth no )are:\n",
            "  thou kients dectiange i my wnolds frere.\n",
            "\n",
            "\n",
            "               111\n",
            "  or weath cruresw the shouth tay thee, ban heather leat anceride,\n",
            "  ssing live that whece cueste\n",
            "----- diversity: 1.2\n",
            "----- Generating with seed: \"hich works on leases of short-numbered h\"\n",
            "hich works on leases of short-numbered hined?\n",
            "  nouwe sweet ifprepoust:\n",
            "    thou nack geathest hyst wiri ind's afour,\n",
            "  when for wost dack cake6n chy mbeivelrth fith notwane.\n",
            "\n",
            "\n",
            "  feaven lomny agh to he donis anceo lieso\n",
            "  which my in"
          ],
          "name": "stdout"
        },
        {
          "output_type": "stream",
          "text": [
            " tley bevowlow and st.\n",
            "    that were suck entow, trucelet' us nemet ry to orout,\n",
            "  mons at manses on fears huth's byosloone.\n",
            "  of mogh waltian whouth tigit mes, old\n",
            "  ridet to .\n",
            " wind's provess crhalidadeos \n",
            "Epoch 4/60\n",
            "32640/34300 [===========================>..] - ETA: 1s - loss: 1.5487"
          ],
          "name": "stdout"
        },
        {
          "output_type": "stream",
          "text": [
            "34300/34300 [==============================] - 28s 810us/step - loss: 1.5502\n",
            "\n",
            "----- Generating text after Epoch: 3\n",
            "----- diversity: 0.2\n",
            "----- Generating with seed: \"love.\n",
            "\n",
            "\n",
            "                     118\n",
            "  like \"\n",
            "love.\n",
            "\n",
            "\n",
            "                     118\n",
            "  like that thou that thou mort that that that thou worther the to thought,\n",
            "  and sease that my self that thou love shall sen,\n",
            "  and seat i so thought that thou that shall to the to me to the thee,\n",
            "  that thou most that thou not thou mort that the thought of thee,\n",
            "  a"
          ],
          "name": "stdout"
        },
        {
          "output_type": "stream",
          "text": [
            "nd see that thou shall thou mort that the to thou have,\n",
            "  that thou thou most the to sent that thou that thou benored,\n",
            "  that i love thou l\n",
            "----- diversity: 0.5\n",
            "----- Generating with seed: \"love.\n",
            "\n",
            "\n",
            "                     118\n",
            "  like \"\n",
            "love.\n",
            "\n",
            "\n",
            "                     118\n",
            "  like a my to prassed with i love fraise,\n",
            "  that a gove every forter not the faursed.\n",
            "  and prause faurting to that love of pravile,\n",
            "  that shand sleak a storl shall to be fort.\n",
            "  and part of my self where if me sake,  \n",
            "  and dester the "
          ],
          "name": "stdout"
        },
        {
          "output_type": "stream",
          "text": [
            "outliss of thee beauty such doth,\n",
            "  sang thou the theake hon what thou that shall thought and the proud wrong.\n",
            "    that mught thou mine one wauty can thou doth,\n",
            "  that s\n",
            "----- diversity: 1.0\n",
            "----- Generating with seed: \"love.\n",
            "\n",
            "\n",
            "                     118\n",
            "  like \"\n",
            "love.\n",
            "\n",
            "\n",
            "                     118\n",
            "  like may not the itso, of foulss macies,\n",
            "  and cain'le three, and beauty, and bors,\n",
            "  love capntaby goot i te ploy are, are love,\n",
            "  that to celenting not wilfee in om anouty ofore or,\n",
            "  reciuscred ancows be ma:ty's"
          ],
          "name": "stdout"
        },
        {
          "output_type": "stream",
          "text": [
            " of this, dorr anow,\n",
            "    for havew-and love extrost i dage,\n",
            "  thought one casury living to the self :\n",
            "  for that of this partaans of are woel forase,\n",
            "  that nake your challing cran and sergce\n",
            "----- diversity: 1.2\n",
            "----- Generating with seed: \"love.\n",
            "\n",
            "\n",
            "                     118\n",
            "  like \"\n",
            "love.\n",
            "\n",
            "\n",
            "                     118\n",
            "  like ald viss elst op, slevige giveng.\n",
            "\n",
            "\n",
            "              h gur to thy pas wo them for theu hone used,\n",
            "  sass, with timpare all by his sorg my tonspept'st,\n",
            "  what to arus all beauly pits, i geove sheac"
          ],
          "name": "stdout"
        },
        {
          "output_type": "stream",
          "text": [
            "lorse3\n",
            "  loyd i sighty, so make tumechde deat'st mastsed,\n",
            "  ashen of i worloon:fimman is love ploysist-propautd?\n",
            "  will ophy is ghe1 ye om weliking lotak.\n",
            "\n",
            "\n",
            "                    r6 fac lenss fore hoye growand\n",
            "Epoch 5/60\n",
            "32384/34300 [===========================>..] - ETA: 1s - loss: 1.4682"
          ],
          "name": "stdout"
        },
        {
          "output_type": "stream",
          "text": [
            "34300/34300 [==============================] - 28s 817us/step - loss: 1.4677\n",
            "\n",
            "----- Generating text after Epoch: 4\n",
            "----- diversity: 0.2\n",
            "----- Generating with seed: \"loathsome canker lives in sweetest bud.\n",
            "\"\n",
            "loathsome canker lives in sweetest bud.\n",
            "    and the wails that thou waster that thee,\n",
            "  while that thou art that the wairst thou would thee,\n",
            "  while that thou thall the warth the warth that his beart.\n",
            "    thou that the wails the warth that while thee,\n",
            "    thou wasth that thou that thou art that thee,"
          ],
          "name": "stdout"
        },
        {
          "output_type": "stream",
          "text": [
            "\n",
            "  that thou than my heart thou than the tare,\n",
            "  and thou mayst thou beauty that the warth that his beart,\n",
            "  which thou wiltur that thou th\n",
            "----- diversity: 0.5\n",
            "----- Generating with seed: \"loathsome canker lives in sweetest bud.\n",
            "\"\n",
            "loathsome canker lives in sweetest bud.\n",
            "    thou but are that with thy sweet love,  \n",
            "  and thou brind all thought have still heart in thee.\n",
            "    that that she that thou mine all the warth that thou art,\n",
            "  when shall their shall thou beauty stane,\n",
            "  and alast that thou hav"
          ],
          "name": "stdout"
        },
        {
          "output_type": "stream",
          "text": [
            "e beauty my love,\n",
            "    thou will my most frowed to thy self and love,\n",
            "  while on the prave him in thee wat thee,\n",
            "    for him the ringer tame my love thou tomest,\n",
            "  that t\n",
            "----- diversity: 1.0\n",
            "----- Generating with seed: \"loathsome canker lives in sweetest bud.\n",
            "\"\n",
            "loathsome canker lives in sweetest bud.\n",
            "    thought comist love moited flemund show,\n",
            "  , w at powald take thy plisture tangle me,\n",
            "  time truth may art or thele e, for love,\n",
            "  a can i jomrered thou butine, that in other his:,\n",
            "  ale pases more yought "
          ],
          "name": "stdout"
        },
        {
          "output_type": "stream",
          "text": [
            "that breathit, dank frose they mook.\n",
            "    a gave mearer coufmortiandith with, biss,\n",
            "  wilter to men wills self compasse wiee,\n",
            "  fair thamutes in thou when preasely loviest:\n",
            "  will fy mrend day\n",
            "----- diversity: 1.2\n",
            "----- Generating with seed: \"loathsome canker lives in sweetest bud.\n",
            "\"\n",
            "loathsome canker lives in sweetest bud.\n",
            "  arr tarned dy thy heact uskerepasuremod.\n",
            "  why plort, and to gill will thultitg rebest,\n",
            "  whuch to yet mey, is bay cames' love you hame,\n",
            "  that risped nen stere heirture it fomsn,\n",
            "  wainver m"
          ],
          "name": "stdout"
        },
        {
          "output_type": "stream",
          "text": [
            "o meresel tell of tdet pleammaty?\n",
            "    thy ghase she dappyoesming bears that mayty:\n",
            "  knad him suen furwing thiebing mindrumb?l bothims alanter laake:\n",
            "  stsees but, that fauds yet is howe,   there dwill carer\n",
            "Epoch 6/60\n",
            "32640/34300 [===========================>..] - ETA: 1s - loss: 1.3997"
          ],
          "name": "stdout"
        },
        {
          "output_type": "stream",
          "text": [
            "34300/34300 [==============================] - 28s 818us/step - loss: 1.4010\n",
            "\n",
            "----- Generating text after Epoch: 5\n",
            "----- diversity: 0.2\n",
            "----- Generating with seed: \", and then my state,\n",
            "  (like to the lark\"\n",
            ", and then my state,\n",
            "  (like to the lark than the will than upery,\n",
            "  when thou whom thou wilt thou which be be the tombery storn when the thand,\n",
            "  and the will that this beauty that thou have no me,\n",
            "  that thou my self that thou my self that the wind and the tomber,\n",
            "  that then that the wille that th"
          ],
          "name": "stdout"
        },
        {
          "output_type": "stream",
          "text": [
            "ou whom the warth and beart that the trong the the con.\n",
            "    that thou whom that thou whom thou with the warth and the with the thend,\n",
            "  tha\n",
            "----- diversity: 0.5\n",
            "----- Generating with seed: \", and then my state,\n",
            "  (like to the lark\"\n",
            ", and then my state,\n",
            "  (like to the lark thou my ways i the wart\n",
            "  my self to proy and poned the with thou lease,\n",
            "  of then for my love when thou giats that the dost fause hear not look,\n",
            "    thou with my self to chase now with thine in year,\n",
            "  thou art beauted prome her "
          ],
          "name": "stdout"
        },
        {
          "output_type": "stream",
          "text": [
            "thy rear doth defare,\n",
            "  that thine eye you   thy sight thy light that thou your self  on the tor you  the than then my love, to beart?\n",
            "    thy gith that still a poy the \n",
            "----- diversity: 1.0\n",
            "----- Generating with seed: \", and then my state,\n",
            "  (like to the lark\"\n",
            ", and then my state,\n",
            "  (like to the larke confeaus then powor sengn\n",
            "  but not you , yor thy conththing of you forly,\n",
            "    but love not powers goatiou to plaes is toul.\n",
            "  wish things wospersw of slaoked aht, not eye com deeger.\n",
            "    sich hear every of "
          ],
          "name": "stdout"
        },
        {
          "output_type": "stream",
          "text": [
            "then make find thenothes cholost be,\n",
            "  o whon woon with their autust lipe in my diad,\n",
            "    whom allen cheed it thy gidess of beculing:\n",
            "  and detcry, should shall-wiph live, kond lear,\n",
            "    thou\n",
            "----- diversity: 1.2\n",
            "----- Generating with seed: \", and then my state,\n",
            "  (like to the lark\"\n",
            ", and then my state,\n",
            "  (like to the larkeah state hi triinms 'd rey bock common and so bodgine.\n",
            "  with this, wow find thou gefters's fore;\n",
            "  and postuded hdotfmaty thou be not parce chargct.\n",
            "\n",
            "\n",
            "                     40\n",
            "  lot furs in he"
          ],
          "name": "stdout"
        },
        {
          "output_type": "stream",
          "text": [
            "wor, but homs stwilly acpeary,\n",
            "  ind verst a both hind at my jabe'nt not lieve,\n",
            "  of this my helly duck seevers thou prore:\n",
            "  ifdoth rubpy, nor not gelf farikiong sparngs\n",
            "  gud whack ruch b i ,oough frised d\n",
            "Epoch 7/60\n",
            "32896/34300 [===========================>..] - ETA: 1s - loss: 1.3264"
          ],
          "name": "stdout"
        },
        {
          "output_type": "stream",
          "text": [
            "34300/34300 [==============================] - 29s 833us/step - loss: 1.3265\n",
            "\n",
            "----- Generating text after Epoch: 6\n",
            "----- diversity: 0.2\n",
            "----- Generating with seed: \"had to triumph, being lacked to hope.\n",
            "\n",
            "\n",
            "\"\n",
            "had to triumph, being lacked to hope.\n",
            "\n",
            "\n",
            "                     114\n",
            "  whom my self and my self and my self they,\n",
            "    there beauty will will thou would be ond,\n",
            "  the prove thee of my self and the farth,\n",
            "    there of my self and prace are thee i shown,\n",
            "    there of my self for my self and the fair storn,\n"
          ],
          "name": "stdout"
        },
        {
          "output_type": "stream",
          "text": [
            "    there of my self and my self and the lie,\n",
            "    there of my self and the blessed are thee,\n",
            "    there of thy self and the farst which the \n",
            "----- diversity: 0.5\n",
            "----- Generating with seed: \"had to triumph, being lacked to hope.\n",
            "\n",
            "\n",
            "\"\n",
            "had to triumph, being lacked to hope.\n",
            "\n",
            "\n",
            "                     148\n",
            "  when i have should see more that i taire,\n",
            "  and thee brien once in their barred of storn,\n",
            "  that she is all thy self the coury where,\n",
            "  thy facc all by my dat beauty's face you \n",
            "                       143"
          ],
          "name": "stdout"
        },
        {
          "output_type": "stream",
          "text": [
            "\n",
            "  whomest i may so the brause of my self bet,\n",
            "  as my sould and the world beauty will new.\n",
            "    and the prous of my self and unconsuath,\n",
            "  and there own my self and the \n",
            "----- diversity: 1.0\n",
            "----- Generating with seed: \"had to triumph, being lacked to hope.\n",
            "\n",
            "\n",
            "\"\n",
            "had to triumph, being lacked to hope.\n",
            "\n",
            "\n",
            "                     74\n",
            "  when how my parebot that sinst hine proviced'ethed\n",
            "\n",
            "                     s6  \n",
            "  post i farsl lenvay shall that blon mring take:\n",
            "    i hide brine and the lors thine of slars.\n",
            "\n",
            "\n",
            "       "
          ],
          "name": "stdout"
        },
        {
          "output_type": "stream",
          "text": [
            "             s20\n",
            "  or ollers to shull i crempour glace fies,\n",
            "    where in that best tell thue i pirser and propiked,\n",
            "  bur so lifes my self you rom saspeart bite,\n",
            "  at mare 'sist bodk'st thy \n",
            "----- diversity: 1.2\n",
            "----- Generating with seed: \"had to triumph, being lacked to hope.\n",
            "\n",
            "\n",
            "\"\n",
            "had to triumph, being lacked to hope.\n",
            "\n",
            "\n",
            "                     114\n",
            "  haquty my infeart draby see to paseaneie.\n",
            "\n",
            "\n",
            "                     81\n",
            "  could sise worth.\n",
            "\n",
            "\n",
            "                     64\n",
            "  when eles rike; more noable mour, , o new-in const"
          ],
          "name": "stdout"
        },
        {
          "output_type": "stream",
          "text": [
            "aaved'\n",
            "  as all yould tong to not \n",
            "  whom my doying heaury's partumely as sight loeg:\n",
            "  do in plo(s worst nackity usk'st agt,\n",
            "    vience straight up mire'res ol heil duin,\n",
            "  from my madirr self habh stave ki\n",
            "Epoch 8/60\n",
            "32512/34300 [===========================>..] - ETA: 1s - loss: 1.2667"
          ],
          "name": "stdout"
        },
        {
          "output_type": "stream",
          "text": [
            "34300/34300 [==============================] - 28s 817us/step - loss: 1.2702\n",
            "\n",
            "----- Generating text after Epoch: 7\n",
            "----- diversity: 0.2\n",
            "----- Generating with seed: \" vulgar thief.  \n",
            "  thee have i not locke\"\n",
            " vulgar thief.  \n",
            "  thee have i not locked of the winterse,\n",
            "  which so thy some thou art thought thou art,\n",
            "  that i am the worldoug thy self and prove.\n",
            "    that i not thou art thou thoughts and the truen,\n",
            "  which stould of the stor' this bearters,\n",
            "  and in the worldough thou mayst thoughts,\n",
            "  that is "
          ],
          "name": "stdout"
        },
        {
          "output_type": "stream",
          "text": [
            "the wrost thou mayst thoughts and love thee bost,\n",
            "  which steess thou haster thoughts that i not your self grown,\n",
            "  which strengt the world\n",
            "----- diversity: 0.5\n",
            "----- Generating with seed: \" vulgar thief.  \n",
            "  thee have i not locke\"\n",
            " vulgar thief.  \n",
            "  thee have i not locked in the cart\n",
            "  so thou bearts to giffer to hears or ind,\n",
            "  which a good y this of nother thou am thy ressed.\n",
            "    thou have sthat may sa's bear massaged prome.\n",
            "    thou art the world withy sinst thou haster spend\n",
            "  or if not my sel"
          ],
          "name": "stdout"
        },
        {
          "output_type": "stream",
          "text": [
            "f which to be sterss of all.\n",
            "\n",
            "\n",
            "                     11  \n",
            "  who liven the world and the world shall live,\n",
            "  and and thine and a poor and more of the prove,\n",
            "  which a goob\n",
            "----- diversity: 1.0\n",
            "----- Generating with seed: \" vulgar thief.  \n",
            "  thee have i not locke\"\n",
            " vulgar thief.  \n",
            "  thee have i not locked is courne,\n",
            "  which with grays at oldon) dechost you,\n",
            "  or when my pen it thus appeartle eart'ss?\n",
            "  how croms to beart conpore theete hind onseat,\n",
            "  dast thou most in mine own enot i old,\n",
            "  that yot crost did"
          ],
          "name": "stdout"
        },
        {
          "output_type": "stream",
          "text": [
            " to the both greasess,\n",
            "  that in throst from thought allvence than masse dong,\n",
            "  beainty ol, some ruth hhame byst madted,\n",
            "  i windot whire, nor more, i that the porred,\n",
            "  and with trutt end' \n",
            "----- diversity: 1.2\n",
            "----- Generating with seed: \" vulgar thief.  \n",
            "  thee have i not locke\"\n",
            " vulgar thief.  \n",
            "  thee have i not locked nombed thy thuskn from prise\n",
            "  that take here ret andest in thought,\n",
            "  bethereing thee, and seasenveemer of brigfbart, live,\n",
            "  is thisy i of eptare the belossevate?\n",
            "  th's have still makou si"
          ],
          "name": "stdout"
        },
        {
          "output_type": "stream",
          "text": [
            "nce sosh grown.\n",
            "  and safmer, thy deconge to con-taick pare?\n",
            "  verrincedge deathcusgy are and thes.\n",
            "  y idlich and more i crost where braes.\n",
            "  that thou behoant' thuehur meret aswaien,\n",
            "  what weatite usvatio\n",
            "Epoch 9/60\n",
            "32384/34300 [===========================>..] - ETA: 1s - loss: 1.2165"
          ],
          "name": "stdout"
        },
        {
          "output_type": "stream",
          "text": [
            "34300/34300 [==============================] - 28s 816us/step - loss: 1.2174\n",
            "\n",
            "----- Generating text after Epoch: 8\n",
            "----- diversity: 0.2\n",
            "----- Generating with seed: \"lofty towers i see down-rased,\n",
            "  and bra\"\n",
            "lofty towers i see down-rased,\n",
            "  and brans and lively love that in had in more thee.\n",
            "    there be not that i so my love the world and the wart.\n",
            "\n",
            "\n",
            "                     68\n",
            "  with the world with the warth of the sead,\n",
            "    the world in the warth of the warte thee.\n",
            "    the world so should not in the wire"
          ],
          "name": "stdout"
        },
        {
          "output_type": "stream",
          "text": [
            ",  \n",
            "  the wite that i seems thy self the world with the warth stould the wintured,\n",
            "  that in the soul of the warth of my love,\n",
            "  and so the \n",
            "----- diversity: 0.5\n",
            "----- Generating with seed: \"lofty towers i see down-rased,\n",
            "  and bra\"\n",
            "lofty towers i see down-rased,\n",
            "  and braven of the warth of stord that in heart\n",
            "  to have rease the of stee\n",
            "  for my self and mend,\n",
            "  of their ows that meres art that the world shall the wartest still lost,\n",
            "  when the make the warth where to the took,\n",
            "    then i stoom a"
          ],
          "name": "stdout"
        },
        {
          "output_type": "stream",
          "text": [
            "nd the tor my love the of intert,\n",
            "    i storling the world of my soloub,\n",
            "  that have destrition of self now love spild.\n",
            "\n",
            "\n",
            "                     48\n",
            "  with i not thy self to\n",
            "----- diversity: 1.0\n",
            "----- Generating with seed: \"lofty towers i see down-rased,\n",
            "  and bra\"\n",
            "lofty towers i see down-rased,\n",
            "  and brans and mot the thy facour doth those ol'st ortalisent,\n",
            "  and sciding dietlasprasss of meless worth his lins.\n",
            "    of my love should by and proatite can all.\n",
            "\n",
            "\n",
            "                     44\n",
            "  to mere ney sswel state "
          ],
          "name": "stdout"
        },
        {
          "output_type": "stream",
          "text": [
            "stould hath more,\n",
            "  and your surprie de and by confouming night.\n",
            "\n",
            "\n",
            "                    s7 is give stow fun's all her of your glade,\n",
            "  why farth or she tor that doth tite as farend.\n",
            "\n",
            "\n",
            "         \n",
            "----- diversity: 1.2\n",
            "----- Generating with seed: \"lofty towers i see down-rased,\n",
            "  and bra\"\n",
            "lofty towers i see down-rased,\n",
            "  and brature despich your self andived,\n",
            "  t.\n",
            "\n",
            "\n",
            "                   g2\n",
            "  with the polour fury with be still should,\n",
            "    ander-speir fortuth. and faching than u somes,\n",
            "  'epsssad preasy dest my destlens "
          ],
          "name": "stdout"
        },
        {
          "output_type": "stream",
          "text": [
            "forch sournt,\n",
            "  for the sage do i is kind,\n",
            "  proses, mutiol wrily to wear this respited,\n",
            "  or ollesses of a am out:\n",
            "  intiles of lifpid and ispyon,\n",
            "  to thereshout:  \n",
            "    ney all beauty's me self   ghows are \n",
            "Epoch 10/60\n",
            "32000/34300 [==========================>...]"
          ],
          "name": "stdout"
        },
        {
          "output_type": "stream",
          "text": [
            "34300/34300 [==============================] - 28s 819us/step - loss: 1.1728\n",
            "\n",
            "----- Generating text after Epoch: 9\n",
            "----- diversity: 0.2\n",
            "----- Generating with seed: \"despite of wrinkles this thy golden time\"\n",
            "despite of wrinkles this thy golden time,\n",
            "  which thou mist trut the spere the trove,\n",
            "  and the world with the true, i see be.\n",
            "\n",
            "\n",
            "                      14(\n",
            "  thy proves thy self and deather with thee.\n",
            "    then the world and death the speed with more.\n",
            "\n",
            "\n",
            "                     137\n",
            "  thy sweet show i say t"
          ],
          "name": "stdout"
        },
        {
          "output_type": "stream",
          "text": [
            "hat i  my love thee,\n",
            "    then the strive, and the self and prive,\n",
            "  which thy self and the world and the trond,\n",
            "  when i speint thy self an\n",
            "----- diversity: 0.5\n",
            "----- Generating with seed: \"despite of wrinkles this thy golden time\"\n",
            "despite of wrinkles this thy golden time.\n",
            "    you would in their thess bectiess to thee,\n",
            "    the sinst the scans on the werting are doth die,\n",
            "  thy sweetst the straise assall the warth call the spend,\n",
            "  and my self and the warth of thy self grief the still\n",
            "  with this th"
          ],
          "name": "stdout"
        },
        {
          "output_type": "stream",
          "text": [
            "is out all indect all truth.  \n",
            "  and the world with thy prove him by his,\n",
            "  the shall what when a womat beauted entice will,\n",
            "  when the trove the heart i sweet enow thee\n",
            "----- diversity: 1.0\n",
            "----- Generating with seed: \"despite of wrinkles this thy golden time\"\n",
            "despite of wrinkles this thy golden time\n",
            "  or unm one thee, one had my versed,\n",
            "  or hand'now rums crue i the tould do ally,\n",
            "  with dut b'sick gase on forne towing heat.\n",
            "  to undand now but with bebothe deind's preporned,\n",
            "  in my romess's sage, your "
          ],
          "name": "stdout"
        },
        {
          "output_type": "stream",
          "text": [
            "must speecawing store,\n",
            "  the worth with burd, and donn's rasse,\n",
            "  when it deat dwald beauty's fast whont,\n",
            "  but diad shalt thon that eactimbore out-lise,\n",
            "  in minturres love, you had what as \n",
            "----- diversity: 1.2\n",
            "----- Generating with seed: \"despite of wrinkles this thy golden time\"\n",
            "despite of wrinkles this thy golden time,\n",
            "  when it thy hartecs loves, bnine this oye,\n",
            "  as hime, and sharred with the gree it,\n",
            "  thy virtum ouss muct ro shee old in thyiriving ligged,\n",
            "  as old thy dechedes cola dreom ass,\n",
            "  and and "
          ],
          "name": "stdout"
        },
        {
          "output_type": "stream",
          "text": [
            "you handured to much ridit thou beart.\n",
            "\n",
            "\n",
            "           h         82\n",
            "  grilatest pove, thy could be find fast,\n",
            "  but the sun\n",
            "  y alfinds that then hell'st,\n",
            "  tillswerse finds colfensoous in chood,\n",
            "  crove) thest\n",
            "Epoch 11/60\n",
            "33024/34300 [===========================>..] - ETA: 1s - loss: 1.1326"
          ],
          "name": "stdout"
        },
        {
          "output_type": "stream",
          "text": [
            "34300/34300 [==============================] - 28s 812us/step - loss: 1.1339\n",
            "\n",
            "----- Generating text after Epoch: 10\n",
            "----- diversity: 0.2\n",
            "----- Generating with seed: \"f faults concealed, wherein i am attaint\"\n",
            "f faults concealed, wherein i am attaint.\n",
            "\n",
            "\n",
            "                     114\n",
            "  whom thy rower thy sunger the surmer's priend,\n",
            "  which not thy self and reaven to the days.\n",
            "  and deaded not thou beauty to be so but,\n",
            "  with with thy self and deathed sight,\n",
            "  which a will be brind on the self to me.\n",
            "\n",
            "\n",
            "          "
          ],
          "name": "stdout"
        },
        {
          "output_type": "stream",
          "text": [
            "           141\n",
            "  thou be sporn to be sun a tomber the warts and counger,\n",
            "  that beauty with thy part a wist thy love,\n",
            "  though indess thy p\n",
            "----- diversity: 0.5\n",
            "----- Generating with seed: \"f faults concealed, wherein i am attaint\"\n",
            "f faults concealed, wherein i am attaint.\n",
            "\n",
            "\n",
            "                     114\n",
            "  whilst thou my sen of thy brawing to me.\n",
            "\n",
            "\n",
            "                     140\n",
            "  gen to age that winter a love thee grow.\n",
            "  the thou still a day with thy power to the brank,\n",
            "  whot it me with thy love thy rowand"
          ],
          "name": "stdout"
        },
        {
          "output_type": "stream",
          "text": [
            " deceasest,\n",
            "  and my me but thy love to thou worth's bearts,\n",
            "    thou mayst thy rack up rong seembressed,\n",
            "  that countent the varty with thy love brow,\n",
            "  the change of t\n",
            "----- diversity: 1.0\n",
            "----- Generating with seed: \"f faults concealed, wherein i am attaint\"\n",
            "f faults concealed, wherein i am attaint,\n",
            "    if art thy grace with new-loesuse that you look,\n",
            "  but you so, with thy faysh distent's chee,\n",
            "  and such to be be thy wour seather sagt,\n",
            "  it there after me subthing mine ort the spild.\n",
            "\n",
            "\n",
            "               "
          ],
          "name": "stdout"
        },
        {
          "output_type": "stream",
          "text": [
            "      46  \n",
            "  'gou thy rids as me than and will that brank,\n",
            "  of not to fan trouck ow hell, that i :\n",
            "  when it, chees do all meny decorrypatied's probe.\n",
            "  he what st he gays a cospar preist to\n",
            "----- diversity: 1.2\n",
            "----- Generating with seed: \"f faults concealed, wherein i am attaint\"\n",
            "f faults concealed, wherein i am attaints.\n",
            "\n",
            "                      1o\n",
            "  whow yet toubst on want ponce doirgvihe tonges.\n",
            "\n",
            "\n",
            "                     27\n",
            "  desting that thyost out assw issmauced diswayse thus invends,\n",
            "  to winsly sins arinimb"
          ],
          "name": "stdout"
        },
        {
          "output_type": "stream",
          "text": [
            "7rant rimbl hack blinftsrews acc part,\n",
            "  when thot his give seemy thet speckil i doth,\n",
            "  in i mire is not bassage of nesuripaged,\n",
            "  and my all thou pefract duy bay stoul:\n",
            "    then in hainst up foessance mada\n",
            "Epoch 12/60\n",
            "32640/34300 [===========================>..] - ETA: 1s - loss: 1.1094"
          ],
          "name": "stdout"
        },
        {
          "output_type": "stream",
          "text": [
            "34300/34300 [==============================] - 28s 815us/step - loss: 1.1094\n",
            "\n",
            "----- Generating text after Epoch: 11\n",
            "----- diversity: 0.2\n",
            "----- Generating with seed: \"en give me welcome, next my heaven the b\"\n",
            "en give me welcome, next my heaven the bring,\n",
            "    that thou thought that think on thee would to show you,\n",
            "  and that thou mayst the pray of the sporn,\n",
            "  that thou my self and praise another sun,\n",
            "  that thou mayst the pray of say worth my self somet.\n",
            "\n",
            "\n",
            "                     148\n",
            "  thou worth shand i no"
          ],
          "name": "stdout"
        },
        {
          "output_type": "stream",
          "text": [
            "t fan the wintured such storn,\n",
            "  which to thy self a love that thou good,\n",
            "    that thou both so though still the scorn,\n",
            "  who lost that this\n",
            "----- diversity: 0.5\n",
            "----- Generating with seed: \"en give me welcome, next my heaven the b\"\n",
            "en give me welcome, next my heaven the bringht to me uss\n",
            "  that i show gin.\n",
            "\n",
            "\n",
            "                   14\n",
            "    ' your slanse he contang summer's speme,\n",
            "  what storant more than even dear sorr wart,\n",
            "  and and i do shall som thy shope and reparion,\n",
            "  and reaven haply sweers, and"
          ],
          "name": "stdout"
        },
        {
          "output_type": "stream",
          "text": [
            " cheeks extirn skill no my coll,\n",
            "  and simpluses of then like that thou goslest\n",
            "  where i tounder's serieving in the dort still stant,\n",
            "  who long such my selfor thinks si\n",
            "----- diversity: 1.0\n",
            "----- Generating with seed: \"en give me welcome, next my heaven the b\"\n",
            "en give me welcome, next my heaven the blessured die,\n",
            "  you love's mused in thriss as trome of bearts.\n",
            "  is from him that i nouch mount then in mine.\n",
            "    and those worth ow sees used add love's skill's nea,\n",
            "  nor pale o, fause your self recounti ng"
          ],
          "name": "stdout"
        },
        {
          "output_type": "stream",
          "text": [
            "ing,\n",
            "  for life by he try bave up to white, whow hend,\n",
            "  that my sour's up can delay so sterigh to deengen,\n",
            "  crong in then i not buring ow doth prome,\n",
            "    for seeding bire eows i tay than i l\n",
            "----- diversity: 1.2\n",
            "----- Generating with seed: \"en give me welcome, next my heaven the b\"\n",
            "en give me welcome, next my heaven the breadh, light in make,\n",
            "  sust you gide mainse he musterrels of seaseliget,\n",
            "  that i hall you hand erporteous be ilave,\n",
            "  tratlin, erry usen mine eye trink nike,\n",
            "  when tht fairs thy persted hap"
          ],
          "name": "stdout"
        },
        {
          "output_type": "stream",
          "text": [
            "t they fast\n",
            "  gardiotring alasil motry, that can the o, well fead\n",
            "  in eiven aftal of men woe,\n",
            "  recreaiing survassce of their spock,\n",
            "    mo 'his bgersers more, of to lands aft ccime's roly lied,\n",
            "    that cor\n",
            "Epoch 13/60\n",
            "32128/34300 [===========================>..] - ETA: 1s - loss: 1.0741"
          ],
          "name": "stdout"
        },
        {
          "output_type": "stream",
          "text": [
            "34300/34300 [==============================] - 28s 816us/step - loss: 1.0792\n",
            "\n",
            "----- Generating text after Epoch: 12\n",
            "----- diversity: 0.2\n",
            "----- Generating with seed: \" all the better part of me?\n",
            "  what can m\"\n",
            " all the better part of me?\n",
            "  what can my poes of thee,\n",
            "  than when i am the old the praysed prigs:\n",
            "  the world and the shoul sweet this beaute.\n",
            "    therefore that this heart that this heart,\n",
            "  that this heart thou had when i am all head,\n",
            "    that this heart thou had all these world,\n",
            "  than than i a"
          ],
          "name": "stdout"
        },
        {
          "output_type": "stream",
          "text": [
            "m, thou hast thy poise of stant\n",
            "  and deaded shall to with thy love thee,\n",
            "    that which to be strear our the should would be.\n",
            "\n",
            "\n",
            "           \n",
            "----- diversity: 0.5\n",
            "----- Generating with seed: \" all the better part of me?\n",
            "  what can m\"\n",
            " all the better part of me?\n",
            "  what can mine eye is may will bood,\n",
            "  to nave thou whot his gold is mine to thee,\n",
            "    that she would to still with thee and the store,\n",
            "  the sweet with with thee say wheme reame,\n",
            "  and thee to pave thee mine own his shall of life,\n",
            "    but th"
          ],
          "name": "stdout"
        },
        {
          "output_type": "stream",
          "text": [
            "e thoul to beausy and show or my heart\n",
            "  and ah the would with the blearted days.\n",
            "  the row i with my self beauty shall gre\n",
            "  to be stering true,\n",
            "  or if thy reambs hath\n",
            "----- diversity: 1.0\n",
            "----- Generating with seed: \" all the better part of me?\n",
            "  what can m\"\n",
            " all the better part of me?\n",
            "  what can my love?\n",
            "  creak this pole show astarslows even wheme,\n",
            "    where ol lover's well-on thy heawt it,\n",
            "  wherefort thy whow i am all did pirge:\n",
            "  the look y ve, is for hit dither's wite,\n",
            "  was ip sceeping buink of a"
          ],
          "name": "stdout"
        },
        {
          "output_type": "stream",
          "text": [
            "ll and thy woun,\n",
            "  and ry pais, (priste to weir, folteny,\n",
            "  in his wank and prive thy hele unwron of healt:\n",
            "    theul true, but then legs usmoy with spend,\n",
            "  and with but first, and thy heart\n",
            "----- diversity: 1.2\n",
            "----- Generating with seed: \" all the better part of me?\n",
            "  what can m\"\n",
            " all the better part of me?\n",
            "  what can mine eye pity worldopsot plf it,\n",
            "    kisees wolts is of buds with weep and dornes.\n",
            "\n",
            "\n",
            "                     1\n",
            "  age oss 'fritter every dost kimst oftears,\n",
            "  with thou dost tougher 'eavily.\n",
            "  o but"
          ],
          "name": "stdout"
        },
        {
          "output_type": "stream",
          "text": [
            " thy sweet proud ushance was tumber,\n",
            "  from you lable what death, ills, and right surpyils their my nake,\n",
            "  and theecher is gors your spatce wast,\n",
            "  mad with take mine eye is morroking dis it,\n",
            "  corthing ass\n",
            "Epoch 14/60\n",
            "32640/34300 [===========================>..] - ETA: 1s - loss: 1.0591"
          ],
          "name": "stdout"
        },
        {
          "output_type": "stream",
          "text": [
            "34300/34300 [==============================] - 28s 818us/step - loss: 1.0598\n",
            "\n",
            "----- Generating text after Epoch: 13\n",
            "----- diversity: 0.2\n",
            "----- Generating with seed: \" the age to come would say this poet lie\"\n",
            " the age to come would say this poet lies,\n",
            "  and shall be fairer and steeposed shall know,\n",
            "  that beauted the world within this beauted shall\n",
            "    then thin the score the scond to the trupake,\n",
            "  which contented and beauty to bearty,\n",
            "  which strength my soul deather suched stend,\n",
            "  which st farth shou"
          ],
          "name": "stdout"
        },
        {
          "output_type": "stream",
          "text": [
            "ld and the winter are wond,\n",
            "  that in their heaven tonge confulled dis ve,\n",
            "  and the worth my soll the world shall live,\n",
            "  that brestted fac\n",
            "----- diversity: 0.5\n",
            "----- Generating with seed: \" the age to come would say this poet lie\"\n",
            " the age to come would say this poet lie,\n",
            "  of the offection's shall in my heaven,\n",
            "  and shall be my sin, and the offectors,\n",
            "    then in like thee like the trongretce will with thee in their days,\n",
            "  thy self the dest my some now with thee,\n",
            "  and dive true love thee and "
          ],
          "name": "stdout"
        },
        {
          "output_type": "stream",
          "text": [
            "thou this first compous,\n",
            "  as thee many lained strange thee worth shall ly sake,\n",
            "  that for my teur their used with dear steep.\n",
            "  and love the  buring the scon to the in \n",
            "----- diversity: 1.0\n",
            "----- Generating with seed: \" the age to come would say this poet lie\"\n",
            " the age to come would say this poet lies:\n",
            "  for have ren fulles, and a marth dead:\n",
            "    for weathow estambed and yid in thee ind,\n",
            "  and suever a be, their hade, but then thine old, iplere?\n",
            "    therethright weir aups thee as maintu\n",
            "  from thee, nor "
          ],
          "name": "stdout"
        },
        {
          "output_type": "stream",
          "text": [
            "deed mine one wond,\n",
            "  croulding brain beauty one drake weep,\n",
            "  and but then with neigh doth now in thisefee.\n",
            "\n",
            "\n",
            "                     14'\n",
            "  muct romoct thas be rony my frew,\n",
            "  nor then tor thoug\n",
            "----- diversity: 1.2\n",
            "----- Generating with seed: \" the age to come would say this poet lie\"\n",
            " the age to come would say this poet lies:\n",
            "  how if i bdack no widward winturest suchesods are day,\n",
            "  or faccitumarin may in age ne'et suste,\n",
            "  diplacked to hiness dookn pleastf twand,\n",
            "  home sweet restares to be sunter sulf by tong"
          ],
          "name": "stdout"
        },
        {
          "output_type": "stream",
          "text": [
            "uingt,\n",
            "  to rud yet the ?real, be  \n",
            "  trurigh chas mirouss contence of redingd,\n",
            "  which diide, and forwall the they ley,\n",
            "  for beso'grive he day on decoin,\n",
            "  sfrong hath their when they alare adast of thint l\n",
            "Epoch 15/60\n",
            "31488/34300 [==========================>...] - ETA: 2s - loss: 1.0337"
          ],
          "name": "stdout"
        },
        {
          "output_type": "stream",
          "text": [
            "34300/34300 [==============================] - 28s 820us/step - loss: 1.0384\n",
            "\n",
            "----- Generating text after Epoch: 14\n",
            "----- diversity: 0.2\n",
            "----- Generating with seed: \"ines to time thou grow'st,\n",
            "    so long a\"\n",
            "ines to time thou grow'st,\n",
            "    so long a with the world with the truen,\n",
            "  when i sended and the fair when i send,\n",
            "  with that his cheed the truen and thee,\n",
            "    and then thou bothen of the would and look in thee,\n",
            "    and the faire have the world with thy heart,\n",
            "  and the worth and the would's fair w"
          ],
          "name": "stdout"
        },
        {
          "output_type": "stream",
          "text": [
            "hen respite,\n",
            "  when i famfthed beauty and the say,\n",
            "  when i sweet speck in their forture thee,\n",
            "    that comess the world with thy heart all t\n",
            "----- diversity: 0.5\n",
            "----- Generating with seed: \"ines to time thou grow'st,\n",
            "    so long a\"\n",
            "ines to time thou grow'st,\n",
            "    so long a can that thou bothen and for the willing thy will.\n",
            "\n",
            "\n",
            "                     46  \n",
            "  that be and thee thy sight is well may stell,\n",
            "  when i found the bely dut 'st to beart,\n",
            "  and shall not the speed me thee in suchy,\n",
            "  when you show "
          ],
          "name": "stdout"
        },
        {
          "output_type": "stream",
          "text": [
            "up a from ort) and with thou gove,\n",
            "  that the faire have that his garped it make,\n",
            "  when i sempy the would me behow,\n",
            "  when i havows thy love, that in their fear,\n",
            "    the\n",
            "----- diversity: 1.0\n",
            "----- Generating with seed: \"ines to time thou grow'st,\n",
            "    so long a\"\n",
            "ines to time thou grow'st,\n",
            "    so long are thy thoublain, nor storn of blook,\n",
            "  she sweet speed me the offecy art,\n",
            "  sorr tow? y usking shall b a nother wrime,\n",
            "  and my all thou behears and pladida and respent,\n",
            "  wast nothfuch from his beain  themp"
          ],
          "name": "stdout"
        },
        {
          "output_type": "stream",
          "text": [
            "oin .\n",
            "\n",
            "\n",
            "                     9each of the hears in your farth my can sead,\n",
            "  to she, and rise live so bathy speme but grace,\n",
            "  when to wind, but the look me winted wond,\n",
            "  than ushytore make w\n",
            "----- diversity: 1.2\n",
            "----- Generating with seed: \"ines to time thou grow'st,\n",
            "    so long a\"\n",
            "ines to time thou grow'st,\n",
            "    so long are phading the bravery vainterne.\n",
            "  whom that she is mides to fenswalin benow,\n",
            "  your suptery) the moth can deaothes.\n",
            "  for but wert doth that thou calls, gen \n",
            "  a leave that his cheer,\n",
            "  of s"
          ],
          "name": "stdout"
        },
        {
          "output_type": "stream",
          "text": [
            "hame splate nimmery dedied to kindward,\n",
            "  whoich thy lended of hembeal  fauty take's lin,\n",
            "  and true will, noin poment but birds whome by anreace,\n",
            "  the uslieve take and heart tame, storn'st,\n",
            "  when of memper\n",
            "Epoch 16/60\n",
            "32000/34300 [==========================>...] - ETA: 1s - loss: 1.0117"
          ],
          "name": "stdout"
        },
        {
          "output_type": "stream",
          "text": [
            "34300/34300 [==============================] - 28s 818us/step - loss: 1.0177\n",
            "\n",
            "----- Generating text after Epoch: 15\n",
            "----- diversity: 0.2\n",
            "----- Generating with seed: \"e with my moan.  \n",
            "    receiving nought b\"\n",
            "e with my moan.  \n",
            "    receiving nought by thy prause when i thee,\n",
            "  that this here thy proud thee in this far from you,\n",
            "  that the true, i destrine of the wind\n",
            "  of this beauty th"
          ],
          "name": "stdout"
        }
      ]
    },
    {
      "metadata": {
        "id": "I2LK8st0Pip8",
        "colab_type": "code",
        "colab": {}
      },
      "cell_type": "code",
      "source": [
        ""
      ],
      "execution_count": 0,
      "outputs": []
    },
    {
      "metadata": {
        "id": "3w22IthkPiwu",
        "colab_type": "code",
        "colab": {}
      },
      "cell_type": "code",
      "source": [
        ""
      ],
      "execution_count": 0,
      "outputs": []
    }
  ]
}