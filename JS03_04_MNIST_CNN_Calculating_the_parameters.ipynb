{
  "nbformat": 4,
  "nbformat_minor": 0,
  "metadata": {
    "colab": {
      "name": "JS03-04 MNIST CNN - Calculating the parameters.ipynb",
      "version": "0.3.2",
      "provenance": [],
      "collapsed_sections": [],
      "include_colab_link": true
    },
    "kernelspec": {
      "display_name": "Python 3",
      "language": "python",
      "name": "python3"
    },
    "accelerator": "GPU"
  },
  "cells": [
    {
      "cell_type": "markdown",
      "metadata": {
        "id": "view-in-github",
        "colab_type": "text"
      },
      "source": [
        "[View in Colaboratory](https://colab.research.google.com/github/peaelle42/DNN_jump_start/blob/master/JS03_04_MNIST_CNN_Calculating_the_parameters.ipynb)"
      ]
    },
    {
      "metadata": {
        "id": "m591QDclO9GB",
        "colab_type": "text"
      },
      "cell_type": "markdown",
      "source": [
        "## Testing for GPU\n",
        "\n",
        "To Test if you have GPU set up\n",
        "\n",
        "Run the Cell below\n",
        "\n",
        "if no GPU is found press Runtime (in the menu at the top) and choose \"Change Runtime Type\" to GPU\n",
        " "
      ]
    },
    {
      "metadata": {
        "id": "b53KVvNZO-P1",
        "colab_type": "code",
        "colab": {
          "base_uri": "https://localhost:8080/",
          "height": 34
        },
        "outputId": "0da98676-39ba-495e-b5f6-29fcaf48bc7b"
      },
      "cell_type": "code",
      "source": [
        "import tensorflow as tf\n",
        "device_name = tf.test.gpu_device_name()\n",
        "if device_name != '/device:GPU:0':\n",
        "  raise SystemError('GPU device not found')\n",
        "print('Found GPU at: {}'.format(device_name))"
      ],
      "execution_count": 2,
      "outputs": [
        {
          "output_type": "stream",
          "text": [
            "Found GPU at: /device:GPU:0\n"
          ],
          "name": "stdout"
        }
      ]
    },
    {
      "metadata": {
        "id": "15i_owYxCdBZ",
        "colab_type": "text"
      },
      "cell_type": "markdown",
      "source": [
        "### First we need to download the dependencies\n"
      ]
    },
    {
      "metadata": {
        "id": "2Yuzxep2pJvp",
        "colab_type": "code",
        "colab": {
          "base_uri": "https://localhost:8080/",
          "height": 101
        },
        "outputId": "df52605f-1855-4229-e63b-6dcd8e97ffac"
      },
      "cell_type": "code",
      "source": [
        "!rm sutils.py\n",
        "!rm gdrive.py\n",
        "!rm notebook1.zip.1\n",
        "!ls"
      ],
      "execution_count": 3,
      "outputs": [
        {
          "output_type": "stream",
          "text": [
            "rm: cannot remove 'sutils.py': No such file or directory\n",
            "rm: cannot remove 'gdrive.py': No such file or directory\n",
            "rm: cannot remove 'notebook1.zip.1': No such file or directory\n",
            "datalab        diagram3c.gif  diagram5g.png  imdb_data\t    solutions\n",
            "diagram12.gif  diagram4f.png  diagram6d.png  notebook1.zip\n"
          ],
          "name": "stdout"
        }
      ]
    },
    {
      "metadata": {
        "id": "a9xsRB0UCi0E",
        "colab_type": "code",
        "colab": {
          "base_uri": "https://localhost:8080/",
          "height": 67
        },
        "outputId": "d31ae9d8-47fa-4df8-9cfc-6034671204e4"
      },
      "cell_type": "code",
      "source": [
        "!wget -qq https://www.dropbox.com/s/vj61417lofjebju/utils.zip\n",
        "\n",
        "\n",
        "!unzip -qq utils.zip\n",
        "!rm utils.zip\n",
        "!rm -r __MACOSX\n",
        "\n",
        "!ls\n"
      ],
      "execution_count": 4,
      "outputs": [
        {
          "output_type": "stream",
          "text": [
            "datalab        diagram4f.png  gdrive.py      solutions\r\n",
            "diagram12.gif  diagram5g.png  imdb_data      sutils.py\r\n",
            "diagram3c.gif  diagram6d.png  notebook1.zip\r\n"
          ],
          "name": "stdout"
        }
      ]
    },
    {
      "metadata": {
        "id": "Eq0Ih4qUOPP4",
        "colab_type": "code",
        "colab": {
          "base_uri": "https://localhost:8080/",
          "height": 67
        },
        "outputId": "9b786b6c-ec98-4ba7-c335-89a2e674b592"
      },
      "cell_type": "code",
      "source": [
        "!ls"
      ],
      "execution_count": 5,
      "outputs": [
        {
          "output_type": "stream",
          "text": [
            "datalab        diagram4f.png  gdrive.py      solutions\r\n",
            "diagram12.gif  diagram5g.png  imdb_data      sutils.py\r\n",
            "diagram3c.gif  diagram6d.png  notebook1.zip\r\n"
          ],
          "name": "stdout"
        }
      ]
    },
    {
      "metadata": {
        "id": "IkInJCni-ztR",
        "colab_type": "code",
        "colab": {
          "base_uri": "https://localhost:8080/",
          "height": 34
        },
        "outputId": "3d6da176-1956-4be9-f9b9-182af86bc5c9"
      },
      "cell_type": "code",
      "source": [
        "%matplotlib inline\n",
        "from sutils import *\n",
        "import os, json\n",
        "from glob import glob\n",
        "\n",
        "import tensorflow.python.keras\n",
        "from tensorflow.python.keras.datasets import mnist\n",
        "from tensorflow.python.keras.models import Sequential, Model\n",
        "from tensorflow.python.keras.layers import Dense, Dropout, Flatten,Input\n",
        "from tensorflow.python.keras.layers import Conv2D, MaxPooling2D\n",
        "from tensorflow.python.keras import backend as K"
      ],
      "execution_count": 6,
      "outputs": [
        {
          "output_type": "stream",
          "text": [
            "Using TensorFlow backend.\n"
          ],
          "name": "stderr"
        }
      ]
    },
    {
      "metadata": {
        "id": "7skCjOw_-ztX",
        "colab_type": "code",
        "colab": {}
      },
      "cell_type": "code",
      "source": [
        "limit_gpu_mem()"
      ],
      "execution_count": 0,
      "outputs": []
    },
    {
      "metadata": {
        "id": "zcRymPhw-ztZ",
        "colab_type": "code",
        "colab": {}
      },
      "cell_type": "code",
      "source": [
        "batch_size = 128\n",
        "num_classes = 10\n",
        "epochs = 10\n",
        "\n",
        "# input image dimensions\n",
        "img_rows, img_cols = 28, 28"
      ],
      "execution_count": 0,
      "outputs": []
    },
    {
      "metadata": {
        "id": "SeHMP4y3-ztc",
        "colab_type": "code",
        "colab": {}
      },
      "cell_type": "code",
      "source": [
        "# the data, shuffled and split between train and test sets\n",
        "(x_train, y_train), (x_test, y_test) = mnist.load_data()"
      ],
      "execution_count": 0,
      "outputs": []
    },
    {
      "metadata": {
        "id": "VBHccR7W-ztf",
        "colab_type": "code",
        "colab": {}
      },
      "cell_type": "code",
      "source": [
        "\n",
        "x_train = x_train.reshape(x_train.shape[0], img_rows, img_cols, 1)\n",
        "x_test = x_test.reshape(x_test.shape[0], img_rows, img_cols, 1)\n",
        "input_shape = (img_rows, img_cols, 1)"
      ],
      "execution_count": 0,
      "outputs": []
    },
    {
      "metadata": {
        "id": "ONu5TERg-zth",
        "colab_type": "code",
        "colab": {
          "base_uri": "https://localhost:8080/",
          "height": 34
        },
        "outputId": "e493dbae-ca04-480a-bbbf-935af10153a4"
      },
      "cell_type": "code",
      "source": [
        "input_shape"
      ],
      "execution_count": 11,
      "outputs": [
        {
          "output_type": "execute_result",
          "data": {
            "text/plain": [
              "(28, 28, 1)"
            ]
          },
          "metadata": {
            "tags": []
          },
          "execution_count": 11
        }
      ]
    },
    {
      "metadata": {
        "id": "wfNUdmO2-ztk",
        "colab_type": "code",
        "colab": {
          "base_uri": "https://localhost:8080/",
          "height": 67
        },
        "outputId": "291de8f5-5509-4fdc-d334-61a59cbe7152"
      },
      "cell_type": "code",
      "source": [
        "x_train = x_train.astype('float32')\n",
        "x_test = x_test.astype('float32')\n",
        "x_train /= 255\n",
        "x_test /= 255\n",
        "print('x_train shape:', x_train.shape)\n",
        "print(x_train.shape[0], 'train samples')\n",
        "print(x_test.shape[0], 'test samples')"
      ],
      "execution_count": 12,
      "outputs": [
        {
          "output_type": "stream",
          "text": [
            "x_train shape: (60000, 28, 28, 1)\n",
            "60000 train samples\n",
            "10000 test samples\n"
          ],
          "name": "stdout"
        }
      ]
    },
    {
      "metadata": {
        "id": "kI7QqQDd-zto",
        "colab_type": "code",
        "colab": {}
      },
      "cell_type": "code",
      "source": [
        "# convert class vectors to binary class matrices\n",
        "y_train = tf.keras.utils.to_categorical(y_train, num_classes)\n",
        "y_test = tf.keras.utils.to_categorical(y_test, num_classes)"
      ],
      "execution_count": 0,
      "outputs": []
    },
    {
      "metadata": {
        "id": "TmTFC_N4-ztq",
        "colab_type": "code",
        "colab": {}
      },
      "cell_type": "code",
      "source": [
        "Inp=Input(shape=input_shape)\n",
        "x = Conv2D(32, kernel_size=(3, 3), activation='relu',name = 'Conv_01')(Inp)\n",
        "x = Conv2D(64, (3, 3), activation='relu',name = 'Conv_02')(x)\n",
        "x = MaxPooling2D(pool_size=(2, 2),name = 'MaxPool_01')(x)\n",
        "x = Dropout(0.25,name = 'Dropout_01')(x)\n",
        "x = Flatten(name = 'Flatten_01')(x)\n",
        "x = Dense(128, activation='relu',name = 'Dense_01')(x)\n",
        "x = Dropout(0.5,name = 'Dropout_02')(x)\n",
        "output = Dense(num_classes, activation='softmax',name = 'Dense_02')(x)"
      ],
      "execution_count": 0,
      "outputs": []
    },
    {
      "metadata": {
        "id": "XbUJqvKZ-zts",
        "colab_type": "code",
        "colab": {}
      },
      "cell_type": "code",
      "source": [
        "model = Model(Inp,output)"
      ],
      "execution_count": 0,
      "outputs": []
    },
    {
      "metadata": {
        "id": "UiVQ462q-ztv",
        "colab_type": "text"
      },
      "cell_type": "markdown",
      "source": [
        "## Calculating the number of parameters for Convolution Networks\n",
        "\n",
        "Formula is (filters x (kernel_height x kernel_width) x inputs) 1 x filters = parameters\n",
        "\n",
        "Conv_01 = 32 Filters , 3x3 Kernel = (32 x (3x3) x 1 input) + 1bias x filters = 320 parameters  \n",
        "Conv_02 = 64 Filters , 3x3 Kernel = (64 x (3x3) x 32 inputs) + 1bias x filters = 18496 parameters \n",
        "\n",
        "Dense_1 = (9216 inputs * 128 units)+ 128 bias = 1,179,776  \n",
        "Dense_2 = (128 inputs * 10 units) +10 bias = 1290\n"
      ]
    },
    {
      "metadata": {
        "id": "L0YZoQfX-ztv",
        "colab_type": "code",
        "colab": {
          "base_uri": "https://localhost:8080/",
          "height": 437
        },
        "outputId": "b59c6d1b-2f54-4c76-c5bf-0dfa2c0e471b"
      },
      "cell_type": "code",
      "source": [
        "model.summary()"
      ],
      "execution_count": 16,
      "outputs": [
        {
          "output_type": "stream",
          "text": [
            "_________________________________________________________________\n",
            "Layer (type)                 Output Shape              Param #   \n",
            "=================================================================\n",
            "input_1 (InputLayer)         (None, 28, 28, 1)         0         \n",
            "_________________________________________________________________\n",
            "Conv_01 (Conv2D)             (None, 26, 26, 32)        320       \n",
            "_________________________________________________________________\n",
            "Conv_02 (Conv2D)             (None, 24, 24, 64)        18496     \n",
            "_________________________________________________________________\n",
            "MaxPool_01 (MaxPooling2D)    (None, 12, 12, 64)        0         \n",
            "_________________________________________________________________\n",
            "Dropout_01 (Dropout)         (None, 12, 12, 64)        0         \n",
            "_________________________________________________________________\n",
            "Flatten_01 (Flatten)         (None, 9216)              0         \n",
            "_________________________________________________________________\n",
            "Dense_01 (Dense)             (None, 128)               1179776   \n",
            "_________________________________________________________________\n",
            "Dropout_02 (Dropout)         (None, 128)               0         \n",
            "_________________________________________________________________\n",
            "Dense_02 (Dense)             (None, 10)                1290      \n",
            "=================================================================\n",
            "Total params: 1,199,882\n",
            "Trainable params: 1,199,882\n",
            "Non-trainable params: 0\n",
            "_________________________________________________________________\n"
          ],
          "name": "stdout"
        }
      ]
    },
    {
      "metadata": {
        "id": "Vx7VoO7B-zty",
        "colab_type": "code",
        "colab": {}
      },
      "cell_type": "code",
      "source": [
        "model.compile(loss=tf.keras.losses.categorical_crossentropy,\n",
        "              optimizer=tf.keras.optimizers.Adadelta(),\n",
        "              metrics=['accuracy'])"
      ],
      "execution_count": 0,
      "outputs": []
    },
    {
      "metadata": {
        "id": "hkHMwyVy-zt1",
        "colab_type": "code",
        "colab": {
          "base_uri": "https://localhost:8080/",
          "height": 390
        },
        "outputId": "80715044-09f5-4a9c-a182-df5e39518e48"
      },
      "cell_type": "code",
      "source": [
        "hist = model.fit(x_train, y_train,\n",
        "          batch_size=batch_size,\n",
        "          epochs=epochs,\n",
        "          verbose=1,\n",
        "          callbacks = None,\n",
        "          validation_data=(x_test, y_test))"
      ],
      "execution_count": 18,
      "outputs": [
        {
          "output_type": "stream",
          "text": [
            "Train on 60000 samples, validate on 10000 samples\n",
            "Epoch 1/10\n",
            "60000/60000 [==============================] - 12s 202us/step - loss: 0.2696 - acc: 0.9175 - val_loss: 0.0582 - val_acc: 0.9816\n",
            "Epoch 2/10\n",
            "60000/60000 [==============================] - 11s 175us/step - loss: 0.0887 - acc: 0.9737 - val_loss: 0.0442 - val_acc: 0.9853\n",
            "Epoch 3/10\n",
            "26752/60000 [============>.................] - ETA: 5s - loss: 0.0696 - acc: 0.9799"
          ],
          "name": "stdout"
        },
        {
          "output_type": "stream",
          "text": [
            "60000/60000 [==============================] - 11s 178us/step - loss: 0.0666 - acc: 0.9802 - val_loss: 0.0378 - val_acc: 0.9868\n",
            "Epoch 4/10\n",
            "60000/60000 [==============================] - 11s 185us/step - loss: 0.0549 - acc: 0.9830 - val_loss: 0.0339 - val_acc: 0.9895\n",
            "Epoch 5/10\n",
            "51584/60000 [========================>.....] - ETA: 1s - loss: 0.0461 - acc: 0.9866"
          ],
          "name": "stdout"
        },
        {
          "output_type": "stream",
          "text": [
            "60000/60000 [==============================] - 11s 176us/step - loss: 0.0466 - acc: 0.9863 - val_loss: 0.0292 - val_acc: 0.9900\n",
            "Epoch 6/10\n",
            "60000/60000 [==============================] - 10s 173us/step - loss: 0.0409 - acc: 0.9878 - val_loss: 0.0307 - val_acc: 0.9893\n",
            "Epoch 7/10\n",
            "60000/60000 [==============================] - 10s 172us/step - loss: 0.0373 - acc: 0.9884 - val_loss: 0.0259 - val_acc: 0.9917\n",
            "Epoch 8/10\n",
            " 2432/60000 [>.............................] - ETA: 9s - loss: 0.0354 - acc: 0.9897"
          ],
          "name": "stdout"
        },
        {
          "output_type": "stream",
          "text": [
            "60000/60000 [==============================] - 10s 171us/step - loss: 0.0346 - acc: 0.9894 - val_loss: 0.0274 - val_acc: 0.9906\n",
            "Epoch 9/10\n",
            "60000/60000 [==============================] - 10s 167us/step - loss: 0.0328 - acc: 0.9901 - val_loss: 0.0274 - val_acc: 0.9915\n",
            "Epoch 10/10\n",
            "54912/60000 [==========================>...] - ETA: 0s - loss: 0.0303 - acc: 0.9910"
          ],
          "name": "stdout"
        },
        {
          "output_type": "stream",
          "text": [
            "60000/60000 [==============================] - 10s 167us/step - loss: 0.0311 - acc: 0.9908 - val_loss: 0.0263 - val_acc: 0.9913\n"
          ],
          "name": "stdout"
        }
      ]
    },
    {
      "metadata": {
        "id": "KtItdd4O-zt5",
        "colab_type": "code",
        "colab": {
          "base_uri": "https://localhost:8080/",
          "height": 294
        },
        "outputId": "64bc3613-40a6-4032-b575-6184494b6a29"
      },
      "cell_type": "code",
      "source": [
        "plot_train(hist)"
      ],
      "execution_count": 19,
      "outputs": [
        {
          "output_type": "display_data",
          "data": {
            "image/png": "[encoded data removed]",
            "text/plain": [
              "<matplotlib.figure.Figure at 0x7ff276c1eb38>"
            ]
          },
          "metadata": {
            "tags": []
          }
        }
      ]
    },
    {
      "metadata": {
        "id": "FYzhGga0-zt8",
        "colab_type": "code",
        "colab": {}
      },
      "cell_type": "code",
      "source": [
        "model.save_weights('basic_cnn.h5')"
      ],
      "execution_count": 0,
      "outputs": []
    },
    {
      "metadata": {
        "id": "biV6WGS4-zt-",
        "colab_type": "code",
        "colab": {}
      },
      "cell_type": "code",
      "source": [
        "model.save('mnist_cnn_model.h5')"
      ],
      "execution_count": 0,
      "outputs": []
    },
    {
      "metadata": {
        "id": "uGXUQ5sH-zuB",
        "colab_type": "code",
        "colab": {}
      },
      "cell_type": "code",
      "source": [
        "!ls"
      ],
      "execution_count": 0,
      "outputs": []
    },
    {
      "metadata": {
        "id": "TqDXeAg1P1j1",
        "colab_type": "code",
        "colab": {}
      },
      "cell_type": "code",
      "source": [
        "import gdrive"
      ],
      "execution_count": 0,
      "outputs": []
    },
    {
      "metadata": {
        "id": "R1NPdKroP1t-",
        "colab_type": "code",
        "colab": {
          "base_uri": "https://localhost:8080/",
          "height": 34
        },
        "outputId": "3ab0a635-5063-4748-c3d5-ad16f7ccc9a9"
      },
      "cell_type": "code",
      "source": [
        "gdrive.upload_file('basic_cnn.h5', 'application/h5')"
      ],
      "execution_count": 23,
      "outputs": [
        {
          "output_type": "stream",
          "text": [
            "File ID: 1ylbidOXjSf2UnQFOmS_fjPY1YpndAHDv\n"
          ],
          "name": "stdout"
        }
      ]
    },
    {
      "metadata": {
        "id": "omREc7AE-zuD",
        "colab_type": "code",
        "colab": {
          "base_uri": "https://localhost:8080/",
          "height": 34
        },
        "outputId": "b485c05a-067b-45da-af92-9de36d94c0e8"
      },
      "cell_type": "code",
      "source": [
        "gdrive.upload_file('mnist_cnn_model.h5', 'application/h5')"
      ],
      "execution_count": 24,
      "outputs": [
        {
          "output_type": "stream",
          "text": [
            "File ID: 1p9QCmNQ9FB4SwMAlx6kFrjW7E1jvlahR\n"
          ],
          "name": "stdout"
        }
      ]
    },
    {
      "metadata": {
        "id": "O_zApAXl-zuF",
        "colab_type": "code",
        "colab": {}
      },
      "cell_type": "code",
      "source": [
        "Inp=Input(shape=input_shape)\n",
        "x = Conv2D(32, kernel_size=(3, 3), activation='relu',name = 'Conv_01')(Inp)\n",
        "x = Conv2D(64, (3, 3), activation='relu',name = 'Conv_02')(x)\n",
        "x = MaxPooling2D(pool_size=(2, 2),name = 'MaxPool_01')(x)\n",
        "x = Conv2D(128, (3, 3), activation='relu',name = 'Conv_03')(x)\n",
        "x = Conv2D(256, (3, 3), activation='relu',name = 'Conv_04')(x)\n",
        "x = MaxPooling2D(pool_size=(2, 2),name = 'MaxPool_02')(x)\n",
        "x = Dropout(0.25,name = 'Dropout_01')(x)\n",
        "x = Flatten(name = 'Flatten_01')(x)\n",
        "x = Dense(128, activation='relu',name = 'Dense_01')(x)\n",
        "x = Dropout(0.5,name = 'Dropout_02')(x)\n",
        "output = Dense(num_classes, activation='softmax',name = 'Dense_02')(x)"
      ],
      "execution_count": 0,
      "outputs": []
    },
    {
      "metadata": {
        "id": "OB6UdMs7-zuH",
        "colab_type": "code",
        "colab": {}
      },
      "cell_type": "code",
      "source": [
        "model = Model(Inp,output)"
      ],
      "execution_count": 0,
      "outputs": []
    },
    {
      "metadata": {
        "id": "sTs5WXg2-zuJ",
        "colab_type": "text"
      },
      "cell_type": "markdown",
      "source": [
        "## Calculating the number of parameters for Convolution Networks\n",
        "\n",
        "Formula is (filters x (kernel_height x kernel_width) x inputs) 1 x filters = parameters\n",
        "\n",
        "Conv_01 = 32 Filters , 3x3 Kernel = (32 x (3x3) x 1 input) + 1bias x filters = 320 parameters  \n",
        "Conv_02 = 64 Filters , 3x3 Kernel = (64 x (3x3) x 32 inputs) + 1bias x filters = 18496 parameters   \n",
        "Conv_03 = 128 Filters , 3x3 Kernel = (128 x (3x3) x 64 input) + 1bias x filters = 73856 parameters    \n",
        "Conv_04 = 256 Filters , 3x3 Kernel = (256 x (3x3) x 128 inputs) + 1bias x filters = 295168 parameters \n",
        "\n",
        "Dense_1 = (4096 inputs * 128 units)+ 128 bias = 524,416  \n",
        "Dense_2 = (128 inputs * 10 units) +10 bias = 1290"
      ]
    },
    {
      "metadata": {
        "id": "qY-uuDO4-zuK",
        "colab_type": "code",
        "colab": {
          "base_uri": "https://localhost:8080/",
          "height": 538
        },
        "outputId": "c683d281-16c4-4970-e535-b8ad6b20e6d9"
      },
      "cell_type": "code",
      "source": [
        "model.summary()"
      ],
      "execution_count": 28,
      "outputs": [
        {
          "output_type": "stream",
          "text": [
            "_________________________________________________________________\n",
            "Layer (type)                 Output Shape              Param #   \n",
            "=================================================================\n",
            "input_3 (InputLayer)         (None, 28, 28, 1)         0         \n",
            "_________________________________________________________________\n",
            "Conv_01 (Conv2D)             (None, 26, 26, 32)        320       \n",
            "_________________________________________________________________\n",
            "Conv_02 (Conv2D)             (None, 24, 24, 64)        18496     \n",
            "_________________________________________________________________\n",
            "MaxPool_01 (MaxPooling2D)    (None, 12, 12, 64)        0         \n",
            "_________________________________________________________________\n",
            "Conv_03 (Conv2D)             (None, 10, 10, 128)       73856     \n",
            "_________________________________________________________________\n",
            "Conv_04 (Conv2D)             (None, 8, 8, 256)         295168    \n",
            "_________________________________________________________________\n",
            "MaxPool_02 (MaxPooling2D)    (None, 4, 4, 256)         0         \n",
            "_________________________________________________________________\n",
            "Dropout_01 (Dropout)         (None, 4, 4, 256)         0         \n",
            "_________________________________________________________________\n",
            "Flatten_01 (Flatten)         (None, 4096)              0         \n",
            "_________________________________________________________________\n",
            "Dense_01 (Dense)             (None, 128)               524416    \n",
            "_________________________________________________________________\n",
            "Dropout_02 (Dropout)         (None, 128)               0         \n",
            "_________________________________________________________________\n",
            "Dense_02 (Dense)             (None, 10)                1290      \n",
            "=================================================================\n",
            "Total params: 913,546\n",
            "Trainable params: 913,546\n",
            "Non-trainable params: 0\n",
            "_________________________________________________________________\n"
          ],
          "name": "stdout"
        }
      ]
    },
    {
      "metadata": {
        "id": "UAwk_YOC-zuM",
        "colab_type": "code",
        "colab": {}
      },
      "cell_type": "code",
      "source": [
        ""
      ],
      "execution_count": 0,
      "outputs": []
    },
    {
      "metadata": {
        "id": "EhG3KfDmpIVX",
        "colab_type": "code",
        "colab": {}
      },
      "cell_type": "code",
      "source": [
        ""
      ],
      "execution_count": 0,
      "outputs": []
    }
  ]
}